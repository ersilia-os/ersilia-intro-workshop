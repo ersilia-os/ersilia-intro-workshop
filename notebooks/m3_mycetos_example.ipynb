{
  "cells": [
    {
      "cell_type": "markdown",
      "metadata": {
        "colab_type": "text",
        "id": "view-in-github"
      },
      "source": [
        "<a href=\"https://colab.research.google.com/github/ersilia-os/ersilia-intro-workshop/blob/main/notebooks/m3_mycetos_example.ipynb\" target=\"_parent\"><img src=\"https://colab.research.google.com/assets/colab-badge.svg\" alt=\"Open In Colab\"/></a>"
      ]
    },
    {
      "cell_type": "markdown",
      "metadata": {},
      "source": [
        "# Mycetoma\n",
        "\n",
        "This notebook shows the steps to clean up a dataset obtained from the open source project MycetOS and train an ML model\n",
        "\n",
        "_This notebook is prepared to run locally when clonning this repository, if you want to run it in Colab please make sure to add the datasets on Colab and redirect the paths as needed_"
      ]
    },
    {
      "cell_type": "markdown",
      "metadata": {},
      "source": [
        "## 1. Data Cleaning\n",
        "\n",
        "We download the data directly from the MycetOS GitHub repository, specifically the file named MycetOS_Molecules.tsv and get the activities of interest (growth of the fungus)"
      ]
    },
    {
      "cell_type": "code",
      "execution_count": 1,
      "metadata": {},
      "outputs": [],
      "source": [
        "import os\n",
        "import pandas as pd\n",
        "from standardiser import standardise\n",
        "from rdkit import Chem\n",
        "\n",
        "DATAPATH = \"../data/m3_datasets/mycetos\""
      ]
    },
    {
      "cell_type": "code",
      "execution_count": 2,
      "metadata": {},
      "outputs": [
        {
          "name": "stderr",
          "output_type": "stream",
          "text": [
            "[13:09:10] SMILES Parse Error: syntax error while parsing: (RR)\n",
            "[13:09:10] SMILES Parse Error: Failed parsing SMILES '(RR)' for input: '(RR)'\n",
            "[13:09:10] SMILES Parse Error: syntax error while parsing: (RS)\n",
            "[13:09:10] SMILES Parse Error: Failed parsing SMILES '(RS)' for input: '(RS)'\n",
            "[13:09:10] SMILES Parse Error: syntax error while parsing: 4.3\n",
            "[13:09:10] SMILES Parse Error: Failed parsing SMILES '4.3' for input: '4.3'\n",
            "[13:09:10] SMILES Parse Error: syntax error while parsing: 4.1\n",
            "[13:09:10] SMILES Parse Error: Failed parsing SMILES '4.1' for input: '4.1'\n",
            "[13:09:10] Explicit valence for atom # 24 N, 4, is greater than permitted\n",
            "[13:09:11] SMILES Parse Error: syntax error while parsing: 5.2\n",
            "[13:09:11] SMILES Parse Error: Failed parsing SMILES '5.2' for input: '5.2'\n",
            "[13:09:11] SMILES Parse Error: syntax error while parsing: 3.5\n",
            "[13:09:11] SMILES Parse Error: Failed parsing SMILES '3.5' for input: '3.5'\n",
            "[13:09:11] SMILES Parse Error: syntax error while parsing: [][Fe][].CCCCCCCCCCCCCCCC[N+]1=CC=C(/C=C/c2cccc2)C=C1.[Br-].c3cccc3\n",
            "[13:09:11] SMILES Parse Error: Failed parsing SMILES '[][Fe][].CCCCCCCCCCCCCCCC[N+]1=CC=C(/C=C/c2cccc2)C=C1.[Br-].c3cccc3' for input: '[][Fe][].CCCCCCCCCCCCCCCC[N+]1=CC=C(/C=C/c2cccc2)C=C1.[Br-].c3cccc3'\n"
          ]
        }
      ],
      "source": [
        "df = pd.read_csv(os.path.join(DATAPATH, \"original\", \"230925_MycetOS_Molecules.tsv\"), sep=\"\\t\")\n",
        "\n",
        "columns = list(df.columns)\n",
        "df = df[columns[:4]]\n",
        "columns = columns[:4]\n",
        "\n",
        "#we eliminate those rows for which we have no activity of interest (growth in presence of 25uM of the drug)\n",
        "df = df[df[\"PercGrowth_25uM\"].notnull()]\n",
        "\n",
        "std_smi = []\n",
        "for smi in df[\"SMILES\"].tolist():\n",
        "    mol = Chem.MolFromSmiles(smi)\n",
        "    try:\n",
        "        mol = standardise.run(mol)\n",
        "        smi = Chem.MolToSmiles(mol)\n",
        "    except:\n",
        "        smi = None\n",
        "    std_smi += [smi]\n",
        "\n",
        "df[\"std_smiles\"] = std_smi\n",
        "\n",
        "# we eliminate rows for which we cannot identify the standard smiles\n",
        "df = df[df[\"std_smiles\"].notnull()] \n",
        "\n",
        "data = {\n",
        "    \"Identifier\": df[\"MYOS Codes\"].tolist(),\n",
        "    \"SMILES\": df[\"std_smiles\"].tolist(),\n",
        "    \"Growth_25uM\": df[\"PercGrowth_25uM\"]\n",
        "}\n",
        "data = pd.DataFrame(data)\n",
        "data = data.sample(data.shape[0]) #shuffle the whoele dataset\n",
        "data.to_csv(os.path.join(DATAPATH, \"processed\",\"mycetos.csv\"), index=False)"
      ]
    },
    {
      "cell_type": "markdown",
      "metadata": {
        "id": "KNF8_p8BP9hZ"
      },
      "source": [
        "## 2. Train an AI model\n",
        "\n",
        "This notebook contains the basic steps to train a classifier for bioactivity prediction.\n",
        "\n",
        "It is prepared to run on Google Colaboratory, if you want to run it locally make sure to create a conda environment with Python 3.10 and install the packages indicated below.\n",
        "\n",
        "_Remember that the ! sign indicates a bash command, to run it in the terminal simply copy the command without !_"
      ]
    },
    {
      "cell_type": "code",
      "execution_count": null,
      "metadata": {
        "colab": {
          "base_uri": "https://localhost:8080/",
          "height": 1000
        },
        "id": "DiqqsPt0Eduo",
        "outputId": "4e1581a8-1aa3-4d9c-e8db-89e6f46b8297"
      },
      "outputs": [],
      "source": [
        "# Package installation if necessary\n",
        "!pip install lazyqsar==0.3"
      ]
    },
    {
      "cell_type": "markdown",
      "metadata": {
        "id": "-goEzL25T-p-"
      },
      "source": [
        "### 2.1 Load your data\n",
        "\n",
        "Next, we will use the pandas package to load the training data. At the bare minimmum, you should have a .csv file with two columns: SMILES and Activity of the molecule against the desired target.\n",
        "\n",
        "In Google Colab, go to the left hand side of the screen and click on the `folder` icon. There, you will see a `Upload file` icon to add your files to the Cloud. You can also call them from Google Drive. These files will be deleted if the notebook is closed, so you will need to re-upload them every time.\n",
        "\n",
        "If you are working locally, just make sure to input the right path to your data file."
      ]
    },
    {
      "cell_type": "code",
      "execution_count": 3,
      "metadata": {
        "id": "apvdFbJkD8Tc"
      },
      "outputs": [],
      "source": [
        "#make sure to input the right path to your data\n",
        "\n",
        "filename = \"mycetos.csv\" \n",
        "DATAPATH = \"../data/m3_datasets/mycetos\"\n",
        "MODELPATH = \"../models\"\n",
        "FIGUREPATH = \"../figures/m3\""
      ]
    },
    {
      "cell_type": "code",
      "execution_count": 4,
      "metadata": {
        "id": "hmZhASb9Rk1c"
      },
      "outputs": [
        {
          "data": {
            "text/plain": [
              "Index(['Identifier', 'SMILES', 'Growth_25uM'], dtype='object')"
            ]
          },
          "execution_count": 4,
          "metadata": {},
          "output_type": "execute_result"
        }
      ],
      "source": [
        "# Load data into a Pandas DataFrame (df)\n",
        "# We will use the read_csv function from Pandas to automatically upload the csv file in the right format for Python\n",
        "# We need first to import the package Pandas, which we abbreviate as pd\n",
        "\n",
        "import pandas as pd\n",
        "import os\n",
        "\n",
        "df = pd.read_csv(os.path.join(DATAPATH,\"processed\", filename))\n",
        "df.columns"
      ]
    },
    {
      "cell_type": "code",
      "execution_count": 5,
      "metadata": {
        "colab": {
          "base_uri": "https://localhost:8080/"
        },
        "id": "mvBsjtHtVIQ6",
        "outputId": "598209eb-f334-4d7c-b625-9696575efe15"
      },
      "outputs": [
        {
          "data": {
            "text/plain": [
              "(382, 3)"
            ]
          },
          "execution_count": 5,
          "metadata": {},
          "output_type": "execute_result"
        }
      ],
      "source": [
        "# and its shape\n",
        "df.shape"
      ]
    },
    {
      "cell_type": "code",
      "execution_count": 6,
      "metadata": {
        "id": "DhNGnvO5559K"
      },
      "outputs": [],
      "source": [
        "# Let's get the variables right!\n",
        "# If the column name changes, you need to change these variables\n",
        "# Remember Python strings are case-sensitive\n",
        "SMILES = \"SMILES\"\n",
        "EXP = \"Growth_25uM\"\n",
        "BIN = \"bin\""
      ]
    },
    {
      "cell_type": "markdown",
      "metadata": {
        "id": "zSEpGWggVPp3"
      },
      "source": [
        "### 2.2 Define a cut-off\n",
        "\n",
        "Since we will create a classifier, we need to decide at which cut-off we consider our molecules `Active` or `Inactive`.\n",
        "\n",
        "We can visualise our data with a histogram for example to make the decision, or we can ask the original data producers for their expert recommendation."
      ]
    },
    {
      "cell_type": "code",
      "execution_count": 8,
      "metadata": {
        "colab": {
          "base_uri": "https://localhost:8080/"
        },
        "id": "8xmKsGu5VLv2",
        "outputId": "77de6321-ac46-43ba-f0db-11197aeb3914"
      },
      "outputs": [
        {
          "data": {
            "text/plain": [
              "(array([119.,  32.,  38.,  73.,  93.,  23.,   3.,   0.,   0.,   1.]),\n",
              " array([ -4.8 ,  14.89,  34.58,  54.27,  73.96,  93.65, 113.34, 133.03,\n",
              "        152.72, 172.41, 192.1 ]),\n",
              " <BarContainer object of 10 artists>)"
            ]
          },
          "execution_count": 8,
          "metadata": {},
          "output_type": "execute_result"
        },
        {
          "data": {
            "image/png": "[encoded data removed]",
            "text/plain": [
              "<Figure size 640x480 with 1 Axes>"
            ]
          },
          "metadata": {},
          "output_type": "display_data"
        }
      ],
      "source": [
        "# We import the plotting package Matplotlib, abbreviated as plt\n",
        "import matplotlib.pyplot as plt\n",
        "\n",
        "# We select the variable we want to plot in the histogram, in this case the activity values\n",
        "x = df[EXP] #here you need to write the exact column name, respecting Caps\n",
        "# We now plot the data using the histogram function\n",
        "plt.hist(x)"
      ]
    },
    {
      "cell_type": "code",
      "execution_count": 10,
      "metadata": {
        "colab": {
          "base_uri": "https://localhost:8080/",
          "height": 467
        },
        "id": "gMphsUGjWDmp",
        "outputId": "6653c6aa-0a37-4bde-cfa5-e489959eea79"
      },
      "outputs": [
        {
          "data": {
            "text/plain": [
              "Text(0, 0.5, 'Number of mols')"
            ]
          },
          "execution_count": 10,
          "metadata": {},
          "output_type": "execute_result"
        },
        {
          "data": {
            "image/png": "[encoded data removed]",
            "text/plain": [
              "<Figure size 640x480 with 1 Axes>"
            ]
          },
          "metadata": {},
          "output_type": "display_data"
        }
      ],
      "source": [
        "# Depending on our data, we might want to improve the plot for better visualization\n",
        "# here, we clip the maximmum values to 20\n",
        "plt.hist(x, range=(x.min(), 100))\n",
        "plt.xlabel(\"Percentage of growth\")\n",
        "plt.ylabel(\"Number of mols\")"
      ]
    },
    {
      "cell_type": "markdown",
      "metadata": {
        "id": "w6XkTh6Qhh81"
      },
      "source": [
        "To identify the best activity cut-off for your data, you need to:\n",
        "- Understand the experimental set up: what kind of assay was done? what is the units of activity measured?\n",
        "- Understand what is the end goal for the model: is it obtaining the most active compounds? Is it to filter our some non-actives to reduce the test number?\n",
        "- Ask the experts! Talk to the people who ran the experiment, if possible\n",
        "\n",
        "Once you have the cut-off, transform the activities to binary. Typically, by consensus:\n",
        "- 1: Active (the compound perturbs our biological system)\n",
        "- 0: Inactive (the compound does not affect our biolgical system)"
      ]
    },
    {
      "cell_type": "code",
      "execution_count": 11,
      "metadata": {
        "id": "Cd_dkIydi0ya"
      },
      "outputs": [],
      "source": [
        "# @title Activity cut-off { display-mode: \"form\" }\n",
        "# We identify a good cut-off for our data and assign the variable cutoff\n",
        "cutoff = 20 # @param {type:\"number\"}"
      ]
    },
    {
      "cell_type": "code",
      "execution_count": 12,
      "metadata": {
        "id": "TukAkeBRjRIN"
      },
      "outputs": [],
      "source": [
        "# @title Direction of activity { display-mode: \"form\" }\n",
        "# Are our actives lower than the cut-off, or higher than the cut-off?\n",
        "direction = \"lower\" # @param {type:\"string\"}"
      ]
    },
    {
      "cell_type": "code",
      "execution_count": 13,
      "metadata": {
        "id": "mf-bD2Y3YYnk"
      },
      "outputs": [],
      "source": [
        "# Here, we will create a new column in our file with the binary activity\n",
        "\n",
        "if direction == \"lower\":\n",
        "    df[BIN] = [1 if x <= cutoff else 0 for x in df[EXP]]\n",
        "elif direction == \"higher\":\n",
        "    df[BIN] = [1 if x >= cutoff else 0 for x in df[EXP]]\n",
        "else:\n",
        "    print(\"no direction specified. Please select lower or higher direction for the activity cut-off\")"
      ]
    },
    {
      "cell_type": "code",
      "execution_count": 14,
      "metadata": {
        "colab": {
          "base_uri": "https://localhost:8080/",
          "height": 424
        },
        "id": "Tz5SbNKUihjB",
        "outputId": "2113f79f-73a0-4d45-c091-e4261396b647"
      },
      "outputs": [
        {
          "data": {
            "text/html": [
              "<div>\n",
              "<style scoped>\n",
              "    .dataframe tbody tr th:only-of-type {\n",
              "        vertical-align: middle;\n",
              "    }\n",
              "\n",
              "    .dataframe tbody tr th {\n",
              "        vertical-align: top;\n",
              "    }\n",
              "\n",
              "    .dataframe thead th {\n",
              "        text-align: right;\n",
              "    }\n",
              "</style>\n",
              "<table border=\"1\" class=\"dataframe\">\n",
              "  <thead>\n",
              "    <tr style=\"text-align: right;\">\n",
              "      <th></th>\n",
              "      <th>Identifier</th>\n",
              "      <th>SMILES</th>\n",
              "      <th>Growth_25uM</th>\n",
              "      <th>bin</th>\n",
              "    </tr>\n",
              "  </thead>\n",
              "  <tbody>\n",
              "    <tr>\n",
              "      <th>0</th>\n",
              "      <td>MYOS_00378_00_01</td>\n",
              "      <td>O=C1C=Cc2ccccc2C1=O</td>\n",
              "      <td>11.5</td>\n",
              "      <td>1</td>\n",
              "    </tr>\n",
              "    <tr>\n",
              "      <th>1</th>\n",
              "      <td>MYOS_00337_00_01</td>\n",
              "      <td>Cc1cccc(CC(=O)Nc2nc3cc(Br)ccc3o2)c1</td>\n",
              "      <td>7.1</td>\n",
              "      <td>1</td>\n",
              "    </tr>\n",
              "    <tr>\n",
              "      <th>2</th>\n",
              "      <td>MYOS_00223_00_01</td>\n",
              "      <td>O=C1/C(=C/c2ccc(F)cc2F)CN(C(=O)/C=C/c2ccccc2)C...</td>\n",
              "      <td>47.5</td>\n",
              "      <td>0</td>\n",
              "    </tr>\n",
              "    <tr>\n",
              "      <th>3</th>\n",
              "      <td>MYOS_00139_00_01</td>\n",
              "      <td>O=C1CCN(C(c2cccnc2)c2ccc(Cl)cc2F)CC1</td>\n",
              "      <td>79.2</td>\n",
              "      <td>0</td>\n",
              "    </tr>\n",
              "    <tr>\n",
              "      <th>4</th>\n",
              "      <td>MYOS_00220_00_01</td>\n",
              "      <td>COc1cc(/C=C/C(=O)CC(=O)/C=C/c2ccc(O)c(OC)c2)ccc1O</td>\n",
              "      <td>76.2</td>\n",
              "      <td>0</td>\n",
              "    </tr>\n",
              "    <tr>\n",
              "      <th>...</th>\n",
              "      <td>...</td>\n",
              "      <td>...</td>\n",
              "      <td>...</td>\n",
              "      <td>...</td>\n",
              "    </tr>\n",
              "    <tr>\n",
              "      <th>377</th>\n",
              "      <td>MYOS_00241_00_01</td>\n",
              "      <td>C=C(C)[C@@H]1CC[C@]2(C/N=C/c3ccc([N+](=O)[O-])...</td>\n",
              "      <td>80.6</td>\n",
              "      <td>0</td>\n",
              "    </tr>\n",
              "    <tr>\n",
              "      <th>378</th>\n",
              "      <td>MYOS_00308_00_01</td>\n",
              "      <td>Cc1cccc(-c2csc(Nc3cc(C)ccn3)n2)c1</td>\n",
              "      <td>93.8</td>\n",
              "      <td>0</td>\n",
              "    </tr>\n",
              "    <tr>\n",
              "      <th>379</th>\n",
              "      <td>MYOS_00092_00_01</td>\n",
              "      <td>O=C(NC1CCN(C(c2ccc(C(F)(F)F)cc2)c2cnccn2)CC1)c...</td>\n",
              "      <td>82.4</td>\n",
              "      <td>0</td>\n",
              "    </tr>\n",
              "    <tr>\n",
              "      <th>380</th>\n",
              "      <td>MYOS_00001_00_01</td>\n",
              "      <td>CCOC(=O)N1CCN(C(c2cccnc2)c2ccc(Cl)cc2F)CC1</td>\n",
              "      <td>19.5</td>\n",
              "      <td>1</td>\n",
              "    </tr>\n",
              "    <tr>\n",
              "      <th>381</th>\n",
              "      <td>MYOS_00197_00_01</td>\n",
              "      <td>N#Cc1cccc(N2CCN(C(c3cccnc3)c3ccc(Cl)cc3F)CC2)c1</td>\n",
              "      <td>7.4</td>\n",
              "      <td>1</td>\n",
              "    </tr>\n",
              "  </tbody>\n",
              "</table>\n",
              "<p>382 rows × 4 columns</p>\n",
              "</div>"
            ],
            "text/plain": [
              "           Identifier                                             SMILES  \\\n",
              "0    MYOS_00378_00_01                                O=C1C=Cc2ccccc2C1=O   \n",
              "1    MYOS_00337_00_01                Cc1cccc(CC(=O)Nc2nc3cc(Br)ccc3o2)c1   \n",
              "2    MYOS_00223_00_01  O=C1/C(=C/c2ccc(F)cc2F)CN(C(=O)/C=C/c2ccccc2)C...   \n",
              "3    MYOS_00139_00_01               O=C1CCN(C(c2cccnc2)c2ccc(Cl)cc2F)CC1   \n",
              "4    MYOS_00220_00_01  COc1cc(/C=C/C(=O)CC(=O)/C=C/c2ccc(O)c(OC)c2)ccc1O   \n",
              "..                ...                                                ...   \n",
              "377  MYOS_00241_00_01  C=C(C)[C@@H]1CC[C@]2(C/N=C/c3ccc([N+](=O)[O-])...   \n",
              "378  MYOS_00308_00_01                  Cc1cccc(-c2csc(Nc3cc(C)ccn3)n2)c1   \n",
              "379  MYOS_00092_00_01  O=C(NC1CCN(C(c2ccc(C(F)(F)F)cc2)c2cnccn2)CC1)c...   \n",
              "380  MYOS_00001_00_01         CCOC(=O)N1CCN(C(c2cccnc2)c2ccc(Cl)cc2F)CC1   \n",
              "381  MYOS_00197_00_01    N#Cc1cccc(N2CCN(C(c3cccnc3)c3ccc(Cl)cc3F)CC2)c1   \n",
              "\n",
              "     Growth_25uM  bin  \n",
              "0           11.5    1  \n",
              "1            7.1    1  \n",
              "2           47.5    0  \n",
              "3           79.2    0  \n",
              "4           76.2    0  \n",
              "..           ...  ...  \n",
              "377         80.6    0  \n",
              "378         93.8    0  \n",
              "379         82.4    0  \n",
              "380         19.5    1  \n",
              "381          7.4    1  \n",
              "\n",
              "[382 rows x 4 columns]"
            ]
          },
          "execution_count": 14,
          "metadata": {},
          "output_type": "execute_result"
        }
      ],
      "source": [
        "# Let's check the output\n",
        "df"
      ]
    },
    {
      "cell_type": "code",
      "execution_count": 15,
      "metadata": {
        "colab": {
          "base_uri": "https://localhost:8080/"
        },
        "id": "d6YSdNnRkd5l",
        "outputId": "5bc1c994-9eb5-4965-d63d-12084ece9c77"
      },
      "outputs": [
        {
          "name": "stdout",
          "output_type": "stream",
          "text": [
            "Total molecules:  382\n",
            "Active molecules:  133\n",
            "Inactive molecules:  249\n",
            "Frequency of Actives (%):  34.81675392670157\n"
          ]
        }
      ],
      "source": [
        "# We can print how many actives / inactives we have in our dataset\n",
        "print(\"Total molecules: \", len(df))\n",
        "print(\"Active molecules: \", len(df[df[BIN]==1]))\n",
        "print(\"Inactive molecules: \", len(df[df[BIN]==0]))\n",
        "print(\"Frequency of Actives (%): \", len(df[df[BIN]==1])/len(df)*100)"
      ]
    },
    {
      "cell_type": "markdown",
      "metadata": {
        "id": "FFM0ERcUj3uL"
      },
      "source": [
        "### 2.3 Divide the data into Train and Test sets\n",
        "\n",
        "To make sure our model will have good performance, we need to keep part of the data as a test set, to evaluate the model once trained.\n",
        "\n",
        "Typically, it is good practice to reserve ~20% of the data as test set. Make sure that the balance of actives / inactives is maintained both in the train and the test sets.\n",
        "\n",
        "We will try a 5-fold cross-validation (run 5 times random train-test split sets and evaluate the different model performances)"
      ]
    },
    {
      "cell_type": "code",
      "execution_count": 16,
      "metadata": {
        "id": "znw48FdFj0Z7"
      },
      "outputs": [],
      "source": [
        "# We will use this function to split the data\n",
        "# The function uses the sklearn train_test_split built-in method\n",
        "from sklearn.model_selection import train_test_split\n",
        "import numpy as np\n",
        "\n",
        "def random_split(df, size):\n",
        "    indices = np.arange(len(df))\n",
        "    X_train, X_test, y_train, y_test, i_train, i_test = train_test_split(df[SMILES], df[EXP], indices, test_size=size, stratify=df[BIN])\n",
        "    train = df.iloc[i_train]\n",
        "    test = df.iloc[i_test]\n",
        "    return train, test"
      ]
    },
    {
      "cell_type": "code",
      "execution_count": 17,
      "metadata": {
        "id": "WAC8hkvLlX8N"
      },
      "outputs": [],
      "source": [
        "for i in range(5):\n",
        "    train, test = random_split(df, 0.2)\n",
        "    train.to_csv(os.path.join(DATAPATH,\"train_test_splits\", \"train_set_{}.csv\".format(i)), index=False)\n",
        "    test.to_csv(os.path.join(DATAPATH,\"train_test_splits\", \"test_set_{}.csv\".format(i)), index=False)"
      ]
    },
    {
      "cell_type": "code",
      "execution_count": 18,
      "metadata": {
        "colab": {
          "base_uri": "https://localhost:8080/"
        },
        "id": "zFotFHxnleQj",
        "outputId": "4f1969ae-d193-409e-e77e-96675f92744f"
      },
      "outputs": [
        {
          "name": "stdout",
          "output_type": "stream",
          "text": [
            "The frequency of Actives in the train set is:  34.75409836065574\n",
            "The frequency of Actives in the test set is:  35.064935064935064\n"
          ]
        }
      ],
      "source": [
        "# We can make sure the active / inactive balance was preserved\n",
        "train_balance = len(train[train[BIN]==1])/len(train)*100\n",
        "test_balance = len(test[test[BIN]==1])/len(test)*100\n",
        "\n",
        "print(\"The frequency of Actives in the train set is: \", train_balance)\n",
        "print(\"The frequency of Actives in the test set is: \", test_balance)"
      ]
    },
    {
      "cell_type": "markdown",
      "metadata": {
        "id": "d-1cJPtbqZdt"
      },
      "source": [
        "_* We have individually created the descriptors so that we can check how they look like. Luckily, LazyQSAR provides a single funtion to convert the smiles to vectors and train an ML model, so we will use that feature_"
      ]
    },
    {
      "cell_type": "markdown",
      "metadata": {
        "id": "BXb5IfUeqMNi"
      },
      "source": [
        "### 2.4 Train an ML model & get the predictions with Morgan Fingerprints\n",
        "\n",
        "We have our input (morgan descriptors) and the endpoint, the activity in binary format (1 or 0) so we are ready to train a classifier!\n",
        "We will use the built-in method in LazyQSAR"
      ]
    },
    {
      "cell_type": "code",
      "execution_count": 19,
      "metadata": {
        "colab": {
          "base_uri": "https://localhost:8080/"
        },
        "id": "yo3CxlLhqADe",
        "outputId": "fca23036-bf9c-440d-a231-c7d99e6c97ef"
      },
      "outputs": [],
      "source": [
        "%%capture\n",
        "\n",
        "import lazyqsar as lq\n",
        "\n",
        "for i in range(5):\n",
        "    train = pd.read_csv(os.path.join(DATAPATH,\"train_test_split\",\"train_set_{}.csv\".format(i)))\n",
        "    test = pd.read_csv(os.path.join(DATAPATH,\"train_test_splits\",\"test_set_{}.csv\".format(i)))\n",
        "    smiles_train = train[SMILES]\n",
        "    y_train = train[BIN]\n",
        "    model = lq.MorganBinaryClassifier(time_budget_sec=60, estimator_list=[\"rf\", \"lgbm\", \"xgboost\"])\n",
        "    model.fit(train[SMILES], train[BIN])\n",
        "    y_hat = model.predict_proba(test[SMILES])\n",
        "    test[\"proba1\"] = y_hat[:,1]\n",
        "    test.to_csv(os.path.join(DATAPATH,\"train_test_splits\",\"test_set_pred_morgan_{}.csv\".format(i)))"
      ]
    },
    {
      "cell_type": "markdown",
      "metadata": {
        "id": "XUILW9kTsXBW"
      },
      "source": [
        "#### The ROC-AUC curve"
      ]
    },
    {
      "cell_type": "code",
      "execution_count": 20,
      "metadata": {
        "colab": {
          "base_uri": "https://localhost:8080/",
          "height": 487
        },
        "id": "JE2ln7pL8Iz5",
        "outputId": "d8607276-4287-49f6-8a77-6cc9685b33f1"
      },
      "outputs": [
        {
          "data": {
            "image/png": "[encoded data removed]",
            "text/plain": [
              "<Figure size 640x480 with 1 Axes>"
            ]
          },
          "metadata": {},
          "output_type": "display_data"
        }
      ],
      "source": [
        "from sklearn import metrics\n",
        "import matplotlib.pyplot as plt\n",
        "\n",
        "fig, ax = plt.subplots(1,1)\n",
        "\n",
        "aucs = []\n",
        "tprs = []\n",
        "mean_fpr = np.linspace(0,1,100)\n",
        "for i in range(5):\n",
        "    test = pd.read_csv(os.path.join(DATAPATH, \"train_test_splits\", \"test_set_pred_morgan_{}.csv\".format(i)))\n",
        "    fpr, tpr, _ = metrics.roc_curve(test[BIN],test[\"proba1\"])\n",
        "    roc_auc = metrics.auc(fpr, tpr)\n",
        "    interp_tpr = np.interp(mean_fpr, fpr, tpr)\n",
        "    interp_tpr[0] = 0.0\n",
        "    tprs.append(interp_tpr)\n",
        "    aucs.append(roc_auc)\n",
        "\n",
        "mean_tpr = np.mean(tprs, axis=0)\n",
        "mean_tpr[-1] = 1.0\n",
        "mean_auc = metrics.auc(mean_fpr, mean_tpr)\n",
        "std_auc = np.std(aucs)\n",
        "\n",
        "ax.plot(\n",
        "        mean_fpr,\n",
        "        mean_tpr,\n",
        "        color=\"#50285a\",\n",
        "        label=r\"AUC = %0.2f $\\pm$ %0.2f\" % (mean_auc, std_auc),\n",
        "    )\n",
        "ax.plot([0, 1], [0, 1], ls=\"--\")\n",
        "std_tpr = np.std(tprs, axis=0)\n",
        "tprs_upper = np.minimum(mean_tpr + std_tpr, 1)\n",
        "tprs_lower = np.maximum(mean_tpr - std_tpr, 0)\n",
        "ax.fill_between(\n",
        "    mean_fpr,\n",
        "    tprs_lower,\n",
        "    tprs_upper,\n",
        "    color=\"#d2d2d0\",\n",
        "    alpha=0.6,\n",
        "    label=r\"$\\pm$ 1 std. dev.\",\n",
        "    )\n",
        "ax.set(\n",
        "        xlim=[-0.05, 1.05],\n",
        "        ylim=[-0.05, 1.05],\n",
        "        )\n",
        "ax.legend(loc=\"lower right\")\n",
        "ax.set_xlabel=\"1-Specificity (FPR)\",\n",
        "ax.set_ylabel=\"Sensitivity (TPR)\",\n",
        "plt.tight_layout()\n",
        "plt.savefig(os.path.join(FIGUREPATH, \"roc_mycetos_morgan.png\"), dpi=300)"
      ]
    },
    {
      "cell_type": "markdown",
      "metadata": {
        "id": "Ynip8QoLwjhy"
      },
      "source": [
        "### 2.5 Train an ML Model with Ersilia Compound Embeddings"
      ]
    },
    {
      "cell_type": "code",
      "execution_count": 22,
      "metadata": {
        "colab": {
          "base_uri": "https://localhost:8080/"
        },
        "id": "d5BO-3q2_wHu",
        "outputId": "150671e8-fcd4-4403-dad5-7ea6e3690357"
      },
      "outputs": [],
      "source": [
        "%%capture\n",
        "\n",
        "import lazyqsar as lq\n",
        "\n",
        "for i in range(5):\n",
        "    train = pd.read_csv(os.path.join(DATAPATH,\"train_test_splits\",\"train_set_{}.csv\".format(i)))\n",
        "    test = pd.read_csv(os.path.join(DATAPATH,\"train_test_splits\",\"test_set_{}.csv\".format(i)))\n",
        "    smiles_train = train[SMILES]\n",
        "    y_train = train[BIN]\n",
        "    model = lq.ErsiliaBinaryClassifier(time_budget_sec=60, estimator_list=[\"rf\", \"lgbm\", \"xgboost\"])\n",
        "    model.fit(train[SMILES], train[BIN])\n",
        "    y_hat = model.predict_proba(test[SMILES])\n",
        "    test[\"proba1\"] = y_hat[:,1]\n",
        "    test.to_csv(os.path.join(DATAPATH,\"train_test_splits\",\"test_set_pred_eosce_{}.csv\".format(i)))"
      ]
    },
    {
      "cell_type": "code",
      "execution_count": 23,
      "metadata": {
        "colab": {
          "base_uri": "https://localhost:8080/",
          "height": 487
        },
        "id": "Bg9HcGGb_6rA",
        "outputId": "7386d63e-1b4b-4609-ef84-4b0fd6d776fe"
      },
      "outputs": [
        {
          "data": {
            "image/png": "[encoded data removed]",
            "text/plain": [
              "<Figure size 640x480 with 1 Axes>"
            ]
          },
          "metadata": {},
          "output_type": "display_data"
        }
      ],
      "source": [
        "from sklearn import metrics\n",
        "import matplotlib.pyplot as plt\n",
        "\n",
        "fig, ax = plt.subplots(1,1)\n",
        "\n",
        "aucs = []\n",
        "tprs = []\n",
        "mean_fpr = np.linspace(0,1,100)\n",
        "for i in range(5):\n",
        "    test = pd.read_csv(os.path.join(DATAPATH, \"train_test_splits\", \"test_set_pred_eosce_{}.csv\".format(i)))\n",
        "    fpr, tpr, _ = metrics.roc_curve(test[BIN],test[\"proba1\"])\n",
        "    roc_auc = metrics.auc(fpr, tpr)\n",
        "    interp_tpr = np.interp(mean_fpr, fpr, tpr)\n",
        "    interp_tpr[0] = 0.0\n",
        "    tprs.append(interp_tpr)\n",
        "    aucs.append(roc_auc)\n",
        "\n",
        "mean_tpr = np.mean(tprs, axis=0)\n",
        "mean_tpr[-1] = 1.0\n",
        "mean_auc = metrics.auc(mean_fpr, mean_tpr)\n",
        "std_auc = np.std(aucs)\n",
        "\n",
        "ax.plot(\n",
        "        mean_fpr,\n",
        "        mean_tpr,\n",
        "        color=\"#50285a\",\n",
        "        label=r\"AUC = %0.2f $\\pm$ %0.2f\" % (mean_auc, std_auc),\n",
        "    )\n",
        "ax.plot([0, 1], [0, 1], ls=\"--\")\n",
        "std_tpr = np.std(tprs, axis=0)\n",
        "tprs_upper = np.minimum(mean_tpr + std_tpr, 1)\n",
        "tprs_lower = np.maximum(mean_tpr - std_tpr, 0)\n",
        "ax.fill_between(\n",
        "    mean_fpr,\n",
        "    tprs_lower,\n",
        "    tprs_upper,\n",
        "    color=\"gray\",\n",
        "    alpha=0.6,\n",
        "    label=r\"$\\pm$ 1 std. dev.\",\n",
        "    )\n",
        "ax.set(\n",
        "        xlim=[-0.05, 1.05],\n",
        "        ylim=[-0.05, 1.05],\n",
        "        )\n",
        "ax.legend(loc=\"lower right\")\n",
        "ax.set_xlabel=\"1-Specificity (FPR)\",\n",
        "ax.set_ylabel=\"Sensitivity (TPR)\",\n",
        "plt.tight_layout()\n",
        "plt.savefig(os.path.join(FIGUREPATH, \"roc_mycetos_eosce.png\"), dpi=300)"
      ]
    },
    {
      "cell_type": "markdown",
      "metadata": {
        "id": "Q7WSSnM0q7Jx"
      },
      "source": [
        "### 2.6 Save the final model\n",
        "\n",
        "To ensure we use all possible data, at the end of the pipeline we will train the model with the whole dataset (train and test) and save it as the final model for deployment.\n",
        "\n",
        "We need to choose which descriptor and parameters will work better for our case and build the model accordingly. We obtain that from the best train-test experiment."
      ]
    },
    {
      "cell_type": "code",
      "execution_count": 24,
      "metadata": {
        "colab": {
          "base_uri": "https://localhost:8080/"
        },
        "id": "TbdUVEkdq4_1",
        "outputId": "f1d60123-c890-44cf-f7ab-5bf71c719bba"
      },
      "outputs": [
        {
          "name": "stderr",
          "output_type": "stream",
          "text": [
            "`use_label_encoder` is deprecated in 1.7.0.\n",
            "`use_label_encoder` is deprecated in 1.7.0.\n",
            "`use_label_encoder` is deprecated in 1.7.0.\n",
            "`use_label_encoder` is deprecated in 1.7.0.\n",
            "`use_label_encoder` is deprecated in 1.7.0.\n",
            "`use_label_encoder` is deprecated in 1.7.0.\n",
            "`use_label_encoder` is deprecated in 1.7.0.\n",
            "`use_label_encoder` is deprecated in 1.7.0.\n",
            "`use_label_encoder` is deprecated in 1.7.0.\n",
            "`use_label_encoder` is deprecated in 1.7.0.\n",
            "`use_label_encoder` is deprecated in 1.7.0.\n",
            "`use_label_encoder` is deprecated in 1.7.0.\n",
            "`use_label_encoder` is deprecated in 1.7.0.\n",
            "`use_label_encoder` is deprecated in 1.7.0.\n",
            "`use_label_encoder` is deprecated in 1.7.0.\n",
            "`use_label_encoder` is deprecated in 1.7.0.\n",
            "`use_label_encoder` is deprecated in 1.7.0.\n",
            "`use_label_encoder` is deprecated in 1.7.0.\n",
            "`use_label_encoder` is deprecated in 1.7.0.\n",
            "`use_label_encoder` is deprecated in 1.7.0.\n",
            "`use_label_encoder` is deprecated in 1.7.0.\n",
            "`use_label_encoder` is deprecated in 1.7.0.\n",
            "`use_label_encoder` is deprecated in 1.7.0.\n",
            "`use_label_encoder` is deprecated in 1.7.0.\n",
            "`use_label_encoder` is deprecated in 1.7.0.\n",
            "`use_label_encoder` is deprecated in 1.7.0.\n",
            "`use_label_encoder` is deprecated in 1.7.0.\n",
            "`use_label_encoder` is deprecated in 1.7.0.\n",
            "`use_label_encoder` is deprecated in 1.7.0.\n",
            "`use_label_encoder` is deprecated in 1.7.0.\n",
            "`use_label_encoder` is deprecated in 1.7.0.\n",
            "`use_label_encoder` is deprecated in 1.7.0.\n",
            "`use_label_encoder` is deprecated in 1.7.0.\n",
            "`use_label_encoder` is deprecated in 1.7.0.\n",
            "`use_label_encoder` is deprecated in 1.7.0.\n",
            "`use_label_encoder` is deprecated in 1.7.0.\n",
            "`use_label_encoder` is deprecated in 1.7.0.\n",
            "`use_label_encoder` is deprecated in 1.7.0.\n",
            "`use_label_encoder` is deprecated in 1.7.0.\n",
            "`use_label_encoder` is deprecated in 1.7.0.\n",
            "`use_label_encoder` is deprecated in 1.7.0.\n",
            "`use_label_encoder` is deprecated in 1.7.0.\n",
            "`use_label_encoder` is deprecated in 1.7.0.\n",
            "`use_label_encoder` is deprecated in 1.7.0.\n",
            "`use_label_encoder` is deprecated in 1.7.0.\n",
            "`use_label_encoder` is deprecated in 1.7.0.\n",
            "`use_label_encoder` is deprecated in 1.7.0.\n",
            "`use_label_encoder` is deprecated in 1.7.0.\n",
            "`use_label_encoder` is deprecated in 1.7.0.\n",
            "`use_label_encoder` is deprecated in 1.7.0.\n",
            "`use_label_encoder` is deprecated in 1.7.0.\n",
            "`use_label_encoder` is deprecated in 1.7.0.\n",
            "`use_label_encoder` is deprecated in 1.7.0.\n",
            "`use_label_encoder` is deprecated in 1.7.0.\n",
            "`use_label_encoder` is deprecated in 1.7.0.\n",
            "`use_label_encoder` is deprecated in 1.7.0.\n",
            "`use_label_encoder` is deprecated in 1.7.0.\n",
            "`use_label_encoder` is deprecated in 1.7.0.\n",
            "`use_label_encoder` is deprecated in 1.7.0.\n",
            "`use_label_encoder` is deprecated in 1.7.0.\n",
            "`use_label_encoder` is deprecated in 1.7.0.\n",
            "`use_label_encoder` is deprecated in 1.7.0.\n",
            "`use_label_encoder` is deprecated in 1.7.0.\n",
            "`use_label_encoder` is deprecated in 1.7.0.\n",
            "`use_label_encoder` is deprecated in 1.7.0.\n",
            "`use_label_encoder` is deprecated in 1.7.0.\n",
            "`use_label_encoder` is deprecated in 1.7.0.\n",
            "`use_label_encoder` is deprecated in 1.7.0.\n",
            "`use_label_encoder` is deprecated in 1.7.0.\n",
            "`use_label_encoder` is deprecated in 1.7.0.\n",
            "`use_label_encoder` is deprecated in 1.7.0.\n",
            "`use_label_encoder` is deprecated in 1.7.0.\n",
            "`use_label_encoder` is deprecated in 1.7.0.\n",
            "`use_label_encoder` is deprecated in 1.7.0.\n",
            "`use_label_encoder` is deprecated in 1.7.0.\n",
            "`use_label_encoder` is deprecated in 1.7.0.\n",
            "`use_label_encoder` is deprecated in 1.7.0.\n",
            "`use_label_encoder` is deprecated in 1.7.0.\n",
            "`use_label_encoder` is deprecated in 1.7.0.\n",
            "`use_label_encoder` is deprecated in 1.7.0.\n",
            "`use_label_encoder` is deprecated in 1.7.0.\n",
            "`use_label_encoder` is deprecated in 1.7.0.\n",
            "`use_label_encoder` is deprecated in 1.7.0.\n",
            "`use_label_encoder` is deprecated in 1.7.0.\n",
            "`use_label_encoder` is deprecated in 1.7.0.\n",
            "`use_label_encoder` is deprecated in 1.7.0.\n",
            "`use_label_encoder` is deprecated in 1.7.0.\n",
            "`use_label_encoder` is deprecated in 1.7.0.\n",
            "`use_label_encoder` is deprecated in 1.7.0.\n",
            "`use_label_encoder` is deprecated in 1.7.0.\n",
            "`use_label_encoder` is deprecated in 1.7.0.\n",
            "`use_label_encoder` is deprecated in 1.7.0.\n",
            "`use_label_encoder` is deprecated in 1.7.0.\n",
            "`use_label_encoder` is deprecated in 1.7.0.\n",
            "`use_label_encoder` is deprecated in 1.7.0.\n",
            "`use_label_encoder` is deprecated in 1.7.0.\n"
          ]
        }
      ],
      "source": [
        "# train the model with the full data\n",
        "import lazyqsar as lq\n",
        "smiles_train = df[SMILES]\n",
        "y_train = df[BIN]\n",
        "model = lq.MorganBinaryClassifier(time_budget_sec=60, estimator_list=[\"rf\", \"lgbm\", \"xgboost\"])\n",
        "model.fit(smiles_train, y_train)\n",
        "model.save(os.path.join(MODELPATH,\"mycetos_morgan_model.joblib\"))"
      ]
    }
  ],
  "metadata": {
    "colab": {
      "authorship_tag": "ABX9TyMTUxjJmAR8gyq5/QYeqLXK",
      "include_colab_link": true,
      "provenance": []
    },
    "kernelspec": {
      "display_name": "Python 3",
      "name": "python3"
    },
    "language_info": {
      "codemirror_mode": {
        "name": "ipython",
        "version": 3
      },
      "file_extension": ".py",
      "mimetype": "text/x-python",
      "name": "python",
      "nbconvert_exporter": "python",
      "pygments_lexer": "ipython3",
      "version": "3.10.11"
    }
  },
  "nbformat": 4,
  "nbformat_minor": 0
}
