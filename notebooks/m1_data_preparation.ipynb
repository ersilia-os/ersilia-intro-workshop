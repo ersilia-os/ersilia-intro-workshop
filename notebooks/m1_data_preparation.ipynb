{
 "cells": [
  {
   "cell_type": "markdown",
   "metadata": {},
   "source": [
    "# Prepare workshop datasets\n",
    "\n",
    "- eos9yui - Natural product score\n",
    "- eos6oli - Solubility\n",
    "- eos4rta - MMV\n",
    "- eos7yti - OSM\n",
    "- eos4e41 - ChemProp antibiotic\n",
    "- eos9ei3 - Synthetic accessibility\n",
    "- eos3le9 - HepG2 cytotoxicity\n",
    "- eos4tcc - Bayes hERG\n",
    "- eos2l0q - Schistosomiasis"
   ]
  },
  {
   "cell_type": "code",
   "execution_count": null,
   "metadata": {},
   "outputs": [],
   "source": [
    "import pandas as pd\n",
    "import numpy as np\n",
    "import os\n",
    "\n",
    "DATAPATH = \"../data/m1_datasets\""
   ]
  },
  {
   "cell_type": "code",
   "execution_count": null,
   "metadata": {},
   "outputs": [],
   "source": [
    "from ersilia.utils.identifiers.compound import CompoundIdentifier\n",
    "\n",
    "ci = CompoundIdentifier()\n",
    "\n",
    "def model_filename(source, model_id):\n",
    "    return os.path.join(DATAPATH, \"precalculations\", \"{0}_50k_{1}.csv\".format(source, model_id))\n",
    "\n",
    "def select_compounds(source):\n",
    "    n = 800\n",
    "    assert source in [\"chembl\", \"coconut\"]\n",
    "    file_name = model_filename(source, \"eos4rta\")\n",
    "    df = pd.read_csv(file_name)\n",
    "    inchikeys = list(df[\"key\"])\n",
    "    col = \"NF54_IC50_72h_1uM\"\n",
    "    df = df.sort_values(by = col, ascending=False).reset_index(drop=True).head(n)\n",
    "    keys_sets = []\n",
    "    keys_sets += [set(df[\"key\"])]\n",
    "    if source == \"coconut\":\n",
    "        n = 12000\n",
    "    else:\n",
    "        n = 17000\n",
    "    file_name = model_filename(source, \"eos6oli\")\n",
    "    df = pd.read_csv(file_name)\n",
    "    df = df.sort_values(by = \"solubility\", ascending=False).reset_index(drop=True)\n",
    "    keys_sets += [set(df.head(n)[\"key\"]).union(set(df.tail(n)[\"key\"]))]\n",
    "    file_name = model_filename(source, \"eos4e41\")\n",
    "    df = pd.read_csv(file_name)\n",
    "    df = df.sort_values(by = \"50uM_Inhibition\", ascending=False).reset_index(drop=True)\n",
    "    keys_sets += [set(df.head(n)[\"key\"]).union(set(df.tail(n)[\"key\"]))]\n",
    "    file_name = model_filename(source, \"eos9ei3\")\n",
    "    df = pd.read_csv(file_name)\n",
    "    df = df.sort_values(by = \"sa_score\", ascending=False).reset_index(drop=True)\n",
    "    keys_sets += [set(df.head(n)[\"key\"]).union(set(df.tail(n)[\"key\"]))]\n",
    "    file_name = model_filename(source, \"eos2l0q\")\n",
    "    df = pd.read_csv(file_name)\n",
    "    df[\"key\"] = inchikeys\n",
    "    df = df.sort_values(by = \"NTS_90perc_10uM\", ascending=False).reset_index(drop=True)\n",
    "    keys_sets += [set(df.head(n)[\"key\"]).union(set(df.tail(n)[\"key\"]))]\n",
    "    keys = keys_sets[0]\n",
    "    for ks in keys_sets[1:]:\n",
    "        keys = keys.intersection(ks)\n",
    "    print(len(keys))\n",
    "    file_name = model_filename(source, \"eos4rta\")\n",
    "    df = pd.read_csv(file_name)[[\"key\", \"input\"]]\n",
    "    more_keys = set(df[\"key\"].sample(int(len(keys)*1.8)))\n",
    "    keys = keys.union(more_keys)\n",
    "    print(len(keys))\n",
    "    df = df[df[\"key\"].isin(keys)].reset_index(drop=True)\n",
    "    df = df.rename(columns = {\"key\": \"inchikey\", \"input\": \"smiles\"})\n",
    "    df.to_csv(os.path.join(DATAPATH,\"{0}_selected.csv\".format(source)), index=False)\n",
    "\n",
    "\n",
    "select_compounds(\"coconut\")\n",
    "select_compounds(\"chembl\")"
   ]
  },
  {
   "cell_type": "code",
   "execution_count": null,
   "metadata": {},
   "outputs": [],
   "source": [
    "%matplotlib inline\n",
    "\n",
    "import matplotlib.pyplot as plt\n",
    "\n",
    "df = pd.read_csv(os.path.join(DATAPATH,\"precalculations/chembl_50k_9yui.csv\"))\n",
    "plt.hist()"
   ]
  },
  {
   "cell_type": "code",
   "execution_count": null,
   "metadata": {},
   "outputs": [],
   "source": [
    "def filter_predictions_by_selected(source, model_id):\n",
    "    sel_filename = \"{0}_selected.csv\".format(source)\n",
    "    full_filename = \"precalculations/{0}_50k_{1}.csv\".format(source, model_id)\n",
    "    keys = set(pd.read_csv(sel_filename)[\"inchikey\"])\n",
    "    df = pd.read_csv(full_filename)\n",
    "    df = df[df[\"key\"].isin(keys)].reset_index(drop=True)\n",
    "    out_filename = os.path.join(DATAPATH,\"precalculations/{0}_selected_{1}_predictions.csv\".format(source, model_id))\n",
    "    df.to_csv(out_filename, index=False)"
   ]
  },
  {
   "cell_type": "code",
   "execution_count": null,
   "metadata": {},
   "outputs": [],
   "source": [
    "models = [\"eos4rta\",\"eos7yti\", \"eos4e41\",\"eos2l0q\",\n",
    "\"eos3le9\", \"eos4tcc\",\"eos6oli\",\"eos9yui\",\"eos9ei3\"]\n",
    "\n",
    "for m in models:\n",
    "    filter_predictions_by_selected(\"chembl\", m)"
   ]
  }
 ],
 "metadata": {
  "kernelspec": {
   "display_name": "ersilia",
   "language": "python",
   "name": "python3"
  },
  "language_info": {
   "codemirror_mode": {
    "name": "ipython",
    "version": 3
   },
   "file_extension": ".py",
   "mimetype": "text/x-python",
   "name": "python",
   "nbconvert_exporter": "python",
   "pygments_lexer": "ipython3",
   "version": "3.10.11"
  },
  "orig_nbformat": 4
 },
 "nbformat": 4,
 "nbformat_minor": 2
}
