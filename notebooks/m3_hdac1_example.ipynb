{
  "cells": [
    {
      "cell_type": "markdown",
      "metadata": {
        "colab_type": "text",
        "id": "view-in-github"
      },
      "source": [
        "<a href=\"https://colab.research.google.com/github/ersilia-os/ersilia-intro-workshop/blob/main/notebooks/m3_hdac1_example.ipynb\" target=\"_parent\"><img src=\"https://colab.research.google.com/assets/colab-badge.svg\" alt=\"Open In Colab\"/></a>"
      ]
    },
    {
      "cell_type": "markdown",
      "metadata": {},
      "source": [
        "# HDAC1 inhibition\n",
        "\n",
        "This notebook shows the steps to clean up a dataset obtained from ChEMBL target 325 and train a machine learning model based on that data.\n",
        "\n",
        "_This notebook is prepared to run locally when clonning this repository, if you want to run it in Colab please make sure to add the datasets on Colab and redirect the paths as needed_"
      ]
    },
    {
      "cell_type": "markdown",
      "metadata": {},
      "source": [
        "## 1. Data Cleaning\n",
        "\n",
        "We download the whole dataset from ChEMBL as a zip file and extract the .csv as chembl325.csv"
      ]
    },
    {
      "cell_type": "code",
      "execution_count": null,
      "metadata": {},
      "outputs": [],
      "source": [
        "import os\n",
        "import pandas as pd\n",
        "from standardiser import standardise\n",
        "from rdkit import Chem\n",
        "\n",
        "DATAPATH = \"../data/m3_datasets/hdac1\""
      ]
    },
    {
      "cell_type": "code",
      "execution_count": null,
      "metadata": {},
      "outputs": [],
      "source": [
        "df = pd.read_csv(os.path.join(DATAPATH, \"original\", \"chembl325.csv\"))\n",
        "\n",
        "#we keep all rows that have a pChEMBL value\n",
        "df = df[df[\"pChEMBL Value\"].notnull()]\n",
        "\n",
        "#and standardise the SMILES to obtain its canonical form\n",
        "std_smiles = []\n",
        "for smi in df[\"Smiles\"].tolist():\n",
        "    try:\n",
        "        mol = Chem.MolFromSmiles(smi)\n",
        "        mol = standardise.run(mol)\n",
        "        smi = Chem.MolToSmiles(mol)\n",
        "    except:\n",
        "        smi = None\n",
        "    std_smiles += [smi]\n",
        "\n",
        "df[\"std_smiles\"] = std_smiles\n",
        "\n",
        "# any row for which we cannot get the SMILES is eliminated\n",
        "df = df[df[\"std_smiles\"].notnull()]"
      ]
    },
    {
      "cell_type": "code",
      "execution_count": null,
      "metadata": {},
      "outputs": [],
      "source": [
        "# we finally save the processed dataset\n",
        "result = df.groupby('Molecule ChEMBL ID').agg(\n",
        "    SMILES=('std_smiles', 'first'),\n",
        "    pIC50=('pChEMBL Value', 'median')\n",
        ").reset_index()\n",
        "result.to_csv(os.path.join(DATAPATH, \"processed\", \"hdac1_chembl325.csv\"), index=False)"
      ]
    },
    {
      "cell_type": "markdown",
      "metadata": {
        "id": "KNF8_p8BP9hZ"
      },
      "source": [
        "## 2. Train an AI model\n",
        "\n",
        "This notebook contains the basic steps to train a classifier for bioactivity prediction.\n",
        "\n",
        "It is prepared to run on Google Colaboratory, if you want to run it locally make sure to create a conda environment with Python 3.10 and install the packages indicated below.\n",
        "\n",
        "_Remember that the ! sign indicates a bash command, to run it in the terminal simply copy the command without !_"
      ]
    },
    {
      "cell_type": "code",
      "execution_count": null,
      "metadata": {
        "colab": {
          "base_uri": "https://localhost:8080/"
        },
        "id": "DiqqsPt0Eduo",
        "outputId": "d9cee0ab-057c-4785-cc32-f9460460614b"
      },
      "outputs": [],
      "source": [
        "# Package installation if notebook is run in Colab\n",
        "!pip install lazyqsar==0.3"
      ]
    },
    {
      "cell_type": "markdown",
      "metadata": {
        "id": "-goEzL25T-p-"
      },
      "source": [
        "### 2.1 Load your data\n",
        "\n",
        "Next, we will use the pandas package to load the training data. At the bare minimmum, you should have a .csv file with two columns: SMILES and Activity of the molecule against the desired target.\n",
        "\n",
        "In Google Colab, go to the left hand side of the screen and click on the `folder` icon. There, you will see a `Upload file` icon to add your files to the Cloud. You can also call them from Google Drive. These files will be deleted if the notebook is closed, so you will need to re-upload them every time.\n",
        "\n",
        "If you are working locally, just make sure to input the right path to your data file."
      ]
    },
    {
      "cell_type": "code",
      "execution_count": null,
      "metadata": {},
      "outputs": [],
      "source": [
        "import os\n",
        "import pandas as pd\n",
        "import numpy as np\n",
        "import lazyqsar as lq\n",
        "import matplotlib.pyplot as plt\n",
        "from sklearn.model_selection import train_test_split\n",
        "from sklearn import metrics"
      ]
    },
    {
      "cell_type": "code",
      "execution_count": 16,
      "metadata": {
        "id": "apvdFbJkD8Tc"
      },
      "outputs": [],
      "source": [
        "#make sure to input the right path to your data\n",
        "\n",
        "filename = \"hdac1_chembl325.csv\" \n",
        "DATAPATH = \"../data/m3_datasets/hdac1\"\n",
        "MODELPATH = \"../models\"\n",
        "FIGUREPATH = \"../figures/m3\""
      ]
    },
    {
      "cell_type": "code",
      "execution_count": 17,
      "metadata": {
        "id": "hmZhASb9Rk1c"
      },
      "outputs": [
        {
          "data": {
            "text/plain": [
              "Index(['Molecule ChEMBL ID', 'SMILES', 'pIC50'], dtype='object')"
            ]
          },
          "execution_count": 17,
          "metadata": {},
          "output_type": "execute_result"
        }
      ],
      "source": [
        "# Load data into a Pandas DataFrame (df)\n",
        "# We will use the read_csv function from Pandas to automatically upload the csv file in the right format for Python\n",
        "\n",
        "df = pd.read_csv(os.path.join(DATAPATH, \"processed\", filename))\n",
        "df.columns"
      ]
    },
    {
      "cell_type": "code",
      "execution_count": 18,
      "metadata": {
        "colab": {
          "base_uri": "https://localhost:8080/"
        },
        "id": "mvBsjtHtVIQ6",
        "outputId": "d572e40d-e7b3-4ac2-a660-453270594866"
      },
      "outputs": [
        {
          "data": {
            "text/plain": [
              "(5804, 3)"
            ]
          },
          "execution_count": 18,
          "metadata": {},
          "output_type": "execute_result"
        }
      ],
      "source": [
        "# and its shape\n",
        "df.shape"
      ]
    },
    {
      "cell_type": "code",
      "execution_count": 19,
      "metadata": {
        "id": "DhNGnvO5559K"
      },
      "outputs": [],
      "source": [
        "# Let's get the variables right!\n",
        "# If the column name changes, you need to change these variables\n",
        "# Remember Python strings are case-sensitive\n",
        "SMILES = \"SMILES\"\n",
        "EXP = \"pIC50\"\n",
        "BIN = \"bin\""
      ]
    },
    {
      "cell_type": "markdown",
      "metadata": {
        "id": "zSEpGWggVPp3"
      },
      "source": [
        "### 2.2 Define a cut-off\n",
        "\n",
        "Since we will create a classifier, we need to decide at which cut-off we consider our molecules `Active` or `Inactive`.\n",
        "\n",
        "We can visualise our data with a histogram for example to make the decision, or we can ask the original data producers for their expert recommendation."
      ]
    },
    {
      "cell_type": "code",
      "execution_count": 20,
      "metadata": {
        "colab": {
          "base_uri": "https://localhost:8080/"
        },
        "id": "8xmKsGu5VLv2",
        "outputId": "3bbe6a1c-49f8-4cb7-b0f0-661c560ff4f9"
      },
      "outputs": [
        {
          "data": {
            "text/plain": [
              "(array([1.000e+00, 1.650e+02, 6.280e+02, 1.023e+03, 1.286e+03, 1.301e+03,\n",
              "        8.590e+02, 3.700e+02, 1.480e+02, 2.300e+01]),\n",
              " array([ 3.2 ,  3.91,  4.62,  5.33,  6.04,  6.75,  7.46,  8.17,  8.88,\n",
              "         9.59, 10.3 ]),\n",
              " <BarContainer object of 10 artists>)"
            ]
          },
          "execution_count": 20,
          "metadata": {},
          "output_type": "execute_result"
        },
        {
          "data": {
            "image/png": "[encoded data removed]",
            "text/plain": [
              "<Figure size 640x480 with 1 Axes>"
            ]
          },
          "metadata": {},
          "output_type": "display_data"
        }
      ],
      "source": [
        "# We select the variable we want to plot in the histogram, in this case the activity values\n",
        "x = df[EXP] #here you need to write the exact column name, respecting Caps\n",
        "# We now plot the data using the histogram function\n",
        "plt.hist(x)"
      ]
    },
    {
      "cell_type": "code",
      "execution_count": 21,
      "metadata": {
        "colab": {
          "base_uri": "https://localhost:8080/",
          "height": 470
        },
        "id": "gMphsUGjWDmp",
        "outputId": "3cc9978b-fe11-40ca-b455-b72762f7fdbb"
      },
      "outputs": [
        {
          "data": {
            "text/plain": [
              "Text(0, 0.5, 'Number of mols')"
            ]
          },
          "execution_count": 21,
          "metadata": {},
          "output_type": "execute_result"
        },
        {
          "data": {
            "image/png": "[encoded data removed]",
            "text/plain": [
              "<Figure size 640x480 with 1 Axes>"
            ]
          },
          "metadata": {},
          "output_type": "display_data"
        }
      ],
      "source": [
        "# Depending on our data, we might want to improve the plot for better visualization\n",
        "# here, we clip the maximmum values to 20\n",
        "plt.hist(x, range=(4, 10))\n",
        "plt.xlabel(\"Log2FoldChange\")\n",
        "plt.ylabel(\"Number of mols\")"
      ]
    },
    {
      "cell_type": "markdown",
      "metadata": {
        "id": "w6XkTh6Qhh81"
      },
      "source": [
        "To identify the best activity cut-off for your data, you need to:\n",
        "- Understand the experimental set up: what kind of assay was done? what is the units of activity measured?\n",
        "- Understand what is the end goal for the model: is it obtaining the most active compounds? Is it to filter our some non-actives to reduce the test number?\n",
        "- Ask the experts! Talk to the people who ran the experiment, if possible\n",
        "\n",
        "Once you have the cut-off, transform the activities to binary. Typically, by consensus:\n",
        "- 1: Active (the compound perturbs our biological system)\n",
        "- 0: Inactive (the compound does not affect our biolgical system)"
      ]
    },
    {
      "cell_type": "code",
      "execution_count": 22,
      "metadata": {
        "id": "Cd_dkIydi0ya"
      },
      "outputs": [],
      "source": [
        "cutoff = 7\n",
        "direction = \"higher\""
      ]
    },
    {
      "cell_type": "code",
      "execution_count": 24,
      "metadata": {
        "id": "mf-bD2Y3YYnk"
      },
      "outputs": [],
      "source": [
        "# Here, we will create a new column in our file with the binary activity\n",
        "\n",
        "if direction == \"lower\":\n",
        "    df[BIN] = [1 if x <= cutoff else 0 for x in df[EXP]]\n",
        "elif direction == \"higher\":\n",
        "    df[BIN] = [1 if x >= cutoff else 0 for x in df[EXP]]\n",
        "else:\n",
        "    print(\"no direction specified. Please select lower or higher direction for the activity cut-off\")"
      ]
    },
    {
      "cell_type": "code",
      "execution_count": 25,
      "metadata": {
        "colab": {
          "base_uri": "https://localhost:8080/",
          "height": 424
        },
        "id": "Tz5SbNKUihjB",
        "outputId": "b7d9afa6-524c-4896-c062-830d991d8491"
      },
      "outputs": [
        {
          "data": {
            "text/html": [
              "<div>\n",
              "<style scoped>\n",
              "    .dataframe tbody tr th:only-of-type {\n",
              "        vertical-align: middle;\n",
              "    }\n",
              "\n",
              "    .dataframe tbody tr th {\n",
              "        vertical-align: top;\n",
              "    }\n",
              "\n",
              "    .dataframe thead th {\n",
              "        text-align: right;\n",
              "    }\n",
              "</style>\n",
              "<table border=\"1\" class=\"dataframe\">\n",
              "  <thead>\n",
              "    <tr style=\"text-align: right;\">\n",
              "      <th></th>\n",
              "      <th>Molecule ChEMBL ID</th>\n",
              "      <th>SMILES</th>\n",
              "      <th>pIC50</th>\n",
              "      <th>bin</th>\n",
              "    </tr>\n",
              "  </thead>\n",
              "  <tbody>\n",
              "    <tr>\n",
              "      <th>0</th>\n",
              "      <td>CHEMBL100035</td>\n",
              "      <td>C/C(=C\\c1ccc(NS(=O)(=O)c2ccccc2)cc1)C(=O)NO</td>\n",
              "      <td>5.70</td>\n",
              "      <td>0</td>\n",
              "    </tr>\n",
              "    <tr>\n",
              "      <th>1</th>\n",
              "      <td>CHEMBL1076794</td>\n",
              "      <td>Cc1ccccc1NC(=O)CCCCC(=O)NO</td>\n",
              "      <td>6.24</td>\n",
              "      <td>0</td>\n",
              "    </tr>\n",
              "    <tr>\n",
              "      <th>2</th>\n",
              "      <td>CHEMBL1076939</td>\n",
              "      <td>COc1cc(-n2cc(-c3cccc(NC(=O)CCCCCCC(=O)NO)c3)nn...</td>\n",
              "      <td>8.30</td>\n",
              "      <td>1</td>\n",
              "    </tr>\n",
              "    <tr>\n",
              "      <th>3</th>\n",
              "      <td>CHEMBL1080580</td>\n",
              "      <td>Cc1ccc(NC(=O)c2ccc(/C=C/C(=O)NO)cc2)cc1Nc1nc(-...</td>\n",
              "      <td>7.10</td>\n",
              "      <td>1</td>\n",
              "    </tr>\n",
              "    <tr>\n",
              "      <th>4</th>\n",
              "      <td>CHEMBL1082955</td>\n",
              "      <td>O=C(CCCCCNC(=O)NC(=O)c1ccc(-c2cncnc2)cc1)NO</td>\n",
              "      <td>6.29</td>\n",
              "      <td>0</td>\n",
              "    </tr>\n",
              "    <tr>\n",
              "      <th>...</th>\n",
              "      <td>...</td>\n",
              "      <td>...</td>\n",
              "      <td>...</td>\n",
              "      <td>...</td>\n",
              "    </tr>\n",
              "    <tr>\n",
              "      <th>5799</th>\n",
              "      <td>CHEMBL99398</td>\n",
              "      <td>Nc1ccccc1NC(=O)CCCCCN1C(=O)c2cccc3cc(O)cc(c23)...</td>\n",
              "      <td>6.00</td>\n",
              "      <td>0</td>\n",
              "    </tr>\n",
              "    <tr>\n",
              "      <th>5800</th>\n",
              "      <td>CHEMBL99456</td>\n",
              "      <td>O=C(CCCCCCC(=O)c1ccc(-c2ccc(Br)cc2)cc1)NO</td>\n",
              "      <td>8.70</td>\n",
              "      <td>1</td>\n",
              "    </tr>\n",
              "    <tr>\n",
              "      <th>5801</th>\n",
              "      <td>CHEMBL99671</td>\n",
              "      <td>COc1ccc(C(=O)CCCCCCC(=O)Nc2ccccc2N)cc1</td>\n",
              "      <td>5.30</td>\n",
              "      <td>0</td>\n",
              "    </tr>\n",
              "    <tr>\n",
              "      <th>5802</th>\n",
              "      <td>CHEMBL99810</td>\n",
              "      <td>O=C(CCCCCCCC(=O)c1ccccc1)NO</td>\n",
              "      <td>6.87</td>\n",
              "      <td>0</td>\n",
              "    </tr>\n",
              "    <tr>\n",
              "      <th>5803</th>\n",
              "      <td>CHEMBL99877</td>\n",
              "      <td>O=C(CCCCCCC(=O)c1ccc(N2CCCCC2)cc1)NO</td>\n",
              "      <td>8.02</td>\n",
              "      <td>1</td>\n",
              "    </tr>\n",
              "  </tbody>\n",
              "</table>\n",
              "<p>5804 rows × 4 columns</p>\n",
              "</div>"
            ],
            "text/plain": [
              "     Molecule ChEMBL ID                                             SMILES  \\\n",
              "0          CHEMBL100035        C/C(=C\\c1ccc(NS(=O)(=O)c2ccccc2)cc1)C(=O)NO   \n",
              "1         CHEMBL1076794                         Cc1ccccc1NC(=O)CCCCC(=O)NO   \n",
              "2         CHEMBL1076939  COc1cc(-n2cc(-c3cccc(NC(=O)CCCCCCC(=O)NO)c3)nn...   \n",
              "3         CHEMBL1080580  Cc1ccc(NC(=O)c2ccc(/C=C/C(=O)NO)cc2)cc1Nc1nc(-...   \n",
              "4         CHEMBL1082955        O=C(CCCCCNC(=O)NC(=O)c1ccc(-c2cncnc2)cc1)NO   \n",
              "...                 ...                                                ...   \n",
              "5799        CHEMBL99398  Nc1ccccc1NC(=O)CCCCCN1C(=O)c2cccc3cc(O)cc(c23)...   \n",
              "5800        CHEMBL99456          O=C(CCCCCCC(=O)c1ccc(-c2ccc(Br)cc2)cc1)NO   \n",
              "5801        CHEMBL99671             COc1ccc(C(=O)CCCCCCC(=O)Nc2ccccc2N)cc1   \n",
              "5802        CHEMBL99810                        O=C(CCCCCCCC(=O)c1ccccc1)NO   \n",
              "5803        CHEMBL99877               O=C(CCCCCCC(=O)c1ccc(N2CCCCC2)cc1)NO   \n",
              "\n",
              "      pIC50  bin  \n",
              "0      5.70    0  \n",
              "1      6.24    0  \n",
              "2      8.30    1  \n",
              "3      7.10    1  \n",
              "4      6.29    0  \n",
              "...     ...  ...  \n",
              "5799   6.00    0  \n",
              "5800   8.70    1  \n",
              "5801   5.30    0  \n",
              "5802   6.87    0  \n",
              "5803   8.02    1  \n",
              "\n",
              "[5804 rows x 4 columns]"
            ]
          },
          "execution_count": 25,
          "metadata": {},
          "output_type": "execute_result"
        }
      ],
      "source": [
        "# Let's check the output\n",
        "df"
      ]
    },
    {
      "cell_type": "code",
      "execution_count": 26,
      "metadata": {
        "colab": {
          "base_uri": "https://localhost:8080/"
        },
        "id": "d6YSdNnRkd5l",
        "outputId": "d6b7538d-aa50-43f7-811a-2d24c4c70ade"
      },
      "outputs": [
        {
          "name": "stdout",
          "output_type": "stream",
          "text": [
            "Total molecules:  5804\n",
            "Active molecules:  2260\n",
            "Inactive molecules:  3544\n",
            "Frequency of Actives (%):  38.938662991040665\n"
          ]
        }
      ],
      "source": [
        "# We can print how many actives / inactives we have in our dataset\n",
        "print(\"Total molecules: \", len(df))\n",
        "print(\"Active molecules: \", len(df[df[BIN]==1]))\n",
        "print(\"Inactive molecules: \", len(df[df[BIN]==0]))\n",
        "print(\"Frequency of Actives (%): \", len(df[df[BIN]==1])/len(df)*100)"
      ]
    },
    {
      "cell_type": "markdown",
      "metadata": {
        "id": "FFM0ERcUj3uL"
      },
      "source": [
        "### 2.3 Divide the data into Train and Test sets\n",
        "\n",
        "To make sure our model will have good performance, we need to keep part of the data as a test set, to evaluate the model once trained.\n",
        "\n",
        "Typically, it is good practice to reserve ~20% of the data as test set. Make sure that the balance of actives / inactives is maintained both in the train and the test sets.\n",
        "\n",
        "We will try a 5-fold cross-validation (run 5 times random train-test split sets and evaluate the different model performances)"
      ]
    },
    {
      "cell_type": "code",
      "execution_count": 27,
      "metadata": {
        "id": "znw48FdFj0Z7"
      },
      "outputs": [],
      "source": [
        "# We will use this function to split the data\n",
        "# The function uses the sklearn train_test_split built-in method\n",
        "\n",
        "def random_split(df, size):\n",
        "    indices = np.arange(len(df))\n",
        "    X_train, X_test, y_train, y_test, i_train, i_test = train_test_split(df[SMILES], df[EXP], indices, test_size=size, stratify=df[BIN])\n",
        "    train = df.iloc[i_train]\n",
        "    test = df.iloc[i_test]\n",
        "    return train, test"
      ]
    },
    {
      "cell_type": "code",
      "execution_count": 28,
      "metadata": {
        "id": "WAC8hkvLlX8N"
      },
      "outputs": [],
      "source": [
        "for i in range(5):\n",
        "    train, test = random_split(df, 0.2)\n",
        "    train.to_csv(os.path.join(DATAPATH,\"train_test_splits\", \"train_bin7_set_{}.csv\".format(i)), index=False)\n",
        "    test.to_csv(os.path.join(DATAPATH,\"train_test_splits\",\"test_bin7_set_{}.csv\".format(i)), index=False)"
      ]
    },
    {
      "cell_type": "code",
      "execution_count": 29,
      "metadata": {
        "colab": {
          "base_uri": "https://localhost:8080/"
        },
        "id": "zFotFHxnleQj",
        "outputId": "db3f1fa4-c912-4643-d236-8444f4cdc603"
      },
      "outputs": [
        {
          "name": "stdout",
          "output_type": "stream",
          "text": [
            "The frequency of Actives in the train set is:  38.940340297221624\n",
            "The frequency of Actives in the test set is:  38.93195521102498\n"
          ]
        }
      ],
      "source": [
        "# We can make sure the active / inactive balance was preserved\n",
        "train_balance = len(train[train[BIN]==1])/len(train)*100\n",
        "test_balance = len(test[test[BIN]==1])/len(test)*100\n",
        "\n",
        "print(\"The frequency of Actives in the train set is: \", train_balance)\n",
        "print(\"The frequency of Actives in the test set is: \", test_balance)"
      ]
    },
    {
      "cell_type": "markdown",
      "metadata": {
        "id": "d-1cJPtbqZdt"
      },
      "source": [
        "_* We have individually created the descriptors so that we can check how they look like. Luckily, LazyQSAR provides a single funtion to convert the smiles to vectors and train an ML model, so we will use that feature_"
      ]
    },
    {
      "cell_type": "markdown",
      "metadata": {
        "id": "BXb5IfUeqMNi"
      },
      "source": [
        "### 2.4 Train an ML model & get the predictions with Morgan Fingerprints\n",
        "\n",
        "We have our input (morgan descriptors) and the endpoint, the activity in binary format (1 or 0) so we are ready to train a classifier!\n",
        "We will use the built-in method in LazyQSAR"
      ]
    },
    {
      "cell_type": "code",
      "execution_count": 30,
      "metadata": {
        "colab": {
          "base_uri": "https://localhost:8080/"
        },
        "id": "yo3CxlLhqADe",
        "outputId": "fb83b8f2-4f50-45a9-e2ee-b330ded4d967"
      },
      "outputs": [],
      "source": [
        "%%capture\n",
        "\n",
        "for i in range(5):\n",
        "    train = pd.read_csv(os.path.join(DATAPATH,\"train_test_splits\",\"train_bin7_set_{}.csv\".format(i)))\n",
        "    test = pd.read_csv(os.path.join(DATAPATH,\"train_test_splits\",\"test_bin7_set_{}.csv\".format(i)))\n",
        "    smiles_train = train[SMILES]\n",
        "    y_train = train[BIN]\n",
        "    model = lq.MorganBinaryClassifier(time_budget_sec=60, estimator_list=[\"rf\", \"lgbm\", \"xgboost\"])\n",
        "    model.fit(train[SMILES], train[BIN])\n",
        "    y_hat = model.predict_proba(test[SMILES])\n",
        "    test[\"proba1\"] = y_hat[:,1]\n",
        "    test.to_csv(os.path.join(DATAPATH,\"train_test_splits\",\"test_set_pred_bin7_morgan_{}.csv\".format(i)))"
      ]
    },
    {
      "cell_type": "markdown",
      "metadata": {
        "id": "XUILW9kTsXBW"
      },
      "source": [
        "#### The ROC-AUC curve"
      ]
    },
    {
      "cell_type": "code",
      "execution_count": 33,
      "metadata": {
        "colab": {
          "base_uri": "https://localhost:8080/",
          "height": 487
        },
        "id": "JE2ln7pL8Iz5",
        "outputId": "27eeeffe-4cf5-441d-9557-7f5ee722b396"
      },
      "outputs": [
        {
          "data": {
            "image/png": "[encoded data removed]",
            "text/plain": [
              "<Figure size 640x480 with 1 Axes>"
            ]
          },
          "metadata": {},
          "output_type": "display_data"
        }
      ],
      "source": [
        "fig, ax = plt.subplots(1,1)\n",
        "\n",
        "aucs = []\n",
        "tprs = []\n",
        "mean_fpr = np.linspace(0,1,100)\n",
        "for i in range(5):\n",
        "    test = pd.read_csv(os.path.join(DATAPATH,\"train_test_splits\",\"test_set_pred_bin7_morgan_{}.csv\".format(i)))\n",
        "    fpr, tpr, _ = metrics.roc_curve(test[BIN],test[\"proba1\"])\n",
        "    roc_auc = metrics.auc(fpr, tpr)\n",
        "    interp_tpr = np.interp(mean_fpr, fpr, tpr)\n",
        "    interp_tpr[0] = 0.0\n",
        "    tprs.append(interp_tpr)\n",
        "    aucs.append(roc_auc)\n",
        "\n",
        "mean_tpr = np.mean(tprs, axis=0)\n",
        "mean_tpr[-1] = 1.0\n",
        "mean_auc = metrics.auc(mean_fpr, mean_tpr)\n",
        "std_auc = np.std(aucs)\n",
        "\n",
        "ax.plot(\n",
        "        mean_fpr,\n",
        "        mean_tpr,\n",
        "        color=\"#50285a\",\n",
        "        label=r\"AUC = %0.2f $\\pm$ %0.2f\" % (mean_auc, std_auc),\n",
        "    )\n",
        "ax.plot([0, 1], [0, 1], ls=\"--\")\n",
        "std_tpr = np.std(tprs, axis=0)\n",
        "tprs_upper = np.minimum(mean_tpr + std_tpr, 1)\n",
        "tprs_lower = np.maximum(mean_tpr - std_tpr, 0)\n",
        "ax.fill_between(\n",
        "    mean_fpr,\n",
        "    tprs_lower,\n",
        "    tprs_upper,\n",
        "    color=\"#d2d2d0\",\n",
        "    alpha=0.6,\n",
        "    label=r\"$\\pm$ 1 std. dev.\",\n",
        "    )\n",
        "ax.set(\n",
        "        xlim=[-0.05, 1.05],\n",
        "        ylim=[-0.05, 1.05],\n",
        "        )\n",
        "ax.legend(loc=\"lower right\")\n",
        "ax.set_xlabel=\"1-Specificity (FPR)\",\n",
        "ax.set_ylabel=\"Sensitivity (TPR)\",\n",
        "plt.tight_layout()\n",
        "plt.savefig(os.path.join(FIGUREPATH, \"roc_hdac1_bin7_morgan.png\"), dpi=300)"
      ]
    },
    {
      "cell_type": "markdown",
      "metadata": {
        "id": "Ynip8QoLwjhy"
      },
      "source": [
        "### 2.5 Train an ML Model with Ersilia Compound Embeddings"
      ]
    },
    {
      "cell_type": "code",
      "execution_count": 34,
      "metadata": {
        "colab": {
          "base_uri": "https://localhost:8080/"
        },
        "id": "d5BO-3q2_wHu",
        "outputId": "cd76404e-c9d9-4606-d372-ade6a9c4ce0d"
      },
      "outputs": [],
      "source": [
        "%%capture\n",
        "\n",
        "for i in range(5):\n",
        "    train = pd.read_csv(os.path.join(DATAPATH,\"hdac1\",\"train_bin7_set_{}.csv\".format(i)))\n",
        "    test = pd.read_csv(os.path.join(DATAPATH,\"hdac1\",\"test_bin7_set_{}.csv\".format(i)))\n",
        "    smiles_train = train[SMILES]\n",
        "    y_train = train[BIN]\n",
        "    model = lq.ErsiliaBinaryClassifier(time_budget_sec=60, estimator_list=[\"rf\", \"lgbm\", \"xgboost\"])\n",
        "    model.fit(train[SMILES], train[BIN])\n",
        "    y_hat = model.predict_proba(test[SMILES])\n",
        "    test[\"proba1\"] = y_hat[:,1]\n",
        "    test.to_csv(os.path.join(DATAPATH,\"hdac1\",\"test_set_bin7_pred_eosce_{}.csv\".format(i)))"
      ]
    },
    {
      "cell_type": "code",
      "execution_count": 37,
      "metadata": {
        "colab": {
          "base_uri": "https://localhost:8080/",
          "height": 487
        },
        "id": "Bg9HcGGb_6rA",
        "outputId": "d5b09910-a7e7-4b6d-952d-8e160fb734cb"
      },
      "outputs": [
        {
          "data": {
            "image/png": "[encoded data removed]",
            "text/plain": [
              "<Figure size 640x480 with 1 Axes>"
            ]
          },
          "metadata": {},
          "output_type": "display_data"
        }
      ],
      "source": [
        "fig, ax = plt.subplots(1,1)\n",
        "\n",
        "aucs = []\n",
        "tprs = []\n",
        "mean_fpr = np.linspace(0,1,100)\n",
        "for i in range(5):\n",
        "    test = pd.read_csv(os.path.join(DATAPATH, \"train_test_splits\",\"test_set_pred_bin7_eosce_{}.csv\".format(i)))\n",
        "    fpr, tpr, _ = metrics.roc_curve(test[BIN],test[\"proba1\"])\n",
        "    roc_auc = metrics.auc(fpr, tpr)\n",
        "    interp_tpr = np.interp(mean_fpr, fpr, tpr)\n",
        "    interp_tpr[0] = 0.0\n",
        "    tprs.append(interp_tpr)\n",
        "    aucs.append(roc_auc)\n",
        "\n",
        "mean_tpr = np.mean(tprs, axis=0)\n",
        "mean_tpr[-1] = 1.0\n",
        "mean_auc = metrics.auc(mean_fpr, mean_tpr)\n",
        "std_auc = np.std(aucs)\n",
        "\n",
        "ax.plot(\n",
        "        mean_fpr,\n",
        "        mean_tpr,\n",
        "        color=\"#50285a\",\n",
        "        label=r\"AUC = %0.2f $\\pm$ %0.2f\" % (mean_auc, std_auc),\n",
        "    )\n",
        "ax.plot([0, 1], [0, 1], ls=\"--\")\n",
        "std_tpr = np.std(tprs, axis=0)\n",
        "tprs_upper = np.minimum(mean_tpr + std_tpr, 1)\n",
        "tprs_lower = np.maximum(mean_tpr - std_tpr, 0)\n",
        "ax.fill_between(\n",
        "    mean_fpr,\n",
        "    tprs_lower,\n",
        "    tprs_upper,\n",
        "    color=\"gray\",\n",
        "    alpha=0.6,\n",
        "    label=r\"$\\pm$ 1 std. dev.\",\n",
        "    )\n",
        "ax.set(\n",
        "        xlim=[-0.05, 1.05],\n",
        "        ylim=[-0.05, 1.05],\n",
        "        )\n",
        "ax.legend(loc=\"lower right\")\n",
        "ax.set_xlabel=\"1-Specificity (FPR)\",\n",
        "ax.set_ylabel=\"Sensitivity (TPR)\",\n",
        "plt.tight_layout()\n",
        "plt.savefig(os.path.join(FIGUREPATH, \"roc_hdac1_bin7_eosce.png\"), dpi=300)"
      ]
    },
    {
      "cell_type": "markdown",
      "metadata": {
        "id": "Q7WSSnM0q7Jx"
      },
      "source": [
        "### 2.6 Save the final model\n",
        "\n",
        "To ensure we use all possible data, at the end of the pipeline we will train the model with the whole dataset (train and test) and save it as the final model for deployment.\n",
        "\n",
        "We need to choose which descriptor and parameters will work better for our case and build the model accordingly. We obtain that from the best train-test experiment."
      ]
    },
    {
      "cell_type": "code",
      "execution_count": 38,
      "metadata": {
        "colab": {
          "base_uri": "https://localhost:8080/"
        },
        "id": "TbdUVEkdq4_1",
        "outputId": "a480214b-67ca-4e81-d99e-79483d6d9ec9"
      },
      "outputs": [
        {
          "name": "stderr",
          "output_type": "stream",
          "text": [
            "`use_label_encoder` is deprecated in 1.7.0.\n",
            "`use_label_encoder` is deprecated in 1.7.0.\n",
            "`use_label_encoder` is deprecated in 1.7.0.\n",
            "`use_label_encoder` is deprecated in 1.7.0.\n",
            "`use_label_encoder` is deprecated in 1.7.0.\n",
            "`use_label_encoder` is deprecated in 1.7.0.\n",
            "`use_label_encoder` is deprecated in 1.7.0.\n",
            "`use_label_encoder` is deprecated in 1.7.0.\n",
            "`use_label_encoder` is deprecated in 1.7.0.\n",
            "`use_label_encoder` is deprecated in 1.7.0.\n",
            "`use_label_encoder` is deprecated in 1.7.0.\n",
            "`use_label_encoder` is deprecated in 1.7.0.\n",
            "`use_label_encoder` is deprecated in 1.7.0.\n",
            "`use_label_encoder` is deprecated in 1.7.0.\n",
            "`use_label_encoder` is deprecated in 1.7.0.\n",
            "`use_label_encoder` is deprecated in 1.7.0.\n",
            "`use_label_encoder` is deprecated in 1.7.0.\n",
            "`use_label_encoder` is deprecated in 1.7.0.\n",
            "`use_label_encoder` is deprecated in 1.7.0.\n",
            "`use_label_encoder` is deprecated in 1.7.0.\n",
            "`use_label_encoder` is deprecated in 1.7.0.\n",
            "`use_label_encoder` is deprecated in 1.7.0.\n",
            "`use_label_encoder` is deprecated in 1.7.0.\n",
            "`use_label_encoder` is deprecated in 1.7.0.\n",
            "`use_label_encoder` is deprecated in 1.7.0.\n",
            "`use_label_encoder` is deprecated in 1.7.0.\n",
            "`use_label_encoder` is deprecated in 1.7.0.\n"
          ]
        }
      ],
      "source": [
        "# train the model with the full data\n",
        "smiles_train = df[SMILES]\n",
        "y_train = df[BIN]\n",
        "model = lq.MorganBinaryClassifier(time_budget_sec=60, estimator_list=[\"rf\", \"lgbm\", \"xgboost\"])\n",
        "model.fit(smiles_train, y_train)\n",
        "model.save(os.path.join(MODELPATH,\"hdac1_bin7_morgan_model.joblib\"))"
      ]
    },
    {
      "cell_type": "markdown",
      "metadata": {},
      "source": [
        "### 2.7 Get a second cut-off\n",
        "\n",
        "To have more fine-grain predictive potential, we will also build a second model with a more restrictive cut-off of pIC50=8"
      ]
    },
    {
      "cell_type": "code",
      "execution_count": null,
      "metadata": {},
      "outputs": [],
      "source": [
        "#make sure to input the right path to your data\n",
        "\n",
        "filename = \"hdac1_chembl325.csv\" \n",
        "DATAPATH = \"../data/hdac1\"\n",
        "MODELPATH = \"../models\"\n",
        "FIGUREPATH = \"../figures\""
      ]
    },
    {
      "cell_type": "code",
      "execution_count": 43,
      "metadata": {},
      "outputs": [
        {
          "data": {
            "text/plain": [
              "(5804, 3)"
            ]
          },
          "execution_count": 43,
          "metadata": {},
          "output_type": "execute_result"
        }
      ],
      "source": [
        "df = pd.read_csv(os.path.join(DATAPATH, \"processed\",filename))\n",
        "df.shape"
      ]
    },
    {
      "cell_type": "code",
      "execution_count": 44,
      "metadata": {},
      "outputs": [
        {
          "name": "stdout",
          "output_type": "stream",
          "text": [
            "Total molecules:  5804\n",
            "Active molecules:  747\n",
            "Inactive molecules:  5057\n",
            "Frequency of Actives (%):  12.870434183321846\n"
          ]
        }
      ],
      "source": [
        "cutoff = 8\n",
        "direction = \"higher\"\n",
        "if direction == \"lower\":\n",
        "    df[BIN] = [1 if x <= cutoff else 0 for x in df[EXP]]\n",
        "elif direction == \"higher\":\n",
        "    df[BIN] = [1 if x >= cutoff else 0 for x in df[EXP]]\n",
        "else:\n",
        "    print(\"no direction specified. Please select lower or higher direction for the activity cut-off\")\n",
        "\n",
        "# We can print how many actives / inactives we have in our dataset\n",
        "print(\"Total molecules: \", len(df))\n",
        "print(\"Active molecules: \", len(df[df[BIN]==1]))\n",
        "print(\"Inactive molecules: \", len(df[df[BIN]==0]))\n",
        "print(\"Frequency of Actives (%): \", len(df[df[BIN]==1])/len(df)*100)"
      ]
    },
    {
      "cell_type": "code",
      "execution_count": 45,
      "metadata": {},
      "outputs": [
        {
          "name": "stdout",
          "output_type": "stream",
          "text": [
            "The frequency of Actives in the train set is:  12.879603704501399\n",
            "The frequency of Actives in the test set is:  12.833763996554696\n"
          ]
        }
      ],
      "source": [
        "for i in range(5):\n",
        "    train, test = random_split(df, 0.2)\n",
        "    train.to_csv(os.path.join(DATAPATH,\"train_test_splits\", \"train_bin8_set_{}.csv\".format(i)), index=False)\n",
        "    test.to_csv(os.path.join(DATAPATH,\"train_test_splits\",\"test_bin8_set_{}.csv\".format(i)), index=False)\n",
        "# We can make sure the active / inactive balance was preserved\n",
        "train_balance = len(train[train[BIN]==1])/len(train)*100\n",
        "test_balance = len(test[test[BIN]==1])/len(test)*100\n",
        "\n",
        "print(\"The frequency of Actives in the train set is: \", train_balance)\n",
        "print(\"The frequency of Actives in the test set is: \", test_balance)"
      ]
    },
    {
      "cell_type": "code",
      "execution_count": 46,
      "metadata": {},
      "outputs": [],
      "source": [
        "%%capture\n",
        "\n",
        "for i in range(5):\n",
        "    train = pd.read_csv(os.path.join(DATAPATH,\"train_test_splits\",\"train_bin8_set_{}.csv\".format(i)))\n",
        "    test = pd.read_csv(os.path.join(DATAPATH,\"train_test_splits\",\"test_bin8_set_{}.csv\".format(i)))\n",
        "    smiles_train = train[SMILES]\n",
        "    y_train = train[BIN]\n",
        "    model = lq.MorganBinaryClassifier(time_budget_sec=60, estimator_list=[\"rf\", \"lgbm\", \"xgboost\"])\n",
        "    model.fit(train[SMILES], train[BIN])\n",
        "    y_hat = model.predict_proba(test[SMILES])\n",
        "    test[\"proba1\"] = y_hat[:,1]\n",
        "    test.to_csv(os.path.join(DATAPATH,\"train_test_splits\",\"test_set_pred_bin8_morgan_{}.csv\".format(i)))"
      ]
    },
    {
      "cell_type": "code",
      "execution_count": 47,
      "metadata": {},
      "outputs": [
        {
          "data": {
            "image/png": "[encoded data removed]",
            "text/plain": [
              "<Figure size 640x480 with 1 Axes>"
            ]
          },
          "metadata": {},
          "output_type": "display_data"
        }
      ],
      "source": [
        "fig, ax = plt.subplots(1,1)\n",
        "\n",
        "aucs = []\n",
        "tprs = []\n",
        "mean_fpr = np.linspace(0,1,100)\n",
        "for i in range(5):\n",
        "    test = pd.read_csv(os.path.join(DATAPATH,\"train_test_splits\",\"test_set_pred_bin8_morgan_{}.csv\".format(i)))\n",
        "    fpr, tpr, _ = metrics.roc_curve(test[BIN],test[\"proba1\"])\n",
        "    roc_auc = metrics.auc(fpr, tpr)\n",
        "    interp_tpr = np.interp(mean_fpr, fpr, tpr)\n",
        "    interp_tpr[0] = 0.0\n",
        "    tprs.append(interp_tpr)\n",
        "    aucs.append(roc_auc)\n",
        "\n",
        "mean_tpr = np.mean(tprs, axis=0)\n",
        "mean_tpr[-1] = 1.0\n",
        "mean_auc = metrics.auc(mean_fpr, mean_tpr)\n",
        "std_auc = np.std(aucs)\n",
        "\n",
        "ax.plot(\n",
        "        mean_fpr,\n",
        "        mean_tpr,\n",
        "        color=\"#50285a\",\n",
        "        label=r\"AUC = %0.2f $\\pm$ %0.2f\" % (mean_auc, std_auc),\n",
        "    )\n",
        "ax.plot([0, 1], [0, 1], ls=\"--\")\n",
        "std_tpr = np.std(tprs, axis=0)\n",
        "tprs_upper = np.minimum(mean_tpr + std_tpr, 1)\n",
        "tprs_lower = np.maximum(mean_tpr - std_tpr, 0)\n",
        "ax.fill_between(\n",
        "    mean_fpr,\n",
        "    tprs_lower,\n",
        "    tprs_upper,\n",
        "    color=\"#d2d2d0\",\n",
        "    alpha=0.6,\n",
        "    label=r\"$\\pm$ 1 std. dev.\",\n",
        "    )\n",
        "ax.set(\n",
        "        xlim=[-0.05, 1.05],\n",
        "        ylim=[-0.05, 1.05],\n",
        "        )\n",
        "ax.legend(loc=\"lower right\")\n",
        "ax.set_xlabel=\"1-Specificity (FPR)\",\n",
        "ax.set_ylabel=\"Sensitivity (TPR)\",\n",
        "plt.tight_layout()\n",
        "plt.savefig(os.path.join(FIGUREPATH, \"roc_hdac1_bin8_morgan.png\"), dpi=300)"
      ]
    },
    {
      "cell_type": "code",
      "execution_count": 48,
      "metadata": {},
      "outputs": [
        {
          "name": "stderr",
          "output_type": "stream",
          "text": [
            "`use_label_encoder` is deprecated in 1.7.0.\n",
            "`use_label_encoder` is deprecated in 1.7.0.\n",
            "`use_label_encoder` is deprecated in 1.7.0.\n",
            "`use_label_encoder` is deprecated in 1.7.0.\n",
            "`use_label_encoder` is deprecated in 1.7.0.\n",
            "`use_label_encoder` is deprecated in 1.7.0.\n",
            "`use_label_encoder` is deprecated in 1.7.0.\n",
            "`use_label_encoder` is deprecated in 1.7.0.\n",
            "`use_label_encoder` is deprecated in 1.7.0.\n",
            "`use_label_encoder` is deprecated in 1.7.0.\n",
            "`use_label_encoder` is deprecated in 1.7.0.\n",
            "`use_label_encoder` is deprecated in 1.7.0.\n",
            "`use_label_encoder` is deprecated in 1.7.0.\n",
            "`use_label_encoder` is deprecated in 1.7.0.\n",
            "`use_label_encoder` is deprecated in 1.7.0.\n",
            "`use_label_encoder` is deprecated in 1.7.0.\n",
            "`use_label_encoder` is deprecated in 1.7.0.\n",
            "`use_label_encoder` is deprecated in 1.7.0.\n",
            "`use_label_encoder` is deprecated in 1.7.0.\n",
            "`use_label_encoder` is deprecated in 1.7.0.\n",
            "`use_label_encoder` is deprecated in 1.7.0.\n",
            "`use_label_encoder` is deprecated in 1.7.0.\n",
            "`use_label_encoder` is deprecated in 1.7.0.\n",
            "`use_label_encoder` is deprecated in 1.7.0.\n",
            "`use_label_encoder` is deprecated in 1.7.0.\n",
            "`use_label_encoder` is deprecated in 1.7.0.\n",
            "`use_label_encoder` is deprecated in 1.7.0.\n",
            "`use_label_encoder` is deprecated in 1.7.0.\n",
            "`use_label_encoder` is deprecated in 1.7.0.\n",
            "`use_label_encoder` is deprecated in 1.7.0.\n",
            "`use_label_encoder` is deprecated in 1.7.0.\n",
            "`use_label_encoder` is deprecated in 1.7.0.\n",
            "`use_label_encoder` is deprecated in 1.7.0.\n",
            "`use_label_encoder` is deprecated in 1.7.0.\n",
            "`use_label_encoder` is deprecated in 1.7.0.\n",
            "`use_label_encoder` is deprecated in 1.7.0.\n",
            "`use_label_encoder` is deprecated in 1.7.0.\n",
            "`use_label_encoder` is deprecated in 1.7.0.\n",
            "`use_label_encoder` is deprecated in 1.7.0.\n",
            "`use_label_encoder` is deprecated in 1.7.0.\n",
            "`use_label_encoder` is deprecated in 1.7.0.\n",
            "`use_label_encoder` is deprecated in 1.7.0.\n",
            "`use_label_encoder` is deprecated in 1.7.0.\n",
            "`use_label_encoder` is deprecated in 1.7.0.\n",
            "`use_label_encoder` is deprecated in 1.7.0.\n",
            "`use_label_encoder` is deprecated in 1.7.0.\n",
            "`use_label_encoder` is deprecated in 1.7.0.\n",
            "`use_label_encoder` is deprecated in 1.7.0.\n"
          ]
        }
      ],
      "source": [
        "# train the model with the full data\n",
        "smiles_train = df[SMILES]\n",
        "y_train = df[BIN]\n",
        "model = lq.MorganBinaryClassifier(time_budget_sec=60, estimator_list=[\"rf\", \"lgbm\", \"xgboost\"])\n",
        "model.fit(smiles_train, y_train)\n",
        "model.save(os.path.join(MODELPATH,\"hdac1_bin8_morgan_model.joblib\"))"
      ]
    }
  ],
  "metadata": {
    "colab": {
      "authorship_tag": "ABX9TyPhxMVQMUhvBkLaafcna//G",
      "include_colab_link": true,
      "provenance": []
    },
    "kernelspec": {
      "display_name": "Python 3",
      "name": "python3"
    },
    "language_info": {
      "codemirror_mode": {
        "name": "ipython",
        "version": 3
      },
      "file_extension": ".py",
      "mimetype": "text/x-python",
      "name": "python",
      "nbconvert_exporter": "python",
      "pygments_lexer": "ipython3",
      "version": "3.10.11"
    }
  },
  "nbformat": 4,
  "nbformat_minor": 0
}
