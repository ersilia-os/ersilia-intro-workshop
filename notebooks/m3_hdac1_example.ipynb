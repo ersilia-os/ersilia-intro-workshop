{
  "nbformat": 4,
  "nbformat_minor": 0,
  "metadata": {
    "colab": {
      "provenance": [],
      "authorship_tag": "ABX9TyPhxMVQMUhvBkLaafcna//G",
      "include_colab_link": true
    },
    "kernelspec": {
      "name": "python3",
      "display_name": "Python 3"
    },
    "language_info": {
      "name": "python"
    }
  },
  "cells": [
    {
      "cell_type": "markdown",
      "metadata": {
        "id": "view-in-github",
        "colab_type": "text"
      },
      "source": [
        "<a href=\"https://colab.research.google.com/github/ersilia-os/ersilia-intro-workshop/blob/main/notebooks/m3_hdac1_example.ipynb\" target=\"_parent\"><img src=\"https://colab.research.google.com/assets/colab-badge.svg\" alt=\"Open In Colab\"/></a>"
      ]
    },
    {
      "cell_type": "markdown",
      "source": [
        "# Train an AI model\n",
        "\n",
        "This notebook contains the basic steps to train a classifier for bioactivity prediction.\n",
        "\n",
        "It is prepared to run on Google Colaboratory, if you want to run it locally make sure to create a conda environment with Python 3.10 and install the packages indicated below.\n",
        "\n",
        "_Remember that the ! sign indicates a bash command, to run it in the terminal simply copy the command without !_"
      ],
      "metadata": {
        "id": "KNF8_p8BP9hZ"
      }
    },
    {
      "cell_type": "markdown",
      "source": [
        "# Supervised Machine Learning\n",
        "\n",
        "Uses previously **labeled** data to train an algorithm (i.e the output is known). The algorithm learns if it is doing right by comparing the predicted vs the real output.\n",
        "\n",
        "Simplified steps:\n",
        "1. Data collection and processing.\n",
        "2. Division of training data in Train and Test sets.\n",
        "3. Use the train set to train the model.\n",
        "4. Predict an output for the test set and compare the predicted vs real results.\n",
        "5. Improve the model until we are satisfied with the performance on the test set\n",
        "\n",
        "## Types of supervised ML models\n",
        "### Classification\n",
        "Classification problems are characterized by having categorical output (i.e: active, inactive), so the model tries to predict to which class the input belongs. It can include several classes, is not limited to a binary classification.\n",
        "\n",
        "### Regression\n",
        "Regression problems are characterized by continuous variables, where the model tries to predict the exact value of the input (i.e: IC50 of a specific compound)\n",
        "\n",
        "## Evaluation of supervised ML models\n",
        "\n",
        "### Classification metrics\n",
        "\n",
        "We obtain the following data to evaluate the model:\n",
        "- Y_pred: predictions on the test set\n",
        "- Y_real: real outcome of the test set\n",
        "\n",
        "**Accuracy:** number of correct predictions divided by the total number of predictions (TP/(lenY)). For example, if we have predicted correctly 5 out of 10 data points --> Accuracy = 50%\n",
        "\n",
        "**Precision**: identification of only real positives (with a 100% precision, a model does not classify any negatives as positive) --> TP/(TP+FP)\n",
        "\n",
        "**Recall**: identification of all positives (with a 100% recall, no positive is classified as negative, but some negatives might be included in the positives) --> TP / (TP+FN)\n",
        "\n",
        "**Confusion matrix**: plots the real vs the predicted values in a table, to easily obtain the FP, TP, TN, FN values.\n",
        "\n",
        "\n",
        "### Regression metrics\n",
        "In a regression task, we obtain as error the difference between the predicted value and the real value (i.e: IC50real=0.1, IC50pred = 0.5 --> error of 0.4).\n",
        "\n",
        "\n",
        "**Mean Absolute Error:** mean of the absolute values of errors.\n",
        "\n",
        "**Mean Squared Error:** mean of the square error. By squaring, larger errors are contributing more and therefore the model punishes them.\n",
        "\n",
        "**Root Mean Squared Error:** root of the mean of square error to simplify interpretation (by using MSE, we also square the units which makes them difficult to interpret).\n",
        "\n",
        "**R-square**: coefficient of determination, the amount of variance explained by the model (from 0 to 1, the closer to 1, the better our model is)"
      ],
      "metadata": {
        "id": "xsEoeu3uuV33"
      }
    },
    {
      "cell_type": "markdown",
      "source": [
        "## 1. Install the necessary packages\n",
        "\n",
        "For this exercise, we will need the following packages:\n",
        "- RdKit: provides basic chemoinformatics tools\n",
        "- Pandas: deals with tabular data (like csv files)\n",
        "- Matplotlib and seaborn: plotting tools to visualise results\n",
        "- LazyQSAR: a simple package to build fast AI models developed by Ersilia. LazyQSAR automatically installs RdKit, Scikit-Learn, Ersilia Compound Embeddings, FLAML, Mordred and Numpy among others\n",
        "\n",
        "Google Colab already provides Pandas, Matplotlib and Seaborn pre-installed, so you do not need to install them. If you run this notebook locally please make sure to use the `pip install` command on the Terminal to get the packages in your conda environment\n",
        "\n",
        "**If you restart the notebook, you will need to reinstall the packages. In a local environment, you do NOT need to reinstall the packages, just activate the conda environment again**"
      ],
      "metadata": {
        "id": "IRzpkaSJQ5qy"
      }
    },
    {
      "cell_type": "code",
      "execution_count": 45,
      "metadata": {
        "id": "DiqqsPt0Eduo",
        "outputId": "d9cee0ab-057c-4785-cc32-f9460460614b",
        "colab": {
          "base_uri": "https://localhost:8080/"
        }
      },
      "outputs": [
        {
          "output_type": "stream",
          "name": "stdout",
          "text": [
            "Requirement already satisfied: lazyqsar==0.3 in /usr/local/lib/python3.10/dist-packages (0.3)\n",
            "Requirement already satisfied: requests in /usr/local/lib/python3.10/dist-packages (from lazyqsar==0.3) (2.31.0)\n",
            "Requirement already satisfied: flaml in /usr/local/lib/python3.10/dist-packages (from lazyqsar==0.3) (2.1.0)\n",
            "Requirement already satisfied: rdkit-pypi in /usr/local/lib/python3.10/dist-packages (from lazyqsar==0.3) (2022.9.4)\n",
            "Requirement already satisfied: mordred in /usr/local/lib/python3.10/dist-packages (from lazyqsar==0.3) (1.2.0)\n",
            "Requirement already satisfied: PyTDC in /usr/local/lib/python3.10/dist-packages (from lazyqsar==0.3) (0.4.1)\n",
            "Requirement already satisfied: shap in /usr/local/lib/python3.10/dist-packages (from lazyqsar==0.3) (0.42.1)\n",
            "Requirement already satisfied: eosce in /usr/local/lib/python3.10/dist-packages (from lazyqsar==0.3) (0.1.0)\n",
            "Requirement already satisfied: click==8.1.3 in /usr/local/lib/python3.10/dist-packages (from eosce->lazyqsar==0.3) (8.1.3)\n",
            "Requirement already satisfied: joblib==1.2.0 in /usr/local/lib/python3.10/dist-packages (from eosce->lazyqsar==0.3) (1.2.0)\n",
            "Requirement already satisfied: onnxruntime<2.0.0,>=1.14.0 in /usr/local/lib/python3.10/dist-packages (from eosce->lazyqsar==0.3) (1.16.0)\n",
            "Requirement already satisfied: numpy in /usr/local/lib/python3.10/dist-packages (from rdkit-pypi->lazyqsar==0.3) (1.23.5)\n",
            "Requirement already satisfied: Pillow in /usr/local/lib/python3.10/dist-packages (from rdkit-pypi->lazyqsar==0.3) (9.4.0)\n",
            "Requirement already satisfied: six==1.* in /usr/local/lib/python3.10/dist-packages (from mordred->lazyqsar==0.3) (1.16.0)\n",
            "Requirement already satisfied: networkx==2.* in /usr/local/lib/python3.10/dist-packages (from mordred->lazyqsar==0.3) (2.8.8)\n",
            "Requirement already satisfied: fuzzywuzzy in /usr/local/lib/python3.10/dist-packages (from PyTDC->lazyqsar==0.3) (0.18.0)\n",
            "Requirement already satisfied: pandas in /usr/local/lib/python3.10/dist-packages (from PyTDC->lazyqsar==0.3) (1.5.3)\n",
            "Requirement already satisfied: tqdm in /usr/local/lib/python3.10/dist-packages (from PyTDC->lazyqsar==0.3) (4.66.1)\n",
            "Requirement already satisfied: scikit-learn in /usr/local/lib/python3.10/dist-packages (from PyTDC->lazyqsar==0.3) (1.2.2)\n",
            "Requirement already satisfied: seaborn in /usr/local/lib/python3.10/dist-packages (from PyTDC->lazyqsar==0.3) (0.12.2)\n",
            "Requirement already satisfied: huggingface-hub in /usr/local/lib/python3.10/dist-packages (from PyTDC->lazyqsar==0.3) (0.17.3)\n",
            "Requirement already satisfied: dataclasses in /usr/local/lib/python3.10/dist-packages (from PyTDC->lazyqsar==0.3) (0.6)\n",
            "Requirement already satisfied: charset-normalizer<4,>=2 in /usr/local/lib/python3.10/dist-packages (from requests->lazyqsar==0.3) (3.2.0)\n",
            "Requirement already satisfied: idna<4,>=2.5 in /usr/local/lib/python3.10/dist-packages (from requests->lazyqsar==0.3) (3.4)\n",
            "Requirement already satisfied: urllib3<3,>=1.21.1 in /usr/local/lib/python3.10/dist-packages (from requests->lazyqsar==0.3) (2.0.4)\n",
            "Requirement already satisfied: certifi>=2017.4.17 in /usr/local/lib/python3.10/dist-packages (from requests->lazyqsar==0.3) (2023.7.22)\n",
            "Requirement already satisfied: scipy in /usr/local/lib/python3.10/dist-packages (from shap->lazyqsar==0.3) (1.11.2)\n",
            "Requirement already satisfied: packaging>20.9 in /usr/local/lib/python3.10/dist-packages (from shap->lazyqsar==0.3) (23.1)\n",
            "Requirement already satisfied: slicer==0.0.7 in /usr/local/lib/python3.10/dist-packages (from shap->lazyqsar==0.3) (0.0.7)\n",
            "Requirement already satisfied: numba in /usr/local/lib/python3.10/dist-packages (from shap->lazyqsar==0.3) (0.56.4)\n",
            "Requirement already satisfied: cloudpickle in /usr/local/lib/python3.10/dist-packages (from shap->lazyqsar==0.3) (2.2.1)\n",
            "Requirement already satisfied: coloredlogs in /usr/local/lib/python3.10/dist-packages (from onnxruntime<2.0.0,>=1.14.0->eosce->lazyqsar==0.3) (15.0.1)\n",
            "Requirement already satisfied: flatbuffers in /usr/local/lib/python3.10/dist-packages (from onnxruntime<2.0.0,>=1.14.0->eosce->lazyqsar==0.3) (23.5.26)\n",
            "Requirement already satisfied: protobuf in /usr/local/lib/python3.10/dist-packages (from onnxruntime<2.0.0,>=1.14.0->eosce->lazyqsar==0.3) (3.20.3)\n",
            "Requirement already satisfied: sympy in /usr/local/lib/python3.10/dist-packages (from onnxruntime<2.0.0,>=1.14.0->eosce->lazyqsar==0.3) (1.12)\n",
            "Requirement already satisfied: filelock in /usr/local/lib/python3.10/dist-packages (from huggingface-hub->PyTDC->lazyqsar==0.3) (3.12.2)\n",
            "Requirement already satisfied: fsspec in /usr/local/lib/python3.10/dist-packages (from huggingface-hub->PyTDC->lazyqsar==0.3) (2023.6.0)\n",
            "Requirement already satisfied: pyyaml>=5.1 in /usr/local/lib/python3.10/dist-packages (from huggingface-hub->PyTDC->lazyqsar==0.3) (6.0.1)\n",
            "Requirement already satisfied: typing-extensions>=3.7.4.3 in /usr/local/lib/python3.10/dist-packages (from huggingface-hub->PyTDC->lazyqsar==0.3) (4.5.0)\n",
            "Requirement already satisfied: llvmlite<0.40,>=0.39.0dev0 in /usr/local/lib/python3.10/dist-packages (from numba->shap->lazyqsar==0.3) (0.39.1)\n",
            "Requirement already satisfied: setuptools in /usr/local/lib/python3.10/dist-packages (from numba->shap->lazyqsar==0.3) (67.7.2)\n",
            "Requirement already satisfied: python-dateutil>=2.8.1 in /usr/local/lib/python3.10/dist-packages (from pandas->PyTDC->lazyqsar==0.3) (2.8.2)\n",
            "Requirement already satisfied: pytz>=2020.1 in /usr/local/lib/python3.10/dist-packages (from pandas->PyTDC->lazyqsar==0.3) (2023.3.post1)\n",
            "Requirement already satisfied: threadpoolctl>=2.0.0 in /usr/local/lib/python3.10/dist-packages (from scikit-learn->PyTDC->lazyqsar==0.3) (3.2.0)\n",
            "Requirement already satisfied: matplotlib!=3.6.1,>=3.1 in /usr/local/lib/python3.10/dist-packages (from seaborn->PyTDC->lazyqsar==0.3) (3.7.1)\n",
            "Requirement already satisfied: contourpy>=1.0.1 in /usr/local/lib/python3.10/dist-packages (from matplotlib!=3.6.1,>=3.1->seaborn->PyTDC->lazyqsar==0.3) (1.1.0)\n",
            "Requirement already satisfied: cycler>=0.10 in /usr/local/lib/python3.10/dist-packages (from matplotlib!=3.6.1,>=3.1->seaborn->PyTDC->lazyqsar==0.3) (0.11.0)\n",
            "Requirement already satisfied: fonttools>=4.22.0 in /usr/local/lib/python3.10/dist-packages (from matplotlib!=3.6.1,>=3.1->seaborn->PyTDC->lazyqsar==0.3) (4.42.1)\n",
            "Requirement already satisfied: kiwisolver>=1.0.1 in /usr/local/lib/python3.10/dist-packages (from matplotlib!=3.6.1,>=3.1->seaborn->PyTDC->lazyqsar==0.3) (1.4.5)\n",
            "Requirement already satisfied: pyparsing>=2.3.1 in /usr/local/lib/python3.10/dist-packages (from matplotlib!=3.6.1,>=3.1->seaborn->PyTDC->lazyqsar==0.3) (3.1.1)\n",
            "Requirement already satisfied: humanfriendly>=9.1 in /usr/local/lib/python3.10/dist-packages (from coloredlogs->onnxruntime<2.0.0,>=1.14.0->eosce->lazyqsar==0.3) (10.0)\n",
            "Requirement already satisfied: mpmath>=0.19 in /usr/local/lib/python3.10/dist-packages (from sympy->onnxruntime<2.0.0,>=1.14.0->eosce->lazyqsar==0.3) (1.3.0)\n"
          ]
        }
      ],
      "source": [
        "# Package installation\n",
        "!pip install lazyqsar==0.3"
      ]
    },
    {
      "cell_type": "markdown",
      "source": [
        "## 2. Load your data\n",
        "\n",
        "Next, we will use the pandas package to load the training data. At the bare minimmum, you should have a .csv file with two columns: SMILES and Activity of the molecule against the desired target.\n",
        "\n",
        "In Google Colab, go to the left hand side of the screen and click on the `folder` icon. There, you will see a `Upload file` icon to add your files to the Cloud. You can also call them from Google Drive. These files will be deleted if the notebook is closed, so you will need to re-upload them every time.\n",
        "\n",
        "If you are working locally, just make sure to input the right path to your data file."
      ],
      "metadata": {
        "id": "-goEzL25T-p-"
      }
    },
    {
      "cell_type": "code",
      "source": [
        "# @title File Name\n",
        "filename = \"hdac1.csv\" # @param {type:\"string\"}\n"
      ],
      "metadata": {
        "id": "apvdFbJkD8Tc"
      },
      "execution_count": 76,
      "outputs": []
    },
    {
      "cell_type": "code",
      "source": [
        "# Load data into a Pandas DataFrame (df)\n",
        "# We will use the read_csv function from Pandas to automatically upload the csv file in the right format for Python\n",
        "# We need first to import the package Pandas, which we abbreviate as pd\n",
        "\n",
        "import pandas as pd\n",
        "\n",
        "df = pd.read_csv(filename)"
      ],
      "metadata": {
        "id": "hmZhASb9Rk1c"
      },
      "execution_count": 77,
      "outputs": []
    },
    {
      "cell_type": "code",
      "source": [
        "# we can now observe how our dataframe looks like\n",
        "df"
      ],
      "metadata": {
        "id": "CVtJcEc0VE8f",
        "outputId": "88ed7c2d-16a4-4df1-b615-9c9a55688bf9",
        "colab": {
          "base_uri": "https://localhost:8080/",
          "height": 424
        }
      },
      "execution_count": 78,
      "outputs": [
        {
          "output_type": "execute_result",
          "data": {
            "text/plain": [
              "     Molecule ChEMBL ID                                             SMILES  \\\n",
              "0          CHEMBL100035        C/C(=C\\c1ccc(NS(=O)(=O)c2ccccc2)cc1)C(=O)NO   \n",
              "1         CHEMBL1076794                         Cc1ccccc1NC(=O)CCCCC(=O)NO   \n",
              "2         CHEMBL1076939  COc1cc(-n2cc(-c3cccc(NC(=O)CCCCCCC(=O)NO)c3)nn...   \n",
              "3         CHEMBL1080580  Cc1ccc(NC(=O)c2ccc(/C=C/C(=O)NO)cc2)cc1Nc1nc(-...   \n",
              "4         CHEMBL1082955        O=C(CCCCCNC(=O)NC(=O)c1ccc(-c2cncnc2)cc1)NO   \n",
              "...                 ...                                                ...   \n",
              "5799        CHEMBL99398  Nc1ccccc1NC(=O)CCCCCN1C(=O)c2cccc3cc(O)cc(c23)...   \n",
              "5800        CHEMBL99456          O=C(CCCCCCC(=O)c1ccc(-c2ccc(Br)cc2)cc1)NO   \n",
              "5801        CHEMBL99671             COc1ccc(C(=O)CCCCCCC(=O)Nc2ccccc2N)cc1   \n",
              "5802        CHEMBL99810                        O=C(CCCCCCCC(=O)c1ccccc1)NO   \n",
              "5803        CHEMBL99877               O=C(CCCCCCC(=O)c1ccc(N2CCCCC2)cc1)NO   \n",
              "\n",
              "      pIC50  \n",
              "0      5.70  \n",
              "1      6.24  \n",
              "2      8.30  \n",
              "3      7.10  \n",
              "4      6.29  \n",
              "...     ...  \n",
              "5799   6.00  \n",
              "5800   8.70  \n",
              "5801   5.30  \n",
              "5802   6.87  \n",
              "5803   8.02  \n",
              "\n",
              "[5804 rows x 3 columns]"
            ],
            "text/html": [
              "\n",
              "  <div id=\"df-fb106f7d-29cc-4602-bb1c-a1142c57c909\" class=\"colab-df-container\">\n",
              "    <div>\n",
              "<style scoped>\n",
              "    .dataframe tbody tr th:only-of-type {\n",
              "        vertical-align: middle;\n",
              "    }\n",
              "\n",
              "    .dataframe tbody tr th {\n",
              "        vertical-align: top;\n",
              "    }\n",
              "\n",
              "    .dataframe thead th {\n",
              "        text-align: right;\n",
              "    }\n",
              "</style>\n",
              "<table border=\"1\" class=\"dataframe\">\n",
              "  <thead>\n",
              "    <tr style=\"text-align: right;\">\n",
              "      <th></th>\n",
              "      <th>Molecule ChEMBL ID</th>\n",
              "      <th>SMILES</th>\n",
              "      <th>pIC50</th>\n",
              "    </tr>\n",
              "  </thead>\n",
              "  <tbody>\n",
              "    <tr>\n",
              "      <th>0</th>\n",
              "      <td>CHEMBL100035</td>\n",
              "      <td>C/C(=C\\c1ccc(NS(=O)(=O)c2ccccc2)cc1)C(=O)NO</td>\n",
              "      <td>5.70</td>\n",
              "    </tr>\n",
              "    <tr>\n",
              "      <th>1</th>\n",
              "      <td>CHEMBL1076794</td>\n",
              "      <td>Cc1ccccc1NC(=O)CCCCC(=O)NO</td>\n",
              "      <td>6.24</td>\n",
              "    </tr>\n",
              "    <tr>\n",
              "      <th>2</th>\n",
              "      <td>CHEMBL1076939</td>\n",
              "      <td>COc1cc(-n2cc(-c3cccc(NC(=O)CCCCCCC(=O)NO)c3)nn...</td>\n",
              "      <td>8.30</td>\n",
              "    </tr>\n",
              "    <tr>\n",
              "      <th>3</th>\n",
              "      <td>CHEMBL1080580</td>\n",
              "      <td>Cc1ccc(NC(=O)c2ccc(/C=C/C(=O)NO)cc2)cc1Nc1nc(-...</td>\n",
              "      <td>7.10</td>\n",
              "    </tr>\n",
              "    <tr>\n",
              "      <th>4</th>\n",
              "      <td>CHEMBL1082955</td>\n",
              "      <td>O=C(CCCCCNC(=O)NC(=O)c1ccc(-c2cncnc2)cc1)NO</td>\n",
              "      <td>6.29</td>\n",
              "    </tr>\n",
              "    <tr>\n",
              "      <th>...</th>\n",
              "      <td>...</td>\n",
              "      <td>...</td>\n",
              "      <td>...</td>\n",
              "    </tr>\n",
              "    <tr>\n",
              "      <th>5799</th>\n",
              "      <td>CHEMBL99398</td>\n",
              "      <td>Nc1ccccc1NC(=O)CCCCCN1C(=O)c2cccc3cc(O)cc(c23)...</td>\n",
              "      <td>6.00</td>\n",
              "    </tr>\n",
              "    <tr>\n",
              "      <th>5800</th>\n",
              "      <td>CHEMBL99456</td>\n",
              "      <td>O=C(CCCCCCC(=O)c1ccc(-c2ccc(Br)cc2)cc1)NO</td>\n",
              "      <td>8.70</td>\n",
              "    </tr>\n",
              "    <tr>\n",
              "      <th>5801</th>\n",
              "      <td>CHEMBL99671</td>\n",
              "      <td>COc1ccc(C(=O)CCCCCCC(=O)Nc2ccccc2N)cc1</td>\n",
              "      <td>5.30</td>\n",
              "    </tr>\n",
              "    <tr>\n",
              "      <th>5802</th>\n",
              "      <td>CHEMBL99810</td>\n",
              "      <td>O=C(CCCCCCCC(=O)c1ccccc1)NO</td>\n",
              "      <td>6.87</td>\n",
              "    </tr>\n",
              "    <tr>\n",
              "      <th>5803</th>\n",
              "      <td>CHEMBL99877</td>\n",
              "      <td>O=C(CCCCCCC(=O)c1ccc(N2CCCCC2)cc1)NO</td>\n",
              "      <td>8.02</td>\n",
              "    </tr>\n",
              "  </tbody>\n",
              "</table>\n",
              "<p>5804 rows × 3 columns</p>\n",
              "</div>\n",
              "    <div class=\"colab-df-buttons\">\n",
              "\n",
              "  <div class=\"colab-df-container\">\n",
              "    <button class=\"colab-df-convert\" onclick=\"convertToInteractive('df-fb106f7d-29cc-4602-bb1c-a1142c57c909')\"\n",
              "            title=\"Convert this dataframe to an interactive table.\"\n",
              "            style=\"display:none;\">\n",
              "\n",
              "  <svg xmlns=\"http://www.w3.org/2000/svg\" height=\"24px\" viewBox=\"0 -960 960 960\">\n",
              "    <path d=\"M120-120v-720h720v720H120Zm60-500h600v-160H180v160Zm220 220h160v-160H400v160Zm0 220h160v-160H400v160ZM180-400h160v-160H180v160Zm440 0h160v-160H620v160ZM180-180h160v-160H180v160Zm440 0h160v-160H620v160Z\"/>\n",
              "  </svg>\n",
              "    </button>\n",
              "\n",
              "  <style>\n",
              "    .colab-df-container {\n",
              "      display:flex;\n",
              "      gap: 12px;\n",
              "    }\n",
              "\n",
              "    .colab-df-convert {\n",
              "      background-color: #E8F0FE;\n",
              "      border: none;\n",
              "      border-radius: 50%;\n",
              "      cursor: pointer;\n",
              "      display: none;\n",
              "      fill: #1967D2;\n",
              "      height: 32px;\n",
              "      padding: 0 0 0 0;\n",
              "      width: 32px;\n",
              "    }\n",
              "\n",
              "    .colab-df-convert:hover {\n",
              "      background-color: #E2EBFA;\n",
              "      box-shadow: 0px 1px 2px rgba(60, 64, 67, 0.3), 0px 1px 3px 1px rgba(60, 64, 67, 0.15);\n",
              "      fill: #174EA6;\n",
              "    }\n",
              "\n",
              "    .colab-df-buttons div {\n",
              "      margin-bottom: 4px;\n",
              "    }\n",
              "\n",
              "    [theme=dark] .colab-df-convert {\n",
              "      background-color: #3B4455;\n",
              "      fill: #D2E3FC;\n",
              "    }\n",
              "\n",
              "    [theme=dark] .colab-df-convert:hover {\n",
              "      background-color: #434B5C;\n",
              "      box-shadow: 0px 1px 3px 1px rgba(0, 0, 0, 0.15);\n",
              "      filter: drop-shadow(0px 1px 2px rgba(0, 0, 0, 0.3));\n",
              "      fill: #FFFFFF;\n",
              "    }\n",
              "  </style>\n",
              "\n",
              "    <script>\n",
              "      const buttonEl =\n",
              "        document.querySelector('#df-fb106f7d-29cc-4602-bb1c-a1142c57c909 button.colab-df-convert');\n",
              "      buttonEl.style.display =\n",
              "        google.colab.kernel.accessAllowed ? 'block' : 'none';\n",
              "\n",
              "      async function convertToInteractive(key) {\n",
              "        const element = document.querySelector('#df-fb106f7d-29cc-4602-bb1c-a1142c57c909');\n",
              "        const dataTable =\n",
              "          await google.colab.kernel.invokeFunction('convertToInteractive',\n",
              "                                                    [key], {});\n",
              "        if (!dataTable) return;\n",
              "\n",
              "        const docLinkHtml = 'Like what you see? Visit the ' +\n",
              "          '<a target=\"_blank\" href=https://colab.research.google.com/notebooks/data_table.ipynb>data table notebook</a>'\n",
              "          + ' to learn more about interactive tables.';\n",
              "        element.innerHTML = '';\n",
              "        dataTable['output_type'] = 'display_data';\n",
              "        await google.colab.output.renderOutput(dataTable, element);\n",
              "        const docLink = document.createElement('div');\n",
              "        docLink.innerHTML = docLinkHtml;\n",
              "        element.appendChild(docLink);\n",
              "      }\n",
              "    </script>\n",
              "  </div>\n",
              "\n",
              "\n",
              "<div id=\"df-233ff8fa-8a1e-4ce8-af69-a243634bb620\">\n",
              "  <button class=\"colab-df-quickchart\" onclick=\"quickchart('df-233ff8fa-8a1e-4ce8-af69-a243634bb620')\"\n",
              "            title=\"Suggest charts.\"\n",
              "            style=\"display:none;\">\n",
              "\n",
              "<svg xmlns=\"http://www.w3.org/2000/svg\" height=\"24px\"viewBox=\"0 0 24 24\"\n",
              "     width=\"24px\">\n",
              "    <g>\n",
              "        <path d=\"M19 3H5c-1.1 0-2 .9-2 2v14c0 1.1.9 2 2 2h14c1.1 0 2-.9 2-2V5c0-1.1-.9-2-2-2zM9 17H7v-7h2v7zm4 0h-2V7h2v10zm4 0h-2v-4h2v4z\"/>\n",
              "    </g>\n",
              "</svg>\n",
              "  </button>\n",
              "\n",
              "<style>\n",
              "  .colab-df-quickchart {\n",
              "      --bg-color: #E8F0FE;\n",
              "      --fill-color: #1967D2;\n",
              "      --hover-bg-color: #E2EBFA;\n",
              "      --hover-fill-color: #174EA6;\n",
              "      --disabled-fill-color: #AAA;\n",
              "      --disabled-bg-color: #DDD;\n",
              "  }\n",
              "\n",
              "  [theme=dark] .colab-df-quickchart {\n",
              "      --bg-color: #3B4455;\n",
              "      --fill-color: #D2E3FC;\n",
              "      --hover-bg-color: #434B5C;\n",
              "      --hover-fill-color: #FFFFFF;\n",
              "      --disabled-bg-color: #3B4455;\n",
              "      --disabled-fill-color: #666;\n",
              "  }\n",
              "\n",
              "  .colab-df-quickchart {\n",
              "    background-color: var(--bg-color);\n",
              "    border: none;\n",
              "    border-radius: 50%;\n",
              "    cursor: pointer;\n",
              "    display: none;\n",
              "    fill: var(--fill-color);\n",
              "    height: 32px;\n",
              "    padding: 0;\n",
              "    width: 32px;\n",
              "  }\n",
              "\n",
              "  .colab-df-quickchart:hover {\n",
              "    background-color: var(--hover-bg-color);\n",
              "    box-shadow: 0 1px 2px rgba(60, 64, 67, 0.3), 0 1px 3px 1px rgba(60, 64, 67, 0.15);\n",
              "    fill: var(--button-hover-fill-color);\n",
              "  }\n",
              "\n",
              "  .colab-df-quickchart-complete:disabled,\n",
              "  .colab-df-quickchart-complete:disabled:hover {\n",
              "    background-color: var(--disabled-bg-color);\n",
              "    fill: var(--disabled-fill-color);\n",
              "    box-shadow: none;\n",
              "  }\n",
              "\n",
              "  .colab-df-spinner {\n",
              "    border: 2px solid var(--fill-color);\n",
              "    border-color: transparent;\n",
              "    border-bottom-color: var(--fill-color);\n",
              "    animation:\n",
              "      spin 1s steps(1) infinite;\n",
              "  }\n",
              "\n",
              "  @keyframes spin {\n",
              "    0% {\n",
              "      border-color: transparent;\n",
              "      border-bottom-color: var(--fill-color);\n",
              "      border-left-color: var(--fill-color);\n",
              "    }\n",
              "    20% {\n",
              "      border-color: transparent;\n",
              "      border-left-color: var(--fill-color);\n",
              "      border-top-color: var(--fill-color);\n",
              "    }\n",
              "    30% {\n",
              "      border-color: transparent;\n",
              "      border-left-color: var(--fill-color);\n",
              "      border-top-color: var(--fill-color);\n",
              "      border-right-color: var(--fill-color);\n",
              "    }\n",
              "    40% {\n",
              "      border-color: transparent;\n",
              "      border-right-color: var(--fill-color);\n",
              "      border-top-color: var(--fill-color);\n",
              "    }\n",
              "    60% {\n",
              "      border-color: transparent;\n",
              "      border-right-color: var(--fill-color);\n",
              "    }\n",
              "    80% {\n",
              "      border-color: transparent;\n",
              "      border-right-color: var(--fill-color);\n",
              "      border-bottom-color: var(--fill-color);\n",
              "    }\n",
              "    90% {\n",
              "      border-color: transparent;\n",
              "      border-bottom-color: var(--fill-color);\n",
              "    }\n",
              "  }\n",
              "</style>\n",
              "\n",
              "  <script>\n",
              "    async function quickchart(key) {\n",
              "      const quickchartButtonEl =\n",
              "        document.querySelector('#' + key + ' button');\n",
              "      quickchartButtonEl.disabled = true;  // To prevent multiple clicks.\n",
              "      quickchartButtonEl.classList.add('colab-df-spinner');\n",
              "      try {\n",
              "        const charts = await google.colab.kernel.invokeFunction(\n",
              "            'suggestCharts', [key], {});\n",
              "      } catch (error) {\n",
              "        console.error('Error during call to suggestCharts:', error);\n",
              "      }\n",
              "      quickchartButtonEl.classList.remove('colab-df-spinner');\n",
              "      quickchartButtonEl.classList.add('colab-df-quickchart-complete');\n",
              "    }\n",
              "    (() => {\n",
              "      let quickchartButtonEl =\n",
              "        document.querySelector('#df-233ff8fa-8a1e-4ce8-af69-a243634bb620 button');\n",
              "      quickchartButtonEl.style.display =\n",
              "        google.colab.kernel.accessAllowed ? 'block' : 'none';\n",
              "    })();\n",
              "  </script>\n",
              "</div>\n",
              "    </div>\n",
              "  </div>\n"
            ]
          },
          "metadata": {},
          "execution_count": 78
        }
      ]
    },
    {
      "cell_type": "code",
      "source": [
        "# and its shape\n",
        "df.shape"
      ],
      "metadata": {
        "id": "mvBsjtHtVIQ6",
        "outputId": "d572e40d-e7b3-4ac2-a660-453270594866",
        "colab": {
          "base_uri": "https://localhost:8080/"
        }
      },
      "execution_count": 79,
      "outputs": [
        {
          "output_type": "execute_result",
          "data": {
            "text/plain": [
              "(5804, 3)"
            ]
          },
          "metadata": {},
          "execution_count": 79
        }
      ]
    },
    {
      "cell_type": "code",
      "source": [
        "# Let's get the variables right!\n",
        "# If the column name changes, you need to change these variables\n",
        "# Remember Python strings are case-sensitive\n",
        "SMILES = \"SMILES\"\n",
        "EXP = \"pIC50\"\n",
        "BIN = \"bin\""
      ],
      "metadata": {
        "id": "DhNGnvO5559K"
      },
      "execution_count": 80,
      "outputs": []
    },
    {
      "cell_type": "markdown",
      "source": [
        "## 3. Define a cut-off\n",
        "\n",
        "Since we will create a classifier, we need to decide at which cut-off we consider our molecules `Active` or `Inactive`.\n",
        "\n",
        "We can visualise our data with a histogram for example to make the decision, or we can ask the original data producers for their expert recommendation."
      ],
      "metadata": {
        "id": "zSEpGWggVPp3"
      }
    },
    {
      "cell_type": "code",
      "source": [
        "# We import the plotting package Matplotlib, abbreviated as plt\n",
        "import matplotlib.pyplot as plt\n",
        "\n",
        "# We select the variable we want to plot in the histogram, in this case the activity values\n",
        "x = df[EXP] #here you need to write the exact column name, respecting Caps\n",
        "print(x)"
      ],
      "metadata": {
        "id": "8xmKsGu5VLv2",
        "outputId": "3bbe6a1c-49f8-4cb7-b0f0-661c560ff4f9",
        "colab": {
          "base_uri": "https://localhost:8080/"
        }
      },
      "execution_count": 81,
      "outputs": [
        {
          "output_type": "stream",
          "name": "stdout",
          "text": [
            "0       5.70\n",
            "1       6.24\n",
            "2       8.30\n",
            "3       7.10\n",
            "4       6.29\n",
            "        ... \n",
            "5799    6.00\n",
            "5800    8.70\n",
            "5801    5.30\n",
            "5802    6.87\n",
            "5803    8.02\n",
            "Name: pIC50, Length: 5804, dtype: float64\n"
          ]
        }
      ]
    },
    {
      "cell_type": "code",
      "source": [
        "# We now plot the data using the histogram function\n",
        "plt.hist(x)"
      ],
      "metadata": {
        "id": "SvjgNIsvVz0W",
        "outputId": "d8b36a1d-b0e6-40f7-a7db-32450d21071e",
        "colab": {
          "base_uri": "https://localhost:8080/",
          "height": 519
        }
      },
      "execution_count": 82,
      "outputs": [
        {
          "output_type": "execute_result",
          "data": {
            "text/plain": [
              "(array([1.000e+00, 1.650e+02, 6.280e+02, 1.023e+03, 1.286e+03, 1.301e+03,\n",
              "        8.590e+02, 3.700e+02, 1.480e+02, 2.300e+01]),\n",
              " array([ 3.2 ,  3.91,  4.62,  5.33,  6.04,  6.75,  7.46,  8.17,  8.88,\n",
              "         9.59, 10.3 ]),\n",
              " <BarContainer object of 10 artists>)"
            ]
          },
          "metadata": {},
          "execution_count": 82
        },
        {
          "output_type": "display_data",
          "data": {
            "text/plain": [
              "<Figure size 640x480 with 1 Axes>"
            ],
            "image/png": "[encoded data removed]"
          },
          "metadata": {}
        }
      ]
    },
    {
      "cell_type": "code",
      "source": [
        "# Depending on our data, we might want to improve the plot for better visualization\n",
        "# here, we clip the maximmum values to 20\n",
        "plt.hist(x, range=(4, 10))\n",
        "plt.xlabel(\"Log2FoldChange\")\n",
        "plt.ylabel(\"Number of mols\")"
      ],
      "metadata": {
        "id": "gMphsUGjWDmp",
        "outputId": "3cc9978b-fe11-40ca-b455-b72762f7fdbb",
        "colab": {
          "base_uri": "https://localhost:8080/",
          "height": 470
        }
      },
      "execution_count": 83,
      "outputs": [
        {
          "output_type": "execute_result",
          "data": {
            "text/plain": [
              "Text(0, 0.5, 'Number of mols')"
            ]
          },
          "metadata": {},
          "execution_count": 83
        },
        {
          "output_type": "display_data",
          "data": {
            "text/plain": [
              "<Figure size 640x480 with 1 Axes>"
            ],
            "image/png": "[encoded data removed]"
          },
          "metadata": {}
        }
      ]
    },
    {
      "cell_type": "markdown",
      "source": [
        "To identify the best activity cut-off for your data, you need to:\n",
        "- Understand the experimental set up: what kind of assay was done? what is the units of activity measured?\n",
        "- Understand what is the end goal for the model: is it obtaining the most active compounds? Is it to filter our some non-actives to reduce the test number?\n",
        "- Ask the experts! Talk to the people who ran the experiment, if possible\n",
        "\n",
        "Once you have the cut-off, transform the activities to binary. Typically, by consensus:\n",
        "- 1: Active (the compound perturbs our biological system)\n",
        "- 0: Inactive (the compound does not affect our biolgical system)"
      ],
      "metadata": {
        "id": "w6XkTh6Qhh81"
      }
    },
    {
      "cell_type": "code",
      "source": [
        "# @title Activity cut-off { display-mode: \"form\" }\n",
        "# We identify a good cut-off for our data and assign the variable cutoff\n",
        "cutoff = 7 # @param {type:\"number\"}"
      ],
      "metadata": {
        "id": "Cd_dkIydi0ya"
      },
      "execution_count": 84,
      "outputs": []
    },
    {
      "cell_type": "code",
      "source": [
        "# @title Direction of activity { display-mode: \"form\" }\n",
        "# Are our actives lower than the cut-off, or higher than the cut-off?\n",
        "direction = \"higher\" # @param {type:\"string\"}"
      ],
      "metadata": {
        "id": "TukAkeBRjRIN"
      },
      "execution_count": 85,
      "outputs": []
    },
    {
      "cell_type": "code",
      "source": [
        "# Here, we will create a new column in our file with the binary activity\n",
        "\n",
        "if direction == \"lower\":\n",
        "    df[BIN] = [1 if x <= cutoff else 0 for x in df[EXP]]\n",
        "elif direction == \"higher\":\n",
        "    df[BIN] = [1 if x >= cutoff else 0 for x in df[EXP]]\n",
        "else:\n",
        "    print(\"no direction specified. Please select lower or higher direction for the activity cut-off\")"
      ],
      "metadata": {
        "id": "mf-bD2Y3YYnk"
      },
      "execution_count": 86,
      "outputs": []
    },
    {
      "cell_type": "code",
      "source": [
        "# Let's check the output\n",
        "df"
      ],
      "metadata": {
        "id": "Tz5SbNKUihjB",
        "outputId": "b7d9afa6-524c-4896-c062-830d991d8491",
        "colab": {
          "base_uri": "https://localhost:8080/",
          "height": 424
        }
      },
      "execution_count": 87,
      "outputs": [
        {
          "output_type": "execute_result",
          "data": {
            "text/plain": [
              "     Molecule ChEMBL ID                                             SMILES  \\\n",
              "0          CHEMBL100035        C/C(=C\\c1ccc(NS(=O)(=O)c2ccccc2)cc1)C(=O)NO   \n",
              "1         CHEMBL1076794                         Cc1ccccc1NC(=O)CCCCC(=O)NO   \n",
              "2         CHEMBL1076939  COc1cc(-n2cc(-c3cccc(NC(=O)CCCCCCC(=O)NO)c3)nn...   \n",
              "3         CHEMBL1080580  Cc1ccc(NC(=O)c2ccc(/C=C/C(=O)NO)cc2)cc1Nc1nc(-...   \n",
              "4         CHEMBL1082955        O=C(CCCCCNC(=O)NC(=O)c1ccc(-c2cncnc2)cc1)NO   \n",
              "...                 ...                                                ...   \n",
              "5799        CHEMBL99398  Nc1ccccc1NC(=O)CCCCCN1C(=O)c2cccc3cc(O)cc(c23)...   \n",
              "5800        CHEMBL99456          O=C(CCCCCCC(=O)c1ccc(-c2ccc(Br)cc2)cc1)NO   \n",
              "5801        CHEMBL99671             COc1ccc(C(=O)CCCCCCC(=O)Nc2ccccc2N)cc1   \n",
              "5802        CHEMBL99810                        O=C(CCCCCCCC(=O)c1ccccc1)NO   \n",
              "5803        CHEMBL99877               O=C(CCCCCCC(=O)c1ccc(N2CCCCC2)cc1)NO   \n",
              "\n",
              "      pIC50  bin  \n",
              "0      5.70    0  \n",
              "1      6.24    0  \n",
              "2      8.30    1  \n",
              "3      7.10    1  \n",
              "4      6.29    0  \n",
              "...     ...  ...  \n",
              "5799   6.00    0  \n",
              "5800   8.70    1  \n",
              "5801   5.30    0  \n",
              "5802   6.87    0  \n",
              "5803   8.02    1  \n",
              "\n",
              "[5804 rows x 4 columns]"
            ],
            "text/html": [
              "\n",
              "  <div id=\"df-a223e329-9e7e-40e9-81b9-0f202165abe0\" class=\"colab-df-container\">\n",
              "    <div>\n",
              "<style scoped>\n",
              "    .dataframe tbody tr th:only-of-type {\n",
              "        vertical-align: middle;\n",
              "    }\n",
              "\n",
              "    .dataframe tbody tr th {\n",
              "        vertical-align: top;\n",
              "    }\n",
              "\n",
              "    .dataframe thead th {\n",
              "        text-align: right;\n",
              "    }\n",
              "</style>\n",
              "<table border=\"1\" class=\"dataframe\">\n",
              "  <thead>\n",
              "    <tr style=\"text-align: right;\">\n",
              "      <th></th>\n",
              "      <th>Molecule ChEMBL ID</th>\n",
              "      <th>SMILES</th>\n",
              "      <th>pIC50</th>\n",
              "      <th>bin</th>\n",
              "    </tr>\n",
              "  </thead>\n",
              "  <tbody>\n",
              "    <tr>\n",
              "      <th>0</th>\n",
              "      <td>CHEMBL100035</td>\n",
              "      <td>C/C(=C\\c1ccc(NS(=O)(=O)c2ccccc2)cc1)C(=O)NO</td>\n",
              "      <td>5.70</td>\n",
              "      <td>0</td>\n",
              "    </tr>\n",
              "    <tr>\n",
              "      <th>1</th>\n",
              "      <td>CHEMBL1076794</td>\n",
              "      <td>Cc1ccccc1NC(=O)CCCCC(=O)NO</td>\n",
              "      <td>6.24</td>\n",
              "      <td>0</td>\n",
              "    </tr>\n",
              "    <tr>\n",
              "      <th>2</th>\n",
              "      <td>CHEMBL1076939</td>\n",
              "      <td>COc1cc(-n2cc(-c3cccc(NC(=O)CCCCCCC(=O)NO)c3)nn...</td>\n",
              "      <td>8.30</td>\n",
              "      <td>1</td>\n",
              "    </tr>\n",
              "    <tr>\n",
              "      <th>3</th>\n",
              "      <td>CHEMBL1080580</td>\n",
              "      <td>Cc1ccc(NC(=O)c2ccc(/C=C/C(=O)NO)cc2)cc1Nc1nc(-...</td>\n",
              "      <td>7.10</td>\n",
              "      <td>1</td>\n",
              "    </tr>\n",
              "    <tr>\n",
              "      <th>4</th>\n",
              "      <td>CHEMBL1082955</td>\n",
              "      <td>O=C(CCCCCNC(=O)NC(=O)c1ccc(-c2cncnc2)cc1)NO</td>\n",
              "      <td>6.29</td>\n",
              "      <td>0</td>\n",
              "    </tr>\n",
              "    <tr>\n",
              "      <th>...</th>\n",
              "      <td>...</td>\n",
              "      <td>...</td>\n",
              "      <td>...</td>\n",
              "      <td>...</td>\n",
              "    </tr>\n",
              "    <tr>\n",
              "      <th>5799</th>\n",
              "      <td>CHEMBL99398</td>\n",
              "      <td>Nc1ccccc1NC(=O)CCCCCN1C(=O)c2cccc3cc(O)cc(c23)...</td>\n",
              "      <td>6.00</td>\n",
              "      <td>0</td>\n",
              "    </tr>\n",
              "    <tr>\n",
              "      <th>5800</th>\n",
              "      <td>CHEMBL99456</td>\n",
              "      <td>O=C(CCCCCCC(=O)c1ccc(-c2ccc(Br)cc2)cc1)NO</td>\n",
              "      <td>8.70</td>\n",
              "      <td>1</td>\n",
              "    </tr>\n",
              "    <tr>\n",
              "      <th>5801</th>\n",
              "      <td>CHEMBL99671</td>\n",
              "      <td>COc1ccc(C(=O)CCCCCCC(=O)Nc2ccccc2N)cc1</td>\n",
              "      <td>5.30</td>\n",
              "      <td>0</td>\n",
              "    </tr>\n",
              "    <tr>\n",
              "      <th>5802</th>\n",
              "      <td>CHEMBL99810</td>\n",
              "      <td>O=C(CCCCCCCC(=O)c1ccccc1)NO</td>\n",
              "      <td>6.87</td>\n",
              "      <td>0</td>\n",
              "    </tr>\n",
              "    <tr>\n",
              "      <th>5803</th>\n",
              "      <td>CHEMBL99877</td>\n",
              "      <td>O=C(CCCCCCC(=O)c1ccc(N2CCCCC2)cc1)NO</td>\n",
              "      <td>8.02</td>\n",
              "      <td>1</td>\n",
              "    </tr>\n",
              "  </tbody>\n",
              "</table>\n",
              "<p>5804 rows × 4 columns</p>\n",
              "</div>\n",
              "    <div class=\"colab-df-buttons\">\n",
              "\n",
              "  <div class=\"colab-df-container\">\n",
              "    <button class=\"colab-df-convert\" onclick=\"convertToInteractive('df-a223e329-9e7e-40e9-81b9-0f202165abe0')\"\n",
              "            title=\"Convert this dataframe to an interactive table.\"\n",
              "            style=\"display:none;\">\n",
              "\n",
              "  <svg xmlns=\"http://www.w3.org/2000/svg\" height=\"24px\" viewBox=\"0 -960 960 960\">\n",
              "    <path d=\"M120-120v-720h720v720H120Zm60-500h600v-160H180v160Zm220 220h160v-160H400v160Zm0 220h160v-160H400v160ZM180-400h160v-160H180v160Zm440 0h160v-160H620v160ZM180-180h160v-160H180v160Zm440 0h160v-160H620v160Z\"/>\n",
              "  </svg>\n",
              "    </button>\n",
              "\n",
              "  <style>\n",
              "    .colab-df-container {\n",
              "      display:flex;\n",
              "      gap: 12px;\n",
              "    }\n",
              "\n",
              "    .colab-df-convert {\n",
              "      background-color: #E8F0FE;\n",
              "      border: none;\n",
              "      border-radius: 50%;\n",
              "      cursor: pointer;\n",
              "      display: none;\n",
              "      fill: #1967D2;\n",
              "      height: 32px;\n",
              "      padding: 0 0 0 0;\n",
              "      width: 32px;\n",
              "    }\n",
              "\n",
              "    .colab-df-convert:hover {\n",
              "      background-color: #E2EBFA;\n",
              "      box-shadow: 0px 1px 2px rgba(60, 64, 67, 0.3), 0px 1px 3px 1px rgba(60, 64, 67, 0.15);\n",
              "      fill: #174EA6;\n",
              "    }\n",
              "\n",
              "    .colab-df-buttons div {\n",
              "      margin-bottom: 4px;\n",
              "    }\n",
              "\n",
              "    [theme=dark] .colab-df-convert {\n",
              "      background-color: #3B4455;\n",
              "      fill: #D2E3FC;\n",
              "    }\n",
              "\n",
              "    [theme=dark] .colab-df-convert:hover {\n",
              "      background-color: #434B5C;\n",
              "      box-shadow: 0px 1px 3px 1px rgba(0, 0, 0, 0.15);\n",
              "      filter: drop-shadow(0px 1px 2px rgba(0, 0, 0, 0.3));\n",
              "      fill: #FFFFFF;\n",
              "    }\n",
              "  </style>\n",
              "\n",
              "    <script>\n",
              "      const buttonEl =\n",
              "        document.querySelector('#df-a223e329-9e7e-40e9-81b9-0f202165abe0 button.colab-df-convert');\n",
              "      buttonEl.style.display =\n",
              "        google.colab.kernel.accessAllowed ? 'block' : 'none';\n",
              "\n",
              "      async function convertToInteractive(key) {\n",
              "        const element = document.querySelector('#df-a223e329-9e7e-40e9-81b9-0f202165abe0');\n",
              "        const dataTable =\n",
              "          await google.colab.kernel.invokeFunction('convertToInteractive',\n",
              "                                                    [key], {});\n",
              "        if (!dataTable) return;\n",
              "\n",
              "        const docLinkHtml = 'Like what you see? Visit the ' +\n",
              "          '<a target=\"_blank\" href=https://colab.research.google.com/notebooks/data_table.ipynb>data table notebook</a>'\n",
              "          + ' to learn more about interactive tables.';\n",
              "        element.innerHTML = '';\n",
              "        dataTable['output_type'] = 'display_data';\n",
              "        await google.colab.output.renderOutput(dataTable, element);\n",
              "        const docLink = document.createElement('div');\n",
              "        docLink.innerHTML = docLinkHtml;\n",
              "        element.appendChild(docLink);\n",
              "      }\n",
              "    </script>\n",
              "  </div>\n",
              "\n",
              "\n",
              "<div id=\"df-f509fa70-319c-43e5-8697-3ba7f9e2a656\">\n",
              "  <button class=\"colab-df-quickchart\" onclick=\"quickchart('df-f509fa70-319c-43e5-8697-3ba7f9e2a656')\"\n",
              "            title=\"Suggest charts.\"\n",
              "            style=\"display:none;\">\n",
              "\n",
              "<svg xmlns=\"http://www.w3.org/2000/svg\" height=\"24px\"viewBox=\"0 0 24 24\"\n",
              "     width=\"24px\">\n",
              "    <g>\n",
              "        <path d=\"M19 3H5c-1.1 0-2 .9-2 2v14c0 1.1.9 2 2 2h14c1.1 0 2-.9 2-2V5c0-1.1-.9-2-2-2zM9 17H7v-7h2v7zm4 0h-2V7h2v10zm4 0h-2v-4h2v4z\"/>\n",
              "    </g>\n",
              "</svg>\n",
              "  </button>\n",
              "\n",
              "<style>\n",
              "  .colab-df-quickchart {\n",
              "      --bg-color: #E8F0FE;\n",
              "      --fill-color: #1967D2;\n",
              "      --hover-bg-color: #E2EBFA;\n",
              "      --hover-fill-color: #174EA6;\n",
              "      --disabled-fill-color: #AAA;\n",
              "      --disabled-bg-color: #DDD;\n",
              "  }\n",
              "\n",
              "  [theme=dark] .colab-df-quickchart {\n",
              "      --bg-color: #3B4455;\n",
              "      --fill-color: #D2E3FC;\n",
              "      --hover-bg-color: #434B5C;\n",
              "      --hover-fill-color: #FFFFFF;\n",
              "      --disabled-bg-color: #3B4455;\n",
              "      --disabled-fill-color: #666;\n",
              "  }\n",
              "\n",
              "  .colab-df-quickchart {\n",
              "    background-color: var(--bg-color);\n",
              "    border: none;\n",
              "    border-radius: 50%;\n",
              "    cursor: pointer;\n",
              "    display: none;\n",
              "    fill: var(--fill-color);\n",
              "    height: 32px;\n",
              "    padding: 0;\n",
              "    width: 32px;\n",
              "  }\n",
              "\n",
              "  .colab-df-quickchart:hover {\n",
              "    background-color: var(--hover-bg-color);\n",
              "    box-shadow: 0 1px 2px rgba(60, 64, 67, 0.3), 0 1px 3px 1px rgba(60, 64, 67, 0.15);\n",
              "    fill: var(--button-hover-fill-color);\n",
              "  }\n",
              "\n",
              "  .colab-df-quickchart-complete:disabled,\n",
              "  .colab-df-quickchart-complete:disabled:hover {\n",
              "    background-color: var(--disabled-bg-color);\n",
              "    fill: var(--disabled-fill-color);\n",
              "    box-shadow: none;\n",
              "  }\n",
              "\n",
              "  .colab-df-spinner {\n",
              "    border: 2px solid var(--fill-color);\n",
              "    border-color: transparent;\n",
              "    border-bottom-color: var(--fill-color);\n",
              "    animation:\n",
              "      spin 1s steps(1) infinite;\n",
              "  }\n",
              "\n",
              "  @keyframes spin {\n",
              "    0% {\n",
              "      border-color: transparent;\n",
              "      border-bottom-color: var(--fill-color);\n",
              "      border-left-color: var(--fill-color);\n",
              "    }\n",
              "    20% {\n",
              "      border-color: transparent;\n",
              "      border-left-color: var(--fill-color);\n",
              "      border-top-color: var(--fill-color);\n",
              "    }\n",
              "    30% {\n",
              "      border-color: transparent;\n",
              "      border-left-color: var(--fill-color);\n",
              "      border-top-color: var(--fill-color);\n",
              "      border-right-color: var(--fill-color);\n",
              "    }\n",
              "    40% {\n",
              "      border-color: transparent;\n",
              "      border-right-color: var(--fill-color);\n",
              "      border-top-color: var(--fill-color);\n",
              "    }\n",
              "    60% {\n",
              "      border-color: transparent;\n",
              "      border-right-color: var(--fill-color);\n",
              "    }\n",
              "    80% {\n",
              "      border-color: transparent;\n",
              "      border-right-color: var(--fill-color);\n",
              "      border-bottom-color: var(--fill-color);\n",
              "    }\n",
              "    90% {\n",
              "      border-color: transparent;\n",
              "      border-bottom-color: var(--fill-color);\n",
              "    }\n",
              "  }\n",
              "</style>\n",
              "\n",
              "  <script>\n",
              "    async function quickchart(key) {\n",
              "      const quickchartButtonEl =\n",
              "        document.querySelector('#' + key + ' button');\n",
              "      quickchartButtonEl.disabled = true;  // To prevent multiple clicks.\n",
              "      quickchartButtonEl.classList.add('colab-df-spinner');\n",
              "      try {\n",
              "        const charts = await google.colab.kernel.invokeFunction(\n",
              "            'suggestCharts', [key], {});\n",
              "      } catch (error) {\n",
              "        console.error('Error during call to suggestCharts:', error);\n",
              "      }\n",
              "      quickchartButtonEl.classList.remove('colab-df-spinner');\n",
              "      quickchartButtonEl.classList.add('colab-df-quickchart-complete');\n",
              "    }\n",
              "    (() => {\n",
              "      let quickchartButtonEl =\n",
              "        document.querySelector('#df-f509fa70-319c-43e5-8697-3ba7f9e2a656 button');\n",
              "      quickchartButtonEl.style.display =\n",
              "        google.colab.kernel.accessAllowed ? 'block' : 'none';\n",
              "    })();\n",
              "  </script>\n",
              "</div>\n",
              "    </div>\n",
              "  </div>\n"
            ]
          },
          "metadata": {},
          "execution_count": 87
        }
      ]
    },
    {
      "cell_type": "code",
      "source": [
        "# We can print how many actives / inactives we have in our dataset\n",
        "print(\"Total molecules: \", len(df))\n",
        "print(\"Active molecules: \", len(df[df[BIN]==1]))\n",
        "print(\"Inactive molecules: \", len(df[df[BIN]==0]))\n",
        "print(\"Frequency of Actives (%): \", len(df[df[BIN]==1])/len(df)*100)"
      ],
      "metadata": {
        "id": "d6YSdNnRkd5l",
        "outputId": "d6b7538d-aa50-43f7-811a-2d24c4c70ade",
        "colab": {
          "base_uri": "https://localhost:8080/"
        }
      },
      "execution_count": 88,
      "outputs": [
        {
          "output_type": "stream",
          "name": "stdout",
          "text": [
            "Total molecules:  5804\n",
            "Active molecules:  2260\n",
            "Inactive molecules:  3544\n",
            "Frequency of Actives (%):  38.938662991040665\n"
          ]
        }
      ]
    },
    {
      "cell_type": "markdown",
      "source": [
        "## 4. Divide the data into Train and Test sets\n",
        "\n",
        "To make sure our model will have good performance, we need to keep part of the data as a test set, to evaluate the model once trained.\n",
        "\n",
        "Typically, it is good practice to reserve ~20% of the data as test set. Make sure that the balance of actives / inactives is maintained both in the train and the test sets.\n",
        "\n",
        "We will try a 5-fold cross-validation (run 5 times random train-test split sets and evaluate the different model performances)"
      ],
      "metadata": {
        "id": "FFM0ERcUj3uL"
      }
    },
    {
      "cell_type": "code",
      "source": [
        "# We will use this function to split the data\n",
        "# The function uses the sklearn train_test_split built-in method\n",
        "from sklearn.model_selection import train_test_split\n",
        "import numpy as np\n",
        "\n",
        "def random_split(df, size):\n",
        "    indices = np.arange(len(df))\n",
        "    X_train, X_test, y_train, y_test, i_train, i_test = train_test_split(df[SMILES], df[EXP], indices, test_size=size, stratify=df[BIN])\n",
        "    train = df.iloc[i_train]\n",
        "    test = df.iloc[i_test]\n",
        "    return train, test"
      ],
      "metadata": {
        "id": "znw48FdFj0Z7"
      },
      "execution_count": 89,
      "outputs": []
    },
    {
      "cell_type": "code",
      "source": [
        "for i in range(5):\n",
        "    train, test = random_split(df, 0.2)\n",
        "    train.to_csv(\"train_set_{}.csv\".format(i), index=False)\n",
        "    test.to_csv(\"test_set_{}.csv\".format(i), index=False)"
      ],
      "metadata": {
        "id": "WAC8hkvLlX8N"
      },
      "execution_count": 90,
      "outputs": []
    },
    {
      "cell_type": "code",
      "source": [
        "# We can make sure the active / inactive balance was preserved\n",
        "train_balance = len(train[train[BIN]==1])/len(train)*100\n",
        "test_balance = len(test[test[BIN]==1])/len(test)*100\n",
        "\n",
        "print(\"The frequency of Actives in the train set is: \", train_balance)\n",
        "print(\"The frequency of Actives in the test set is: \", test_balance)"
      ],
      "metadata": {
        "id": "zFotFHxnleQj",
        "outputId": "db3f1fa4-c912-4643-d236-8444f4cdc603",
        "colab": {
          "base_uri": "https://localhost:8080/"
        }
      },
      "execution_count": 91,
      "outputs": [
        {
          "output_type": "stream",
          "name": "stdout",
          "text": [
            "The frequency of Actives in the train set is:  38.940340297221624\n",
            "The frequency of Actives in the test set is:  38.93195521102498\n"
          ]
        }
      ]
    },
    {
      "cell_type": "markdown",
      "source": [
        "_* We have individually created the descriptors so that we can check how they look like. Luckily, LazyQSAR provides a single funtion to convert the smiles to vectors and train an ML model, so we will use that feature_"
      ],
      "metadata": {
        "id": "d-1cJPtbqZdt"
      }
    },
    {
      "cell_type": "markdown",
      "source": [
        "## 6. Train an ML model & get the predictions with Morgan Fingerprints\n",
        "\n",
        "We have our input (morgan descriptors) and the endpoint, the activity in binary format (1 or 0) so we are ready to train a classifier!\n",
        "We will use the built-in method in LazyQSAR"
      ],
      "metadata": {
        "id": "BXb5IfUeqMNi"
      }
    },
    {
      "cell_type": "code",
      "source": [
        "import lazyqsar as lq\n",
        "\n",
        "for i in range(5):\n",
        "    train = pd.read_csv(\"train_set_{}.csv\".format(i))\n",
        "    test = pd.read_csv(\"test_set_{}.csv\".format(i))\n",
        "    smiles_train = train[SMILES]\n",
        "    y_train = train[BIN]\n",
        "    model = lq.MorganBinaryClassifier(time_budget_sec=60, estimator_list=[\"rf\", \"lgbm\", \"xgboost\"])\n",
        "    model.fit(train[SMILES], train[BIN])\n",
        "    y_hat = model.predict_proba(test[SMILES])\n",
        "    test[\"proba1\"] = y_hat[:,1]\n",
        "    test.to_csv(\"test_set_pred_morgan_{}.csv\".format(i))"
      ],
      "metadata": {
        "id": "yo3CxlLhqADe",
        "outputId": "fb83b8f2-4f50-45a9-e2ee-b330ded4d967",
        "colab": {
          "base_uri": "https://localhost:8080/"
        }
      },
      "execution_count": 92,
      "outputs": [
        {
          "output_type": "stream",
          "name": "stdout",
          "text": [
            "[flaml.automl.logger: 09-26 15:06:31] {1679} INFO - task = classification\n",
            "[flaml.automl.logger: 09-26 15:06:31] {1690} INFO - Evaluation method: holdout\n",
            "[flaml.automl.logger: 09-26 15:06:31] {1788} INFO - Minimizing error metric: 1-roc_auc\n",
            "[flaml.automl.logger: 09-26 15:06:31] {1900} INFO - List of ML learners in AutoML Run: ['rf', 'lgbm', 'xgboost']\n",
            "[flaml.automl.logger: 09-26 15:06:31] {2218} INFO - iteration 0, current learner rf\n",
            "[flaml.automl.logger: 09-26 15:06:31] {2344} INFO - Estimated sufficient time budget=841s. Estimated necessary time budget=1s.\n",
            "[flaml.automl.logger: 09-26 15:06:31] {2391} INFO -  at 0.2s,\testimator rf's best error=0.3128,\tbest estimator rf's best error=0.3128\n",
            "[flaml.automl.logger: 09-26 15:06:31] {2218} INFO - iteration 1, current learner lgbm\n",
            "[flaml.automl.logger: 09-26 15:06:31] {2391} INFO -  at 0.6s,\testimator lgbm's best error=0.3114,\tbest estimator lgbm's best error=0.3114\n",
            "[flaml.automl.logger: 09-26 15:06:31] {2218} INFO - iteration 2, current learner xgboost\n"
          ]
        },
        {
          "output_type": "stream",
          "name": "stderr",
          "text": [
            "`use_label_encoder` is deprecated in 1.7.0.\n"
          ]
        },
        {
          "output_type": "stream",
          "name": "stdout",
          "text": [
            "[flaml.automl.logger: 09-26 15:06:32] {2391} INFO -  at 1.3s,\testimator xgboost's best error=0.3114,\tbest estimator lgbm's best error=0.3114\n",
            "[flaml.automl.logger: 09-26 15:06:32] {2218} INFO - iteration 3, current learner rf\n",
            "[flaml.automl.logger: 09-26 15:06:32] {2391} INFO -  at 1.4s,\testimator rf's best error=0.2436,\tbest estimator rf's best error=0.2436\n",
            "[flaml.automl.logger: 09-26 15:06:32] {2218} INFO - iteration 4, current learner lgbm\n",
            "[flaml.automl.logger: 09-26 15:06:33] {2391} INFO -  at 1.8s,\testimator lgbm's best error=0.3114,\tbest estimator rf's best error=0.2436\n",
            "[flaml.automl.logger: 09-26 15:06:33] {2218} INFO - iteration 5, current learner rf\n",
            "[flaml.automl.logger: 09-26 15:06:33] {2391} INFO -  at 1.8s,\testimator rf's best error=0.2436,\tbest estimator rf's best error=0.2436\n",
            "[flaml.automl.logger: 09-26 15:06:33] {2218} INFO - iteration 6, current learner rf\n",
            "[flaml.automl.logger: 09-26 15:06:33] {2391} INFO -  at 2.0s,\testimator rf's best error=0.2142,\tbest estimator rf's best error=0.2142\n",
            "[flaml.automl.logger: 09-26 15:06:33] {2218} INFO - iteration 7, current learner rf\n",
            "[flaml.automl.logger: 09-26 15:06:33] {2391} INFO -  at 2.2s,\testimator rf's best error=0.2142,\tbest estimator rf's best error=0.2142\n",
            "[flaml.automl.logger: 09-26 15:06:33] {2218} INFO - iteration 8, current learner rf\n",
            "[flaml.automl.logger: 09-26 15:06:33] {2391} INFO -  at 2.4s,\testimator rf's best error=0.2142,\tbest estimator rf's best error=0.2142\n",
            "[flaml.automl.logger: 09-26 15:06:33] {2218} INFO - iteration 9, current learner rf\n",
            "[flaml.automl.logger: 09-26 15:06:33] {2391} INFO -  at 2.5s,\testimator rf's best error=0.2035,\tbest estimator rf's best error=0.2035\n",
            "[flaml.automl.logger: 09-26 15:06:33] {2218} INFO - iteration 10, current learner rf\n",
            "[flaml.automl.logger: 09-26 15:06:33] {2391} INFO -  at 2.7s,\testimator rf's best error=0.1687,\tbest estimator rf's best error=0.1687\n",
            "[flaml.automl.logger: 09-26 15:06:33] {2218} INFO - iteration 11, current learner rf\n",
            "[flaml.automl.logger: 09-26 15:06:34] {2391} INFO -  at 2.9s,\testimator rf's best error=0.1687,\tbest estimator rf's best error=0.1687\n",
            "[flaml.automl.logger: 09-26 15:06:34] {2218} INFO - iteration 12, current learner rf\n",
            "[flaml.automl.logger: 09-26 15:06:34] {2391} INFO -  at 3.1s,\testimator rf's best error=0.1687,\tbest estimator rf's best error=0.1687\n",
            "[flaml.automl.logger: 09-26 15:06:34] {2218} INFO - iteration 13, current learner rf\n",
            "[flaml.automl.logger: 09-26 15:06:34] {2391} INFO -  at 3.4s,\testimator rf's best error=0.1219,\tbest estimator rf's best error=0.1219\n",
            "[flaml.automl.logger: 09-26 15:06:34] {2218} INFO - iteration 14, current learner lgbm\n",
            "[flaml.automl.logger: 09-26 15:06:34] {2391} INFO -  at 3.7s,\testimator lgbm's best error=0.2776,\tbest estimator rf's best error=0.1219\n",
            "[flaml.automl.logger: 09-26 15:06:34] {2218} INFO - iteration 15, current learner rf\n",
            "[flaml.automl.logger: 09-26 15:06:35] {2391} INFO -  at 4.0s,\testimator rf's best error=0.1219,\tbest estimator rf's best error=0.1219\n",
            "[flaml.automl.logger: 09-26 15:06:35] {2218} INFO - iteration 16, current learner xgboost\n"
          ]
        },
        {
          "output_type": "stream",
          "name": "stderr",
          "text": [
            "`use_label_encoder` is deprecated in 1.7.0.\n"
          ]
        },
        {
          "output_type": "stream",
          "name": "stdout",
          "text": [
            "[flaml.automl.logger: 09-26 15:06:35] {2391} INFO -  at 4.6s,\testimator xgboost's best error=0.3114,\tbest estimator rf's best error=0.1219\n",
            "[flaml.automl.logger: 09-26 15:06:35] {2218} INFO - iteration 17, current learner rf\n",
            "[flaml.automl.logger: 09-26 15:06:36] {2391} INFO -  at 5.1s,\testimator rf's best error=0.1214,\tbest estimator rf's best error=0.1214\n",
            "[flaml.automl.logger: 09-26 15:06:36] {2218} INFO - iteration 18, current learner lgbm\n",
            "[flaml.automl.logger: 09-26 15:06:36] {2391} INFO -  at 5.5s,\testimator lgbm's best error=0.1796,\tbest estimator rf's best error=0.1214\n",
            "[flaml.automl.logger: 09-26 15:06:36] {2218} INFO - iteration 19, current learner lgbm\n",
            "[flaml.automl.logger: 09-26 15:06:37] {2391} INFO -  at 5.9s,\testimator lgbm's best error=0.1796,\tbest estimator rf's best error=0.1214\n",
            "[flaml.automl.logger: 09-26 15:06:37] {2218} INFO - iteration 20, current learner lgbm\n",
            "[flaml.automl.logger: 09-26 15:06:37] {2391} INFO -  at 6.3s,\testimator lgbm's best error=0.1796,\tbest estimator rf's best error=0.1214\n",
            "[flaml.automl.logger: 09-26 15:06:37] {2218} INFO - iteration 21, current learner rf\n",
            "[flaml.automl.logger: 09-26 15:06:37] {2391} INFO -  at 6.6s,\testimator rf's best error=0.1148,\tbest estimator rf's best error=0.1148\n",
            "[flaml.automl.logger: 09-26 15:06:37] {2218} INFO - iteration 22, current learner rf\n",
            "[flaml.automl.logger: 09-26 15:06:38] {2391} INFO -  at 7.1s,\testimator rf's best error=0.1024,\tbest estimator rf's best error=0.1024\n",
            "[flaml.automl.logger: 09-26 15:06:38] {2218} INFO - iteration 23, current learner lgbm\n",
            "[flaml.automl.logger: 09-26 15:06:38] {2391} INFO -  at 7.5s,\testimator lgbm's best error=0.1796,\tbest estimator rf's best error=0.1024\n",
            "[flaml.automl.logger: 09-26 15:06:38] {2218} INFO - iteration 24, current learner xgboost\n"
          ]
        },
        {
          "output_type": "stream",
          "name": "stderr",
          "text": [
            "`use_label_encoder` is deprecated in 1.7.0.\n"
          ]
        },
        {
          "output_type": "stream",
          "name": "stdout",
          "text": [
            "[flaml.automl.logger: 09-26 15:06:39] {2391} INFO -  at 8.1s,\testimator xgboost's best error=0.2808,\tbest estimator rf's best error=0.1024\n",
            "[flaml.automl.logger: 09-26 15:06:39] {2218} INFO - iteration 25, current learner rf\n",
            "[flaml.automl.logger: 09-26 15:06:39] {2391} INFO -  at 8.7s,\testimator rf's best error=0.0963,\tbest estimator rf's best error=0.0963\n",
            "[flaml.automl.logger: 09-26 15:06:39] {2218} INFO - iteration 26, current learner rf\n",
            "[flaml.automl.logger: 09-26 15:06:40] {2391} INFO -  at 9.5s,\testimator rf's best error=0.0963,\tbest estimator rf's best error=0.0963\n",
            "[flaml.automl.logger: 09-26 15:06:40] {2218} INFO - iteration 27, current learner lgbm\n",
            "[flaml.automl.logger: 09-26 15:06:46] {2391} INFO -  at 14.8s,\testimator lgbm's best error=0.1796,\tbest estimator rf's best error=0.0963\n",
            "[flaml.automl.logger: 09-26 15:06:46] {2218} INFO - iteration 28, current learner rf\n",
            "[flaml.automl.logger: 09-26 15:06:46] {2391} INFO -  at 15.4s,\testimator rf's best error=0.0963,\tbest estimator rf's best error=0.0963\n",
            "[flaml.automl.logger: 09-26 15:06:46] {2218} INFO - iteration 29, current learner rf\n",
            "[flaml.automl.logger: 09-26 15:06:48] {2391} INFO -  at 17.0s,\testimator rf's best error=0.0963,\tbest estimator rf's best error=0.0963\n",
            "[flaml.automl.logger: 09-26 15:06:48] {2218} INFO - iteration 30, current learner rf\n",
            "[flaml.automl.logger: 09-26 15:06:49] {2391} INFO -  at 18.3s,\testimator rf's best error=0.0889,\tbest estimator rf's best error=0.0889\n",
            "[flaml.automl.logger: 09-26 15:06:49] {2218} INFO - iteration 31, current learner rf\n",
            "[flaml.automl.logger: 09-26 15:06:50] {2391} INFO -  at 18.9s,\testimator rf's best error=0.0889,\tbest estimator rf's best error=0.0889\n",
            "[flaml.automl.logger: 09-26 15:06:50] {2218} INFO - iteration 32, current learner xgboost\n"
          ]
        },
        {
          "output_type": "stream",
          "name": "stderr",
          "text": [
            "`use_label_encoder` is deprecated in 1.7.0.\n"
          ]
        },
        {
          "output_type": "stream",
          "name": "stdout",
          "text": [
            "[flaml.automl.logger: 09-26 15:06:50] {2391} INFO -  at 19.5s,\testimator xgboost's best error=0.2394,\tbest estimator rf's best error=0.0889\n",
            "[flaml.automl.logger: 09-26 15:06:50] {2218} INFO - iteration 33, current learner rf\n",
            "[flaml.automl.logger: 09-26 15:06:52] {2391} INFO -  at 20.8s,\testimator rf's best error=0.0827,\tbest estimator rf's best error=0.0827\n",
            "[flaml.automl.logger: 09-26 15:06:52] {2218} INFO - iteration 34, current learner rf\n",
            "[flaml.automl.logger: 09-26 15:06:53] {2391} INFO -  at 22.0s,\testimator rf's best error=0.0827,\tbest estimator rf's best error=0.0827\n",
            "[flaml.automl.logger: 09-26 15:06:53] {2218} INFO - iteration 35, current learner xgboost\n"
          ]
        },
        {
          "output_type": "stream",
          "name": "stderr",
          "text": [
            "`use_label_encoder` is deprecated in 1.7.0.\n"
          ]
        },
        {
          "output_type": "stream",
          "name": "stdout",
          "text": [
            "[flaml.automl.logger: 09-26 15:06:55] {2391} INFO -  at 24.3s,\testimator xgboost's best error=0.2095,\tbest estimator rf's best error=0.0827\n",
            "[flaml.automl.logger: 09-26 15:06:55] {2218} INFO - iteration 36, current learner rf\n",
            "[flaml.automl.logger: 09-26 15:06:58] {2391} INFO -  at 27.7s,\testimator rf's best error=0.0827,\tbest estimator rf's best error=0.0827\n",
            "[flaml.automl.logger: 09-26 15:06:58] {2218} INFO - iteration 37, current learner lgbm\n",
            "[flaml.automl.logger: 09-26 15:06:59] {2391} INFO -  at 28.3s,\testimator lgbm's best error=0.1603,\tbest estimator rf's best error=0.0827\n",
            "[flaml.automl.logger: 09-26 15:06:59] {2218} INFO - iteration 38, current learner rf\n",
            "[flaml.automl.logger: 09-26 15:07:01] {2391} INFO -  at 29.9s,\testimator rf's best error=0.0827,\tbest estimator rf's best error=0.0827\n",
            "[flaml.automl.logger: 09-26 15:07:01] {2218} INFO - iteration 39, current learner rf\n",
            "[flaml.automl.logger: 09-26 15:07:02] {2391} INFO -  at 31.6s,\testimator rf's best error=0.0827,\tbest estimator rf's best error=0.0827\n",
            "[flaml.automl.logger: 09-26 15:07:02] {2218} INFO - iteration 40, current learner xgboost\n"
          ]
        },
        {
          "output_type": "stream",
          "name": "stderr",
          "text": [
            "`use_label_encoder` is deprecated in 1.7.0.\n"
          ]
        },
        {
          "output_type": "stream",
          "name": "stdout",
          "text": [
            "[flaml.automl.logger: 09-26 15:07:04] {2391} INFO -  at 33.0s,\testimator xgboost's best error=0.2095,\tbest estimator rf's best error=0.0827\n",
            "[flaml.automl.logger: 09-26 15:07:04] {2218} INFO - iteration 41, current learner rf\n",
            "[flaml.automl.logger: 09-26 15:07:07] {2391} INFO -  at 36.0s,\testimator rf's best error=0.0827,\tbest estimator rf's best error=0.0827\n",
            "[flaml.automl.logger: 09-26 15:07:07] {2218} INFO - iteration 42, current learner lgbm\n",
            "[flaml.automl.logger: 09-26 15:07:07] {2391} INFO -  at 36.5s,\testimator lgbm's best error=0.1603,\tbest estimator rf's best error=0.0827\n",
            "[flaml.automl.logger: 09-26 15:07:07] {2218} INFO - iteration 43, current learner xgboost\n"
          ]
        },
        {
          "output_type": "stream",
          "name": "stderr",
          "text": [
            "`use_label_encoder` is deprecated in 1.7.0.\n"
          ]
        },
        {
          "output_type": "stream",
          "name": "stdout",
          "text": [
            "[flaml.automl.logger: 09-26 15:07:10] {2391} INFO -  at 39.1s,\testimator xgboost's best error=0.1763,\tbest estimator rf's best error=0.0827\n",
            "[flaml.automl.logger: 09-26 15:07:10] {2218} INFO - iteration 44, current learner xgboost\n"
          ]
        },
        {
          "output_type": "stream",
          "name": "stderr",
          "text": [
            "`use_label_encoder` is deprecated in 1.7.0.\n"
          ]
        },
        {
          "output_type": "stream",
          "name": "stdout",
          "text": [
            "[flaml.automl.logger: 09-26 15:07:12] {2391} INFO -  at 41.6s,\testimator xgboost's best error=0.1739,\tbest estimator rf's best error=0.0827\n",
            "[flaml.automl.logger: 09-26 15:07:12] {2218} INFO - iteration 45, current learner rf\n",
            "[flaml.automl.logger: 09-26 15:07:16] {2391} INFO -  at 45.0s,\testimator rf's best error=0.0827,\tbest estimator rf's best error=0.0827\n",
            "[flaml.automl.logger: 09-26 15:07:16] {2218} INFO - iteration 46, current learner lgbm\n",
            "[flaml.automl.logger: 09-26 15:07:16] {2391} INFO -  at 45.6s,\testimator lgbm's best error=0.0998,\tbest estimator rf's best error=0.0827\n",
            "[flaml.automl.logger: 09-26 15:07:16] {2218} INFO - iteration 47, current learner lgbm\n",
            "[flaml.automl.logger: 09-26 15:07:17] {2391} INFO -  at 46.4s,\testimator lgbm's best error=0.0896,\tbest estimator rf's best error=0.0827\n",
            "[flaml.automl.logger: 09-26 15:07:17] {2218} INFO - iteration 48, current learner lgbm\n",
            "[flaml.automl.logger: 09-26 15:07:18] {2391} INFO -  at 47.0s,\testimator lgbm's best error=0.0896,\tbest estimator rf's best error=0.0827\n",
            "[flaml.automl.logger: 09-26 15:07:18] {2218} INFO - iteration 49, current learner lgbm\n",
            "[flaml.automl.logger: 09-26 15:07:18] {2391} INFO -  at 47.6s,\testimator lgbm's best error=0.0896,\tbest estimator rf's best error=0.0827\n",
            "[flaml.automl.logger: 09-26 15:07:18] {2218} INFO - iteration 50, current learner lgbm\n",
            "[flaml.automl.logger: 09-26 15:07:19] {2391} INFO -  at 48.5s,\testimator lgbm's best error=0.0716,\tbest estimator lgbm's best error=0.0716\n",
            "[flaml.automl.logger: 09-26 15:07:19] {2218} INFO - iteration 51, current learner lgbm\n",
            "[flaml.automl.logger: 09-26 15:07:20] {2391} INFO -  at 49.5s,\testimator lgbm's best error=0.0716,\tbest estimator lgbm's best error=0.0716\n",
            "[flaml.automl.logger: 09-26 15:07:20] {2218} INFO - iteration 52, current learner lgbm\n",
            "[flaml.automl.logger: 09-26 15:07:21] {2391} INFO -  at 50.5s,\testimator lgbm's best error=0.0716,\tbest estimator lgbm's best error=0.0716\n",
            "[flaml.automl.logger: 09-26 15:07:21] {2218} INFO - iteration 53, current learner rf\n",
            "[flaml.automl.logger: 09-26 15:07:22] {2391} INFO -  at 51.6s,\testimator rf's best error=0.0827,\tbest estimator lgbm's best error=0.0716\n",
            "[flaml.automl.logger: 09-26 15:07:22] {2218} INFO - iteration 54, current learner lgbm\n",
            "[flaml.automl.logger: 09-26 15:07:27] {2391} INFO -  at 56.1s,\testimator lgbm's best error=0.0697,\tbest estimator lgbm's best error=0.0697\n",
            "[flaml.automl.logger: 09-26 15:07:27] {2218} INFO - iteration 55, current learner rf\n",
            "[flaml.automl.logger: 09-26 15:07:29] {2391} INFO -  at 58.1s,\testimator rf's best error=0.0827,\tbest estimator lgbm's best error=0.0697\n",
            "[flaml.automl.logger: 09-26 15:07:29] {2218} INFO - iteration 56, current learner rf\n",
            "[flaml.automl.logger: 09-26 15:07:30] {2391} INFO -  at 59.2s,\testimator rf's best error=0.0827,\tbest estimator lgbm's best error=0.0697\n",
            "[flaml.automl.logger: 09-26 15:07:31] {2627} INFO - retrain lgbm for 1.3s\n",
            "[flaml.automl.logger: 09-26 15:07:31] {2630} INFO - retrained model: LGBMClassifier(colsample_bytree=0.7127567530716736,\n",
            "               learning_rate=0.3426295489683856, max_bin=1023,\n",
            "               min_child_samples=4, n_estimators=1, n_jobs=-1, num_leaves=170,\n",
            "               reg_alpha=0.003934614746573571, reg_lambda=0.010635396363752632,\n",
            "               verbose=-1)\n",
            "[flaml.automl.logger: 09-26 15:07:31] {1930} INFO - fit succeeded\n",
            "[flaml.automl.logger: 09-26 15:07:31] {1931} INFO - Time taken to find the best model: 56.13141655921936\n",
            "[flaml.automl.logger: 09-26 15:07:35] {1679} INFO - task = classification\n",
            "[flaml.automl.logger: 09-26 15:07:35] {1690} INFO - Evaluation method: holdout\n",
            "[flaml.automl.logger: 09-26 15:07:35] {1788} INFO - Minimizing error metric: 1-roc_auc\n",
            "[flaml.automl.logger: 09-26 15:07:35] {1900} INFO - List of ML learners in AutoML Run: ['rf', 'lgbm', 'xgboost']\n",
            "[flaml.automl.logger: 09-26 15:07:35] {2218} INFO - iteration 0, current learner rf\n",
            "[flaml.automl.logger: 09-26 15:07:35] {2344} INFO - Estimated sufficient time budget=914s. Estimated necessary time budget=1s.\n",
            "[flaml.automl.logger: 09-26 15:07:35] {2391} INFO -  at 0.2s,\testimator rf's best error=0.2985,\tbest estimator rf's best error=0.2985\n",
            "[flaml.automl.logger: 09-26 15:07:35] {2218} INFO - iteration 1, current learner lgbm\n",
            "[flaml.automl.logger: 09-26 15:07:36] {2391} INFO -  at 0.6s,\testimator lgbm's best error=0.3315,\tbest estimator rf's best error=0.2985\n",
            "[flaml.automl.logger: 09-26 15:07:36] {2218} INFO - iteration 2, current learner xgboost\n"
          ]
        },
        {
          "output_type": "stream",
          "name": "stderr",
          "text": [
            "`use_label_encoder` is deprecated in 1.7.0.\n"
          ]
        },
        {
          "output_type": "stream",
          "name": "stdout",
          "text": [
            "[flaml.automl.logger: 09-26 15:07:37] {2391} INFO -  at 2.1s,\testimator xgboost's best error=0.3260,\tbest estimator rf's best error=0.2985\n",
            "[flaml.automl.logger: 09-26 15:07:37] {2218} INFO - iteration 3, current learner rf\n",
            "[flaml.automl.logger: 09-26 15:07:37] {2391} INFO -  at 2.3s,\testimator rf's best error=0.2984,\tbest estimator rf's best error=0.2984\n",
            "[flaml.automl.logger: 09-26 15:07:37] {2218} INFO - iteration 4, current learner lgbm\n",
            "[flaml.automl.logger: 09-26 15:07:40] {2391} INFO -  at 4.6s,\testimator lgbm's best error=0.3221,\tbest estimator rf's best error=0.2984\n",
            "[flaml.automl.logger: 09-26 15:07:40] {2218} INFO - iteration 5, current learner rf\n",
            "[flaml.automl.logger: 09-26 15:07:40] {2391} INFO -  at 4.7s,\testimator rf's best error=0.2984,\tbest estimator rf's best error=0.2984\n",
            "[flaml.automl.logger: 09-26 15:07:40] {2218} INFO - iteration 6, current learner rf\n",
            "[flaml.automl.logger: 09-26 15:07:40] {2391} INFO -  at 4.9s,\testimator rf's best error=0.2583,\tbest estimator rf's best error=0.2583\n",
            "[flaml.automl.logger: 09-26 15:07:40] {2218} INFO - iteration 7, current learner rf\n",
            "[flaml.automl.logger: 09-26 15:07:40] {2391} INFO -  at 5.1s,\testimator rf's best error=0.2583,\tbest estimator rf's best error=0.2583\n",
            "[flaml.automl.logger: 09-26 15:07:40] {2218} INFO - iteration 8, current learner rf\n",
            "[flaml.automl.logger: 09-26 15:07:40] {2391} INFO -  at 5.4s,\testimator rf's best error=0.2411,\tbest estimator rf's best error=0.2411\n",
            "[flaml.automl.logger: 09-26 15:07:40] {2218} INFO - iteration 9, current learner rf\n",
            "[flaml.automl.logger: 09-26 15:07:41] {2391} INFO -  at 5.6s,\testimator rf's best error=0.2411,\tbest estimator rf's best error=0.2411\n",
            "[flaml.automl.logger: 09-26 15:07:41] {2218} INFO - iteration 10, current learner rf\n",
            "[flaml.automl.logger: 09-26 15:07:41] {2391} INFO -  at 6.4s,\testimator rf's best error=0.2093,\tbest estimator rf's best error=0.2093\n",
            "[flaml.automl.logger: 09-26 15:07:41] {2218} INFO - iteration 11, current learner rf\n",
            "[flaml.automl.logger: 09-26 15:07:42] {2391} INFO -  at 6.7s,\testimator rf's best error=0.2093,\tbest estimator rf's best error=0.2093\n",
            "[flaml.automl.logger: 09-26 15:07:42] {2218} INFO - iteration 12, current learner rf\n",
            "[flaml.automl.logger: 09-26 15:07:42] {2391} INFO -  at 7.2s,\testimator rf's best error=0.2093,\tbest estimator rf's best error=0.2093\n",
            "[flaml.automl.logger: 09-26 15:07:42] {2218} INFO - iteration 13, current learner rf\n",
            "[flaml.automl.logger: 09-26 15:07:43] {2391} INFO -  at 7.9s,\testimator rf's best error=0.1453,\tbest estimator rf's best error=0.1453\n",
            "[flaml.automl.logger: 09-26 15:07:43] {2218} INFO - iteration 14, current learner xgboost\n"
          ]
        },
        {
          "output_type": "stream",
          "name": "stderr",
          "text": [
            "`use_label_encoder` is deprecated in 1.7.0.\n"
          ]
        },
        {
          "output_type": "stream",
          "name": "stdout",
          "text": [
            "[flaml.automl.logger: 09-26 15:07:44] {2391} INFO -  at 8.5s,\testimator xgboost's best error=0.3260,\tbest estimator rf's best error=0.1453\n",
            "[flaml.automl.logger: 09-26 15:07:44] {2218} INFO - iteration 15, current learner rf\n",
            "[flaml.automl.logger: 09-26 15:07:44] {2391} INFO -  at 9.0s,\testimator rf's best error=0.1453,\tbest estimator rf's best error=0.1453\n",
            "[flaml.automl.logger: 09-26 15:07:44] {2218} INFO - iteration 16, current learner xgboost\n"
          ]
        },
        {
          "output_type": "stream",
          "name": "stderr",
          "text": [
            "`use_label_encoder` is deprecated in 1.7.0.\n"
          ]
        },
        {
          "output_type": "stream",
          "name": "stdout",
          "text": [
            "[flaml.automl.logger: 09-26 15:07:45] {2391} INFO -  at 9.7s,\testimator xgboost's best error=0.2653,\tbest estimator rf's best error=0.1453\n",
            "[flaml.automl.logger: 09-26 15:07:45] {2218} INFO - iteration 17, current learner rf\n",
            "[flaml.automl.logger: 09-26 15:07:46] {2391} INFO -  at 11.0s,\testimator rf's best error=0.1277,\tbest estimator rf's best error=0.1277\n",
            "[flaml.automl.logger: 09-26 15:07:46] {2218} INFO - iteration 18, current learner rf\n",
            "[flaml.automl.logger: 09-26 15:07:47] {2391} INFO -  at 11.8s,\testimator rf's best error=0.1200,\tbest estimator rf's best error=0.1200\n",
            "[flaml.automl.logger: 09-26 15:07:47] {2218} INFO - iteration 19, current learner rf\n",
            "[flaml.automl.logger: 09-26 15:07:48] {2391} INFO -  at 13.1s,\testimator rf's best error=0.1200,\tbest estimator rf's best error=0.1200\n",
            "[flaml.automl.logger: 09-26 15:07:48] {2218} INFO - iteration 20, current learner rf\n",
            "[flaml.automl.logger: 09-26 15:07:49] {2391} INFO -  at 13.9s,\testimator rf's best error=0.0952,\tbest estimator rf's best error=0.0952\n",
            "[flaml.automl.logger: 09-26 15:07:49] {2218} INFO - iteration 21, current learner rf\n",
            "[flaml.automl.logger: 09-26 15:07:50] {2391} INFO -  at 14.6s,\testimator rf's best error=0.0952,\tbest estimator rf's best error=0.0952\n",
            "[flaml.automl.logger: 09-26 15:07:50] {2218} INFO - iteration 22, current learner rf\n",
            "[flaml.automl.logger: 09-26 15:07:50] {2391} INFO -  at 15.2s,\testimator rf's best error=0.0952,\tbest estimator rf's best error=0.0952\n",
            "[flaml.automl.logger: 09-26 15:07:50] {2218} INFO - iteration 23, current learner xgboost\n"
          ]
        },
        {
          "output_type": "stream",
          "name": "stderr",
          "text": [
            "`use_label_encoder` is deprecated in 1.7.0.\n"
          ]
        },
        {
          "output_type": "stream",
          "name": "stdout",
          "text": [
            "[flaml.automl.logger: 09-26 15:07:52] {2391} INFO -  at 16.8s,\testimator xgboost's best error=0.2653,\tbest estimator rf's best error=0.0952\n",
            "[flaml.automl.logger: 09-26 15:07:52] {2218} INFO - iteration 24, current learner xgboost\n"
          ]
        },
        {
          "output_type": "stream",
          "name": "stderr",
          "text": [
            "`use_label_encoder` is deprecated in 1.7.0.\n"
          ]
        },
        {
          "output_type": "stream",
          "name": "stdout",
          "text": [
            "[flaml.automl.logger: 09-26 15:07:53] {2391} INFO -  at 18.3s,\testimator xgboost's best error=0.2653,\tbest estimator rf's best error=0.0952\n",
            "[flaml.automl.logger: 09-26 15:07:53] {2218} INFO - iteration 25, current learner rf\n",
            "[flaml.automl.logger: 09-26 15:07:56] {2391} INFO -  at 20.8s,\testimator rf's best error=0.0911,\tbest estimator rf's best error=0.0911\n",
            "[flaml.automl.logger: 09-26 15:07:56] {2218} INFO - iteration 26, current learner rf\n",
            "[flaml.automl.logger: 09-26 15:08:02] {2391} INFO -  at 26.6s,\testimator rf's best error=0.0911,\tbest estimator rf's best error=0.0911\n",
            "[flaml.automl.logger: 09-26 15:08:02] {2218} INFO - iteration 27, current learner xgboost\n"
          ]
        },
        {
          "output_type": "stream",
          "name": "stderr",
          "text": [
            "`use_label_encoder` is deprecated in 1.7.0.\n"
          ]
        },
        {
          "output_type": "stream",
          "name": "stdout",
          "text": [
            "[flaml.automl.logger: 09-26 15:08:03] {2391} INFO -  at 28.2s,\testimator xgboost's best error=0.2653,\tbest estimator rf's best error=0.0911\n",
            "[flaml.automl.logger: 09-26 15:08:03] {2218} INFO - iteration 28, current learner xgboost\n"
          ]
        },
        {
          "output_type": "stream",
          "name": "stderr",
          "text": [
            "`use_label_encoder` is deprecated in 1.7.0.\n"
          ]
        },
        {
          "output_type": "stream",
          "name": "stdout",
          "text": [
            "[flaml.automl.logger: 09-26 15:08:06] {2391} INFO -  at 31.1s,\testimator xgboost's best error=0.2152,\tbest estimator rf's best error=0.0911\n",
            "[flaml.automl.logger: 09-26 15:08:06] {2218} INFO - iteration 29, current learner rf\n",
            "[flaml.automl.logger: 09-26 15:08:08] {2391} INFO -  at 33.0s,\testimator rf's best error=0.0911,\tbest estimator rf's best error=0.0911\n",
            "[flaml.automl.logger: 09-26 15:08:08] {2218} INFO - iteration 30, current learner rf\n",
            "[flaml.automl.logger: 09-26 15:08:13] {2391} INFO -  at 37.6s,\testimator rf's best error=0.0911,\tbest estimator rf's best error=0.0911\n",
            "[flaml.automl.logger: 09-26 15:08:13] {2218} INFO - iteration 31, current learner rf\n",
            "[flaml.automl.logger: 09-26 15:08:15] {2391} INFO -  at 40.1s,\testimator rf's best error=0.0911,\tbest estimator rf's best error=0.0911\n",
            "[flaml.automl.logger: 09-26 15:08:15] {2218} INFO - iteration 32, current learner xgboost\n"
          ]
        },
        {
          "output_type": "stream",
          "name": "stderr",
          "text": [
            "`use_label_encoder` is deprecated in 1.7.0.\n"
          ]
        },
        {
          "output_type": "stream",
          "name": "stdout",
          "text": [
            "[flaml.automl.logger: 09-26 15:08:17] {2391} INFO -  at 42.2s,\testimator xgboost's best error=0.1656,\tbest estimator rf's best error=0.0911\n",
            "[flaml.automl.logger: 09-26 15:08:17] {2218} INFO - iteration 33, current learner rf\n",
            "[flaml.automl.logger: 09-26 15:08:22] {2391} INFO -  at 47.2s,\testimator rf's best error=0.0903,\tbest estimator rf's best error=0.0903\n",
            "[flaml.automl.logger: 09-26 15:08:22] {2218} INFO - iteration 34, current learner xgboost\n"
          ]
        },
        {
          "output_type": "stream",
          "name": "stderr",
          "text": [
            "`use_label_encoder` is deprecated in 1.7.0.\n"
          ]
        },
        {
          "output_type": "stream",
          "name": "stdout",
          "text": [
            "[flaml.automl.logger: 09-26 15:08:24] {2391} INFO -  at 48.5s,\testimator xgboost's best error=0.1656,\tbest estimator rf's best error=0.0903\n",
            "[flaml.automl.logger: 09-26 15:08:24] {2218} INFO - iteration 35, current learner xgboost\n"
          ]
        },
        {
          "output_type": "stream",
          "name": "stderr",
          "text": [
            "`use_label_encoder` is deprecated in 1.7.0.\n"
          ]
        },
        {
          "output_type": "stream",
          "name": "stdout",
          "text": [
            "[flaml.automl.logger: 09-26 15:08:24] {2391} INFO -  at 49.4s,\testimator xgboost's best error=0.1211,\tbest estimator rf's best error=0.0903\n",
            "[flaml.automl.logger: 09-26 15:08:24] {2218} INFO - iteration 36, current learner xgboost\n"
          ]
        },
        {
          "output_type": "stream",
          "name": "stderr",
          "text": [
            "`use_label_encoder` is deprecated in 1.7.0.\n"
          ]
        },
        {
          "output_type": "stream",
          "name": "stdout",
          "text": [
            "[flaml.automl.logger: 09-26 15:08:25] {2391} INFO -  at 50.2s,\testimator xgboost's best error=0.1211,\tbest estimator rf's best error=0.0903\n",
            "[flaml.automl.logger: 09-26 15:08:25] {2218} INFO - iteration 37, current learner xgboost\n"
          ]
        },
        {
          "output_type": "stream",
          "name": "stderr",
          "text": [
            "`use_label_encoder` is deprecated in 1.7.0.\n"
          ]
        },
        {
          "output_type": "stream",
          "name": "stdout",
          "text": [
            "[flaml.automl.logger: 09-26 15:08:26] {2391} INFO -  at 50.9s,\testimator xgboost's best error=0.1211,\tbest estimator rf's best error=0.0903\n",
            "[flaml.automl.logger: 09-26 15:08:26] {2218} INFO - iteration 38, current learner xgboost\n"
          ]
        },
        {
          "output_type": "stream",
          "name": "stderr",
          "text": [
            "`use_label_encoder` is deprecated in 1.7.0.\n"
          ]
        },
        {
          "output_type": "stream",
          "name": "stdout",
          "text": [
            "[flaml.automl.logger: 09-26 15:08:27] {2391} INFO -  at 52.0s,\testimator xgboost's best error=0.1052,\tbest estimator rf's best error=0.0903\n",
            "[flaml.automl.logger: 09-26 15:08:27] {2218} INFO - iteration 39, current learner xgboost\n"
          ]
        },
        {
          "output_type": "stream",
          "name": "stderr",
          "text": [
            "`use_label_encoder` is deprecated in 1.7.0.\n"
          ]
        },
        {
          "output_type": "stream",
          "name": "stdout",
          "text": [
            "[flaml.automl.logger: 09-26 15:08:28] {2391} INFO -  at 52.9s,\testimator xgboost's best error=0.1052,\tbest estimator rf's best error=0.0903\n",
            "[flaml.automl.logger: 09-26 15:08:28] {2218} INFO - iteration 40, current learner xgboost\n"
          ]
        },
        {
          "output_type": "stream",
          "name": "stderr",
          "text": [
            "`use_label_encoder` is deprecated in 1.7.0.\n"
          ]
        },
        {
          "output_type": "stream",
          "name": "stdout",
          "text": [
            "[flaml.automl.logger: 09-26 15:08:30] {2391} INFO -  at 54.5s,\testimator xgboost's best error=0.1038,\tbest estimator rf's best error=0.0903\n",
            "[flaml.automl.logger: 09-26 15:08:30] {2218} INFO - iteration 41, current learner rf\n",
            "[flaml.automl.logger: 09-26 15:08:32] {2391} INFO -  at 56.6s,\testimator rf's best error=0.0874,\tbest estimator rf's best error=0.0874\n",
            "[flaml.automl.logger: 09-26 15:08:32] {2218} INFO - iteration 42, current learner rf\n",
            "[flaml.automl.logger: 09-26 15:08:33] {2391} INFO -  at 58.3s,\testimator rf's best error=0.0874,\tbest estimator rf's best error=0.0874\n",
            "[flaml.automl.logger: 09-26 15:08:33] {2218} INFO - iteration 43, current learner xgboost\n"
          ]
        },
        {
          "output_type": "stream",
          "name": "stderr",
          "text": [
            "`use_label_encoder` is deprecated in 1.7.0.\n"
          ]
        },
        {
          "output_type": "stream",
          "name": "stdout",
          "text": [
            "[flaml.automl.logger: 09-26 15:08:35] {2391} INFO -  at 59.5s,\testimator xgboost's best error=0.1038,\tbest estimator rf's best error=0.0874\n",
            "[flaml.automl.logger: 09-26 15:08:39] {2627} INFO - retrain rf for 4.0s\n",
            "[flaml.automl.logger: 09-26 15:08:39] {2630} INFO - retrained model: RandomForestClassifier(criterion='entropy', max_features=0.07067313856160069,\n",
            "                       max_leaf_nodes=109, n_estimators=33, n_jobs=-1,\n",
            "                       random_state=12032022)\n",
            "[flaml.automl.logger: 09-26 15:08:39] {1930} INFO - fit succeeded\n",
            "[flaml.automl.logger: 09-26 15:08:39] {1931} INFO - Time taken to find the best model: 56.625821352005005\n",
            "[flaml.automl.logger: 09-26 15:08:44] {1679} INFO - task = classification\n",
            "[flaml.automl.logger: 09-26 15:08:44] {1690} INFO - Evaluation method: holdout\n",
            "[flaml.automl.logger: 09-26 15:08:44] {1788} INFO - Minimizing error metric: 1-roc_auc\n",
            "[flaml.automl.logger: 09-26 15:08:44] {1900} INFO - List of ML learners in AutoML Run: ['rf', 'lgbm', 'xgboost']\n",
            "[flaml.automl.logger: 09-26 15:08:44] {2218} INFO - iteration 0, current learner rf\n",
            "[flaml.automl.logger: 09-26 15:08:44] {2344} INFO - Estimated sufficient time budget=894s. Estimated necessary time budget=1s.\n",
            "[flaml.automl.logger: 09-26 15:08:44] {2391} INFO -  at 0.2s,\testimator rf's best error=0.3792,\tbest estimator rf's best error=0.3792\n",
            "[flaml.automl.logger: 09-26 15:08:44] {2218} INFO - iteration 1, current learner lgbm\n",
            "[flaml.automl.logger: 09-26 15:08:45] {2391} INFO -  at 0.6s,\testimator lgbm's best error=0.3419,\tbest estimator lgbm's best error=0.3419\n",
            "[flaml.automl.logger: 09-26 15:08:45] {2218} INFO - iteration 2, current learner xgboost\n"
          ]
        },
        {
          "output_type": "stream",
          "name": "stderr",
          "text": [
            "`use_label_encoder` is deprecated in 1.7.0.\n"
          ]
        },
        {
          "output_type": "stream",
          "name": "stdout",
          "text": [
            "[flaml.automl.logger: 09-26 15:08:45] {2391} INFO -  at 1.2s,\testimator xgboost's best error=0.3418,\tbest estimator xgboost's best error=0.3418\n",
            "[flaml.automl.logger: 09-26 15:08:45] {2218} INFO - iteration 3, current learner rf\n",
            "[flaml.automl.logger: 09-26 15:08:45] {2391} INFO -  at 1.3s,\testimator rf's best error=0.3231,\tbest estimator rf's best error=0.3231\n",
            "[flaml.automl.logger: 09-26 15:08:45] {2218} INFO - iteration 4, current learner lgbm\n",
            "[flaml.automl.logger: 09-26 15:08:46] {2391} INFO -  at 1.7s,\testimator lgbm's best error=0.3419,\tbest estimator rf's best error=0.3231\n",
            "[flaml.automl.logger: 09-26 15:08:46] {2218} INFO - iteration 5, current learner rf\n",
            "[flaml.automl.logger: 09-26 15:08:46] {2391} INFO -  at 1.8s,\testimator rf's best error=0.3231,\tbest estimator rf's best error=0.3231\n",
            "[flaml.automl.logger: 09-26 15:08:46] {2218} INFO - iteration 6, current learner rf\n",
            "[flaml.automl.logger: 09-26 15:08:46] {2391} INFO -  at 2.0s,\testimator rf's best error=0.3136,\tbest estimator rf's best error=0.3136\n",
            "[flaml.automl.logger: 09-26 15:08:46] {2218} INFO - iteration 7, current learner rf\n",
            "[flaml.automl.logger: 09-26 15:08:46] {2391} INFO -  at 2.1s,\testimator rf's best error=0.2743,\tbest estimator rf's best error=0.2743\n",
            "[flaml.automl.logger: 09-26 15:08:46] {2218} INFO - iteration 8, current learner rf\n",
            "[flaml.automl.logger: 09-26 15:08:47] {2391} INFO -  at 2.4s,\testimator rf's best error=0.2743,\tbest estimator rf's best error=0.2743\n",
            "[flaml.automl.logger: 09-26 15:08:47] {2218} INFO - iteration 9, current learner rf\n",
            "[flaml.automl.logger: 09-26 15:08:47] {2391} INFO -  at 2.6s,\testimator rf's best error=0.2399,\tbest estimator rf's best error=0.2399\n",
            "[flaml.automl.logger: 09-26 15:08:47] {2218} INFO - iteration 10, current learner rf\n",
            "[flaml.automl.logger: 09-26 15:08:47] {2391} INFO -  at 3.0s,\testimator rf's best error=0.2158,\tbest estimator rf's best error=0.2158\n",
            "[flaml.automl.logger: 09-26 15:08:47] {2218} INFO - iteration 11, current learner rf\n",
            "[flaml.automl.logger: 09-26 15:08:47] {2391} INFO -  at 3.1s,\testimator rf's best error=0.2158,\tbest estimator rf's best error=0.2158\n",
            "[flaml.automl.logger: 09-26 15:08:47] {2218} INFO - iteration 12, current learner lgbm\n",
            "[flaml.automl.logger: 09-26 15:08:48] {2391} INFO -  at 3.5s,\testimator lgbm's best error=0.3126,\tbest estimator rf's best error=0.2158\n",
            "[flaml.automl.logger: 09-26 15:08:48] {2218} INFO - iteration 13, current learner rf\n",
            "[flaml.automl.logger: 09-26 15:08:48] {2391} INFO -  at 3.9s,\testimator rf's best error=0.2158,\tbest estimator rf's best error=0.2158\n",
            "[flaml.automl.logger: 09-26 15:08:48] {2218} INFO - iteration 14, current learner xgboost\n"
          ]
        },
        {
          "output_type": "stream",
          "name": "stderr",
          "text": [
            "`use_label_encoder` is deprecated in 1.7.0.\n"
          ]
        },
        {
          "output_type": "stream",
          "name": "stdout",
          "text": [
            "[flaml.automl.logger: 09-26 15:08:50] {2391} INFO -  at 5.6s,\testimator xgboost's best error=0.3418,\tbest estimator rf's best error=0.2158\n",
            "[flaml.automl.logger: 09-26 15:08:50] {2218} INFO - iteration 15, current learner rf\n",
            "[flaml.automl.logger: 09-26 15:08:50] {2391} INFO -  at 6.2s,\testimator rf's best error=0.1577,\tbest estimator rf's best error=0.1577\n",
            "[flaml.automl.logger: 09-26 15:08:50] {2218} INFO - iteration 16, current learner xgboost\n"
          ]
        },
        {
          "output_type": "stream",
          "name": "stderr",
          "text": [
            "`use_label_encoder` is deprecated in 1.7.0.\n"
          ]
        },
        {
          "output_type": "stream",
          "name": "stdout",
          "text": [
            "[flaml.automl.logger: 09-26 15:08:52] {2391} INFO -  at 8.0s,\testimator xgboost's best error=0.3026,\tbest estimator rf's best error=0.1577\n",
            "[flaml.automl.logger: 09-26 15:08:52] {2218} INFO - iteration 17, current learner rf\n",
            "[flaml.automl.logger: 09-26 15:08:53] {2391} INFO -  at 8.4s,\testimator rf's best error=0.1577,\tbest estimator rf's best error=0.1577\n",
            "[flaml.automl.logger: 09-26 15:08:53] {2218} INFO - iteration 18, current learner rf\n",
            "[flaml.automl.logger: 09-26 15:08:53] {2391} INFO -  at 9.1s,\testimator rf's best error=0.1339,\tbest estimator rf's best error=0.1339\n",
            "[flaml.automl.logger: 09-26 15:08:53] {2218} INFO - iteration 19, current learner rf\n",
            "[flaml.automl.logger: 09-26 15:08:54] {2391} INFO -  at 9.6s,\testimator rf's best error=0.1339,\tbest estimator rf's best error=0.1339\n",
            "[flaml.automl.logger: 09-26 15:08:54] {2218} INFO - iteration 20, current learner rf\n",
            "[flaml.automl.logger: 09-26 15:08:55] {2391} INFO -  at 10.9s,\testimator rf's best error=0.1339,\tbest estimator rf's best error=0.1339\n",
            "[flaml.automl.logger: 09-26 15:08:55] {2218} INFO - iteration 21, current learner rf\n",
            "[flaml.automl.logger: 09-26 15:08:56] {2391} INFO -  at 11.9s,\testimator rf's best error=0.1164,\tbest estimator rf's best error=0.1164\n",
            "[flaml.automl.logger: 09-26 15:08:56] {2218} INFO - iteration 22, current learner rf\n",
            "[flaml.automl.logger: 09-26 15:08:57] {2391} INFO -  at 13.0s,\testimator rf's best error=0.1164,\tbest estimator rf's best error=0.1164\n",
            "[flaml.automl.logger: 09-26 15:08:57] {2218} INFO - iteration 23, current learner lgbm\n",
            "[flaml.automl.logger: 09-26 15:09:00] {2391} INFO -  at 15.8s,\testimator lgbm's best error=0.2482,\tbest estimator rf's best error=0.1164\n",
            "[flaml.automl.logger: 09-26 15:09:00] {2218} INFO - iteration 24, current learner xgboost\n"
          ]
        },
        {
          "output_type": "stream",
          "name": "stderr",
          "text": [
            "`use_label_encoder` is deprecated in 1.7.0.\n"
          ]
        },
        {
          "output_type": "stream",
          "name": "stdout",
          "text": [
            "[flaml.automl.logger: 09-26 15:09:01] {2391} INFO -  at 16.4s,\testimator xgboost's best error=0.2933,\tbest estimator rf's best error=0.1164\n",
            "[flaml.automl.logger: 09-26 15:09:01] {2218} INFO - iteration 25, current learner rf\n",
            "[flaml.automl.logger: 09-26 15:09:01] {2391} INFO -  at 16.8s,\testimator rf's best error=0.1164,\tbest estimator rf's best error=0.1164\n",
            "[flaml.automl.logger: 09-26 15:09:01] {2218} INFO - iteration 26, current learner rf\n",
            "[flaml.automl.logger: 09-26 15:09:03] {2391} INFO -  at 18.9s,\testimator rf's best error=0.1114,\tbest estimator rf's best error=0.1114\n",
            "[flaml.automl.logger: 09-26 15:09:03] {2218} INFO - iteration 27, current learner lgbm\n",
            "[flaml.automl.logger: 09-26 15:09:06] {2391} INFO -  at 21.9s,\testimator lgbm's best error=0.2482,\tbest estimator rf's best error=0.1114\n",
            "[flaml.automl.logger: 09-26 15:09:06] {2218} INFO - iteration 28, current learner xgboost\n"
          ]
        },
        {
          "output_type": "stream",
          "name": "stderr",
          "text": [
            "`use_label_encoder` is deprecated in 1.7.0.\n"
          ]
        },
        {
          "output_type": "stream",
          "name": "stdout",
          "text": [
            "[flaml.automl.logger: 09-26 15:09:07] {2391} INFO -  at 22.8s,\testimator xgboost's best error=0.2434,\tbest estimator rf's best error=0.1114\n",
            "[flaml.automl.logger: 09-26 15:09:07] {2218} INFO - iteration 29, current learner rf\n",
            "[flaml.automl.logger: 09-26 15:09:11] {2391} INFO -  at 26.4s,\testimator rf's best error=0.1110,\tbest estimator rf's best error=0.1110\n",
            "[flaml.automl.logger: 09-26 15:09:11] {2218} INFO - iteration 30, current learner rf\n",
            "[flaml.automl.logger: 09-26 15:09:12] {2391} INFO -  at 28.3s,\testimator rf's best error=0.1110,\tbest estimator rf's best error=0.1110\n",
            "[flaml.automl.logger: 09-26 15:09:12] {2218} INFO - iteration 31, current learner rf\n",
            "[flaml.automl.logger: 09-26 15:09:16] {2391} INFO -  at 32.3s,\testimator rf's best error=0.1059,\tbest estimator rf's best error=0.1059\n",
            "[flaml.automl.logger: 09-26 15:09:16] {2218} INFO - iteration 32, current learner xgboost\n"
          ]
        },
        {
          "output_type": "stream",
          "name": "stderr",
          "text": [
            "`use_label_encoder` is deprecated in 1.7.0.\n"
          ]
        },
        {
          "output_type": "stream",
          "name": "stdout",
          "text": [
            "[flaml.automl.logger: 09-26 15:09:18] {2391} INFO -  at 34.2s,\testimator xgboost's best error=0.2434,\tbest estimator rf's best error=0.1059\n",
            "[flaml.automl.logger: 09-26 15:09:18] {2218} INFO - iteration 33, current learner rf\n",
            "[flaml.automl.logger: 09-26 15:09:23] {2391} INFO -  at 39.1s,\testimator rf's best error=0.1059,\tbest estimator rf's best error=0.1059\n",
            "[flaml.automl.logger: 09-26 15:09:23] {2218} INFO - iteration 34, current learner rf\n",
            "[flaml.automl.logger: 09-26 15:09:29] {2391} INFO -  at 45.1s,\testimator rf's best error=0.1003,\tbest estimator rf's best error=0.1003\n",
            "[flaml.automl.logger: 09-26 15:09:29] {2218} INFO - iteration 35, current learner xgboost\n"
          ]
        },
        {
          "output_type": "stream",
          "name": "stderr",
          "text": [
            "`use_label_encoder` is deprecated in 1.7.0.\n"
          ]
        },
        {
          "output_type": "stream",
          "name": "stdout",
          "text": [
            "[flaml.automl.logger: 09-26 15:09:30] {2391} INFO -  at 45.9s,\testimator xgboost's best error=0.2145,\tbest estimator rf's best error=0.1003\n",
            "[flaml.automl.logger: 09-26 15:09:30] {2218} INFO - iteration 36, current learner lgbm\n",
            "[flaml.automl.logger: 09-26 15:09:30] {2391} INFO -  at 46.3s,\testimator lgbm's best error=0.2197,\tbest estimator rf's best error=0.1003\n",
            "[flaml.automl.logger: 09-26 15:09:30] {2218} INFO - iteration 37, current learner lgbm\n",
            "[flaml.automl.logger: 09-26 15:09:31] {2391} INFO -  at 46.7s,\testimator lgbm's best error=0.2197,\tbest estimator rf's best error=0.1003\n",
            "[flaml.automl.logger: 09-26 15:09:31] {2218} INFO - iteration 38, current learner rf\n",
            "[flaml.automl.logger: 09-26 15:09:37] {2391} INFO -  at 53.3s,\testimator rf's best error=0.1003,\tbest estimator rf's best error=0.1003\n",
            "[flaml.automl.logger: 09-26 15:09:37] {2218} INFO - iteration 39, current learner lgbm\n",
            "[flaml.automl.logger: 09-26 15:09:38] {2391} INFO -  at 53.7s,\testimator lgbm's best error=0.2197,\tbest estimator rf's best error=0.1003\n",
            "[flaml.automl.logger: 09-26 15:09:38] {2218} INFO - iteration 40, current learner xgboost\n"
          ]
        },
        {
          "output_type": "stream",
          "name": "stderr",
          "text": [
            "`use_label_encoder` is deprecated in 1.7.0.\n"
          ]
        },
        {
          "output_type": "stream",
          "name": "stdout",
          "text": [
            "[flaml.automl.logger: 09-26 15:09:39] {2391} INFO -  at 54.6s,\testimator xgboost's best error=0.1875,\tbest estimator rf's best error=0.1003\n",
            "[flaml.automl.logger: 09-26 15:09:39] {2218} INFO - iteration 41, current learner lgbm\n",
            "[flaml.automl.logger: 09-26 15:09:39] {2391} INFO -  at 55.0s,\testimator lgbm's best error=0.1848,\tbest estimator rf's best error=0.1003\n",
            "[flaml.automl.logger: 09-26 15:09:39] {2218} INFO - iteration 42, current learner xgboost\n"
          ]
        },
        {
          "output_type": "stream",
          "name": "stderr",
          "text": [
            "`use_label_encoder` is deprecated in 1.7.0.\n"
          ]
        },
        {
          "output_type": "stream",
          "name": "stdout",
          "text": [
            "[flaml.automl.logger: 09-26 15:09:40] {2391} INFO -  at 55.7s,\testimator xgboost's best error=0.1875,\tbest estimator rf's best error=0.1003\n",
            "[flaml.automl.logger: 09-26 15:09:40] {2218} INFO - iteration 43, current learner xgboost\n"
          ]
        },
        {
          "output_type": "stream",
          "name": "stderr",
          "text": [
            "`use_label_encoder` is deprecated in 1.7.0.\n"
          ]
        },
        {
          "output_type": "stream",
          "name": "stdout",
          "text": [
            "[flaml.automl.logger: 09-26 15:09:41] {2391} INFO -  at 56.6s,\testimator xgboost's best error=0.1471,\tbest estimator rf's best error=0.1003\n",
            "[flaml.automl.logger: 09-26 15:09:41] {2218} INFO - iteration 44, current learner xgboost\n"
          ]
        },
        {
          "output_type": "stream",
          "name": "stderr",
          "text": [
            "`use_label_encoder` is deprecated in 1.7.0.\n"
          ]
        },
        {
          "output_type": "stream",
          "name": "stdout",
          "text": [
            "[flaml.automl.logger: 09-26 15:09:42] {2391} INFO -  at 57.4s,\testimator xgboost's best error=0.1471,\tbest estimator rf's best error=0.1003\n",
            "[flaml.automl.logger: 09-26 15:09:42] {2218} INFO - iteration 45, current learner lgbm\n",
            "[flaml.automl.logger: 09-26 15:09:42] {2391} INFO -  at 57.8s,\testimator lgbm's best error=0.1848,\tbest estimator rf's best error=0.1003\n",
            "[flaml.automl.logger: 09-26 15:09:42] {2218} INFO - iteration 46, current learner xgboost\n"
          ]
        },
        {
          "output_type": "stream",
          "name": "stderr",
          "text": [
            "`use_label_encoder` is deprecated in 1.7.0.\n"
          ]
        },
        {
          "output_type": "stream",
          "name": "stdout",
          "text": [
            "[flaml.automl.logger: 09-26 15:09:43] {2391} INFO -  at 58.6s,\testimator xgboost's best error=0.1471,\tbest estimator rf's best error=0.1003\n",
            "[flaml.automl.logger: 09-26 15:09:43] {2218} INFO - iteration 47, current learner lgbm\n",
            "[flaml.automl.logger: 09-26 15:09:43] {2391} INFO -  at 59.2s,\testimator lgbm's best error=0.1103,\tbest estimator rf's best error=0.1003\n",
            "[flaml.automl.logger: 09-26 15:09:43] {2218} INFO - iteration 48, current learner lgbm\n",
            "[flaml.automl.logger: 09-26 15:09:44] {2391} INFO -  at 59.6s,\testimator lgbm's best error=0.1103,\tbest estimator rf's best error=0.1003\n",
            "[flaml.automl.logger: 09-26 15:09:53] {2627} INFO - retrain rf for 9.4s\n",
            "[flaml.automl.logger: 09-26 15:09:53] {2630} INFO - retrained model: RandomForestClassifier(max_features=0.14310708517848472, max_leaf_nodes=157,\n",
            "                       n_estimators=51, n_jobs=-1, random_state=12032022)\n",
            "[flaml.automl.logger: 09-26 15:09:53] {1930} INFO - fit succeeded\n",
            "[flaml.automl.logger: 09-26 15:09:53] {1931} INFO - Time taken to find the best model: 45.14691972732544\n",
            "[flaml.automl.logger: 09-26 15:10:05] {1679} INFO - task = classification\n",
            "[flaml.automl.logger: 09-26 15:10:05] {1690} INFO - Evaluation method: holdout\n",
            "[flaml.automl.logger: 09-26 15:10:05] {1788} INFO - Minimizing error metric: 1-roc_auc\n",
            "[flaml.automl.logger: 09-26 15:10:05] {1900} INFO - List of ML learners in AutoML Run: ['rf', 'lgbm', 'xgboost']\n",
            "[flaml.automl.logger: 09-26 15:10:05] {2218} INFO - iteration 0, current learner rf\n",
            "[flaml.automl.logger: 09-26 15:10:05] {2344} INFO - Estimated sufficient time budget=947s. Estimated necessary time budget=1s.\n",
            "[flaml.automl.logger: 09-26 15:10:05] {2391} INFO -  at 0.2s,\testimator rf's best error=0.3745,\tbest estimator rf's best error=0.3745\n",
            "[flaml.automl.logger: 09-26 15:10:05] {2218} INFO - iteration 1, current learner lgbm\n",
            "[flaml.automl.logger: 09-26 15:10:06] {2391} INFO -  at 0.6s,\testimator lgbm's best error=0.3391,\tbest estimator lgbm's best error=0.3391\n",
            "[flaml.automl.logger: 09-26 15:10:06] {2218} INFO - iteration 2, current learner xgboost\n"
          ]
        },
        {
          "output_type": "stream",
          "name": "stderr",
          "text": [
            "`use_label_encoder` is deprecated in 1.7.0.\n"
          ]
        },
        {
          "output_type": "stream",
          "name": "stdout",
          "text": [
            "[flaml.automl.logger: 09-26 15:10:06] {2391} INFO -  at 1.2s,\testimator xgboost's best error=0.3426,\tbest estimator lgbm's best error=0.3391\n",
            "[flaml.automl.logger: 09-26 15:10:06] {2218} INFO - iteration 3, current learner rf\n",
            "[flaml.automl.logger: 09-26 15:10:07] {2391} INFO -  at 1.3s,\testimator rf's best error=0.2957,\tbest estimator rf's best error=0.2957\n",
            "[flaml.automl.logger: 09-26 15:10:07] {2218} INFO - iteration 4, current learner lgbm\n",
            "[flaml.automl.logger: 09-26 15:10:07] {2391} INFO -  at 1.7s,\testimator lgbm's best error=0.3391,\tbest estimator rf's best error=0.2957\n",
            "[flaml.automl.logger: 09-26 15:10:07] {2218} INFO - iteration 5, current learner rf\n",
            "[flaml.automl.logger: 09-26 15:10:07] {2391} INFO -  at 1.8s,\testimator rf's best error=0.2957,\tbest estimator rf's best error=0.2957\n",
            "[flaml.automl.logger: 09-26 15:10:07] {2218} INFO - iteration 6, current learner rf\n",
            "[flaml.automl.logger: 09-26 15:10:07] {2391} INFO -  at 2.0s,\testimator rf's best error=0.2633,\tbest estimator rf's best error=0.2633\n",
            "[flaml.automl.logger: 09-26 15:10:07] {2218} INFO - iteration 7, current learner rf\n",
            "[flaml.automl.logger: 09-26 15:10:07] {2391} INFO -  at 2.2s,\testimator rf's best error=0.2633,\tbest estimator rf's best error=0.2633\n",
            "[flaml.automl.logger: 09-26 15:10:07] {2218} INFO - iteration 8, current learner rf\n",
            "[flaml.automl.logger: 09-26 15:10:08] {2391} INFO -  at 2.4s,\testimator rf's best error=0.2633,\tbest estimator rf's best error=0.2633\n",
            "[flaml.automl.logger: 09-26 15:10:08] {2218} INFO - iteration 9, current learner rf\n",
            "[flaml.automl.logger: 09-26 15:10:08] {2391} INFO -  at 2.5s,\testimator rf's best error=0.2587,\tbest estimator rf's best error=0.2587\n",
            "[flaml.automl.logger: 09-26 15:10:08] {2218} INFO - iteration 10, current learner lgbm\n",
            "[flaml.automl.logger: 09-26 15:10:08] {2391} INFO -  at 2.9s,\testimator lgbm's best error=0.3111,\tbest estimator rf's best error=0.2587\n",
            "[flaml.automl.logger: 09-26 15:10:08] {2218} INFO - iteration 11, current learner rf\n",
            "[flaml.automl.logger: 09-26 15:10:08] {2391} INFO -  at 3.2s,\testimator rf's best error=0.2018,\tbest estimator rf's best error=0.2018\n",
            "[flaml.automl.logger: 09-26 15:10:08] {2218} INFO - iteration 12, current learner rf\n",
            "[flaml.automl.logger: 09-26 15:10:09] {2391} INFO -  at 3.4s,\testimator rf's best error=0.2018,\tbest estimator rf's best error=0.2018\n",
            "[flaml.automl.logger: 09-26 15:10:09] {2218} INFO - iteration 13, current learner rf\n",
            "[flaml.automl.logger: 09-26 15:10:09] {2391} INFO -  at 3.6s,\testimator rf's best error=0.2018,\tbest estimator rf's best error=0.2018\n",
            "[flaml.automl.logger: 09-26 15:10:09] {2218} INFO - iteration 14, current learner xgboost\n"
          ]
        },
        {
          "output_type": "stream",
          "name": "stderr",
          "text": [
            "`use_label_encoder` is deprecated in 1.7.0.\n"
          ]
        },
        {
          "output_type": "stream",
          "name": "stdout",
          "text": [
            "[flaml.automl.logger: 09-26 15:10:09] {2391} INFO -  at 4.3s,\testimator xgboost's best error=0.3426,\tbest estimator rf's best error=0.2018\n",
            "[flaml.automl.logger: 09-26 15:10:09] {2218} INFO - iteration 15, current learner rf\n",
            "[flaml.automl.logger: 09-26 15:10:10] {2391} INFO -  at 4.6s,\testimator rf's best error=0.1530,\tbest estimator rf's best error=0.1530\n",
            "[flaml.automl.logger: 09-26 15:10:10] {2218} INFO - iteration 16, current learner xgboost\n"
          ]
        },
        {
          "output_type": "stream",
          "name": "stderr",
          "text": [
            "`use_label_encoder` is deprecated in 1.7.0.\n"
          ]
        },
        {
          "output_type": "stream",
          "name": "stdout",
          "text": [
            "[flaml.automl.logger: 09-26 15:10:10] {2391} INFO -  at 5.3s,\testimator xgboost's best error=0.3120,\tbest estimator rf's best error=0.1530\n",
            "[flaml.automl.logger: 09-26 15:10:10] {2218} INFO - iteration 17, current learner rf\n",
            "[flaml.automl.logger: 09-26 15:10:11] {2391} INFO -  at 5.5s,\testimator rf's best error=0.1530,\tbest estimator rf's best error=0.1530\n",
            "[flaml.automl.logger: 09-26 15:10:11] {2218} INFO - iteration 18, current learner rf\n",
            "[flaml.automl.logger: 09-26 15:10:11] {2391} INFO -  at 6.1s,\testimator rf's best error=0.1334,\tbest estimator rf's best error=0.1334\n",
            "[flaml.automl.logger: 09-26 15:10:11] {2218} INFO - iteration 19, current learner rf\n",
            "[flaml.automl.logger: 09-26 15:10:12] {2391} INFO -  at 6.5s,\testimator rf's best error=0.1334,\tbest estimator rf's best error=0.1334\n",
            "[flaml.automl.logger: 09-26 15:10:12] {2218} INFO - iteration 20, current learner rf\n",
            "[flaml.automl.logger: 09-26 15:10:13] {2391} INFO -  at 7.6s,\testimator rf's best error=0.1334,\tbest estimator rf's best error=0.1334\n",
            "[flaml.automl.logger: 09-26 15:10:13] {2218} INFO - iteration 21, current learner rf\n",
            "[flaml.automl.logger: 09-26 15:10:13] {2391} INFO -  at 8.3s,\testimator rf's best error=0.1206,\tbest estimator rf's best error=0.1206\n",
            "[flaml.automl.logger: 09-26 15:10:13] {2218} INFO - iteration 22, current learner rf\n",
            "[flaml.automl.logger: 09-26 15:10:14] {2391} INFO -  at 8.9s,\testimator rf's best error=0.1206,\tbest estimator rf's best error=0.1206\n",
            "[flaml.automl.logger: 09-26 15:10:14] {2218} INFO - iteration 23, current learner lgbm\n",
            "[flaml.automl.logger: 09-26 15:10:18] {2391} INFO -  at 12.7s,\testimator lgbm's best error=0.2157,\tbest estimator rf's best error=0.1206\n",
            "[flaml.automl.logger: 09-26 15:10:18] {2218} INFO - iteration 24, current learner xgboost\n"
          ]
        },
        {
          "output_type": "stream",
          "name": "stderr",
          "text": [
            "`use_label_encoder` is deprecated in 1.7.0.\n"
          ]
        },
        {
          "output_type": "stream",
          "name": "stdout",
          "text": [
            "[flaml.automl.logger: 09-26 15:10:18] {2391} INFO -  at 13.3s,\testimator xgboost's best error=0.2714,\tbest estimator rf's best error=0.1206\n",
            "[flaml.automl.logger: 09-26 15:10:18] {2218} INFO - iteration 25, current learner rf\n",
            "[flaml.automl.logger: 09-26 15:10:19] {2391} INFO -  at 13.7s,\testimator rf's best error=0.1206,\tbest estimator rf's best error=0.1206\n",
            "[flaml.automl.logger: 09-26 15:10:19] {2218} INFO - iteration 26, current learner lgbm\n",
            "[flaml.automl.logger: 09-26 15:10:19] {2391} INFO -  at 14.1s,\testimator lgbm's best error=0.2157,\tbest estimator rf's best error=0.1206\n",
            "[flaml.automl.logger: 09-26 15:10:19] {2218} INFO - iteration 27, current learner xgboost\n"
          ]
        },
        {
          "output_type": "stream",
          "name": "stderr",
          "text": [
            "`use_label_encoder` is deprecated in 1.7.0.\n"
          ]
        },
        {
          "output_type": "stream",
          "name": "stdout",
          "text": [
            "[flaml.automl.logger: 09-26 15:10:20] {2391} INFO -  at 14.8s,\testimator xgboost's best error=0.2484,\tbest estimator rf's best error=0.1206\n",
            "[flaml.automl.logger: 09-26 15:10:20] {2218} INFO - iteration 28, current learner xgboost\n"
          ]
        },
        {
          "output_type": "stream",
          "name": "stderr",
          "text": [
            "`use_label_encoder` is deprecated in 1.7.0.\n"
          ]
        },
        {
          "output_type": "stream",
          "name": "stdout",
          "text": [
            "[flaml.automl.logger: 09-26 15:10:21] {2391} INFO -  at 15.5s,\testimator xgboost's best error=0.2484,\tbest estimator rf's best error=0.1206\n",
            "[flaml.automl.logger: 09-26 15:10:21] {2218} INFO - iteration 29, current learner rf\n",
            "[flaml.automl.logger: 09-26 15:10:22] {2391} INFO -  at 17.0s,\testimator rf's best error=0.1114,\tbest estimator rf's best error=0.1114\n",
            "[flaml.automl.logger: 09-26 15:10:22] {2218} INFO - iteration 30, current learner rf\n",
            "[flaml.automl.logger: 09-26 15:10:25] {2391} INFO -  at 19.7s,\testimator rf's best error=0.1114,\tbest estimator rf's best error=0.1114\n",
            "[flaml.automl.logger: 09-26 15:10:25] {2218} INFO - iteration 31, current learner rf\n",
            "[flaml.automl.logger: 09-26 15:10:26] {2391} INFO -  at 20.6s,\testimator rf's best error=0.1114,\tbest estimator rf's best error=0.1114\n",
            "[flaml.automl.logger: 09-26 15:10:26] {2218} INFO - iteration 32, current learner xgboost\n"
          ]
        },
        {
          "output_type": "stream",
          "name": "stderr",
          "text": [
            "`use_label_encoder` is deprecated in 1.7.0.\n"
          ]
        },
        {
          "output_type": "stream",
          "name": "stdout",
          "text": [
            "[flaml.automl.logger: 09-26 15:10:27] {2391} INFO -  at 21.3s,\testimator xgboost's best error=0.1861,\tbest estimator rf's best error=0.1114\n",
            "[flaml.automl.logger: 09-26 15:10:27] {2218} INFO - iteration 33, current learner rf\n",
            "[flaml.automl.logger: 09-26 15:10:29] {2391} INFO -  at 23.3s,\testimator rf's best error=0.1114,\tbest estimator rf's best error=0.1114\n",
            "[flaml.automl.logger: 09-26 15:10:29] {2218} INFO - iteration 34, current learner lgbm\n",
            "[flaml.automl.logger: 09-26 15:10:32] {2391} INFO -  at 26.4s,\testimator lgbm's best error=0.1749,\tbest estimator rf's best error=0.1114\n",
            "[flaml.automl.logger: 09-26 15:10:32] {2218} INFO - iteration 35, current learner xgboost\n"
          ]
        },
        {
          "output_type": "stream",
          "name": "stderr",
          "text": [
            "`use_label_encoder` is deprecated in 1.7.0.\n"
          ]
        },
        {
          "output_type": "stream",
          "name": "stdout",
          "text": [
            "[flaml.automl.logger: 09-26 15:10:33] {2391} INFO -  at 27.3s,\testimator xgboost's best error=0.1743,\tbest estimator rf's best error=0.1114\n",
            "[flaml.automl.logger: 09-26 15:10:33] {2218} INFO - iteration 36, current learner lgbm\n",
            "[flaml.automl.logger: 09-26 15:10:33] {2391} INFO -  at 27.7s,\testimator lgbm's best error=0.1749,\tbest estimator rf's best error=0.1114\n",
            "[flaml.automl.logger: 09-26 15:10:33] {2218} INFO - iteration 37, current learner lgbm\n",
            "[flaml.automl.logger: 09-26 15:10:33] {2391} INFO -  at 28.1s,\testimator lgbm's best error=0.1749,\tbest estimator rf's best error=0.1114\n",
            "[flaml.automl.logger: 09-26 15:10:33] {2218} INFO - iteration 38, current learner rf\n",
            "[flaml.automl.logger: 09-26 15:10:35] {2391} INFO -  at 29.4s,\testimator rf's best error=0.1114,\tbest estimator rf's best error=0.1114\n",
            "[flaml.automl.logger: 09-26 15:10:35] {2218} INFO - iteration 39, current learner xgboost\n"
          ]
        },
        {
          "output_type": "stream",
          "name": "stderr",
          "text": [
            "`use_label_encoder` is deprecated in 1.7.0.\n"
          ]
        },
        {
          "output_type": "stream",
          "name": "stdout",
          "text": [
            "[flaml.automl.logger: 09-26 15:10:35] {2391} INFO -  at 30.1s,\testimator xgboost's best error=0.1743,\tbest estimator rf's best error=0.1114\n",
            "[flaml.automl.logger: 09-26 15:10:35] {2218} INFO - iteration 40, current learner xgboost\n"
          ]
        },
        {
          "output_type": "stream",
          "name": "stderr",
          "text": [
            "`use_label_encoder` is deprecated in 1.7.0.\n"
          ]
        },
        {
          "output_type": "stream",
          "name": "stdout",
          "text": [
            "[flaml.automl.logger: 09-26 15:10:36] {2391} INFO -  at 31.0s,\testimator xgboost's best error=0.1325,\tbest estimator rf's best error=0.1114\n",
            "[flaml.automl.logger: 09-26 15:10:36] {2218} INFO - iteration 41, current learner rf\n",
            "[flaml.automl.logger: 09-26 15:10:38] {2391} INFO -  at 33.2s,\testimator rf's best error=0.1114,\tbest estimator rf's best error=0.1114\n",
            "[flaml.automl.logger: 09-26 15:10:38] {2218} INFO - iteration 42, current learner xgboost\n"
          ]
        },
        {
          "output_type": "stream",
          "name": "stderr",
          "text": [
            "`use_label_encoder` is deprecated in 1.7.0.\n"
          ]
        },
        {
          "output_type": "stream",
          "name": "stdout",
          "text": [
            "[flaml.automl.logger: 09-26 15:10:39] {2391} INFO -  at 34.0s,\testimator xgboost's best error=0.1325,\tbest estimator rf's best error=0.1114\n",
            "[flaml.automl.logger: 09-26 15:10:39] {2218} INFO - iteration 43, current learner xgboost\n"
          ]
        },
        {
          "output_type": "stream",
          "name": "stderr",
          "text": [
            "`use_label_encoder` is deprecated in 1.7.0.\n"
          ]
        },
        {
          "output_type": "stream",
          "name": "stdout",
          "text": [
            "[flaml.automl.logger: 09-26 15:10:40] {2391} INFO -  at 34.7s,\testimator xgboost's best error=0.1325,\tbest estimator rf's best error=0.1114\n",
            "[flaml.automl.logger: 09-26 15:10:40] {2218} INFO - iteration 44, current learner xgboost\n"
          ]
        },
        {
          "output_type": "stream",
          "name": "stderr",
          "text": [
            "`use_label_encoder` is deprecated in 1.7.0.\n"
          ]
        },
        {
          "output_type": "stream",
          "name": "stdout",
          "text": [
            "[flaml.automl.logger: 09-26 15:10:41] {2391} INFO -  at 35.9s,\testimator xgboost's best error=0.1215,\tbest estimator rf's best error=0.1114\n",
            "[flaml.automl.logger: 09-26 15:10:41] {2218} INFO - iteration 45, current learner rf\n",
            "[flaml.automl.logger: 09-26 15:10:43] {2391} INFO -  at 37.5s,\testimator rf's best error=0.1114,\tbest estimator rf's best error=0.1114\n",
            "[flaml.automl.logger: 09-26 15:10:43] {2218} INFO - iteration 46, current learner xgboost\n"
          ]
        },
        {
          "output_type": "stream",
          "name": "stderr",
          "text": [
            "`use_label_encoder` is deprecated in 1.7.0.\n"
          ]
        },
        {
          "output_type": "stream",
          "name": "stdout",
          "text": [
            "[flaml.automl.logger: 09-26 15:10:46] {2391} INFO -  at 41.0s,\testimator xgboost's best error=0.1215,\tbest estimator rf's best error=0.1114\n",
            "[flaml.automl.logger: 09-26 15:10:46] {2218} INFO - iteration 47, current learner rf\n",
            "[flaml.automl.logger: 09-26 15:10:47] {2391} INFO -  at 42.2s,\testimator rf's best error=0.1114,\tbest estimator rf's best error=0.1114\n",
            "[flaml.automl.logger: 09-26 15:10:47] {2218} INFO - iteration 48, current learner lgbm\n",
            "[flaml.automl.logger: 09-26 15:10:48] {2391} INFO -  at 42.6s,\testimator lgbm's best error=0.1749,\tbest estimator rf's best error=0.1114\n",
            "[flaml.automl.logger: 09-26 15:10:48] {2218} INFO - iteration 49, current learner xgboost\n"
          ]
        },
        {
          "output_type": "stream",
          "name": "stderr",
          "text": [
            "`use_label_encoder` is deprecated in 1.7.0.\n"
          ]
        },
        {
          "output_type": "stream",
          "name": "stdout",
          "text": [
            "[flaml.automl.logger: 09-26 15:10:49] {2391} INFO -  at 44.3s,\testimator xgboost's best error=0.1141,\tbest estimator rf's best error=0.1114\n",
            "[flaml.automl.logger: 09-26 15:10:49] {2218} INFO - iteration 50, current learner lgbm\n",
            "[flaml.automl.logger: 09-26 15:10:50] {2391} INFO -  at 44.7s,\testimator lgbm's best error=0.1749,\tbest estimator rf's best error=0.1114\n",
            "[flaml.automl.logger: 09-26 15:10:50] {2218} INFO - iteration 51, current learner lgbm\n",
            "[flaml.automl.logger: 09-26 15:10:50] {2391} INFO -  at 45.2s,\testimator lgbm's best error=0.1095,\tbest estimator lgbm's best error=0.1095\n",
            "[flaml.automl.logger: 09-26 15:10:50] {2218} INFO - iteration 52, current learner lgbm\n",
            "[flaml.automl.logger: 09-26 15:10:51] {2391} INFO -  at 45.8s,\testimator lgbm's best error=0.1095,\tbest estimator lgbm's best error=0.1095\n",
            "[flaml.automl.logger: 09-26 15:10:51] {2218} INFO - iteration 53, current learner rf\n",
            "[flaml.automl.logger: 09-26 15:10:53] {2391} INFO -  at 47.9s,\testimator rf's best error=0.1114,\tbest estimator lgbm's best error=0.1095\n",
            "[flaml.automl.logger: 09-26 15:10:53] {2218} INFO - iteration 54, current learner lgbm\n",
            "[flaml.automl.logger: 09-26 15:10:54] {2391} INFO -  at 48.4s,\testimator lgbm's best error=0.1095,\tbest estimator lgbm's best error=0.1095\n",
            "[flaml.automl.logger: 09-26 15:10:54] {2218} INFO - iteration 55, current learner lgbm\n",
            "[flaml.automl.logger: 09-26 15:10:54] {2391} INFO -  at 48.9s,\testimator lgbm's best error=0.1095,\tbest estimator lgbm's best error=0.1095\n",
            "[flaml.automl.logger: 09-26 15:10:54] {2218} INFO - iteration 56, current learner lgbm\n",
            "[flaml.automl.logger: 09-26 15:10:55] {2391} INFO -  at 49.4s,\testimator lgbm's best error=0.1037,\tbest estimator lgbm's best error=0.1037\n",
            "[flaml.automl.logger: 09-26 15:10:55] {2218} INFO - iteration 57, current learner lgbm\n",
            "[flaml.automl.logger: 09-26 15:10:55] {2391} INFO -  at 50.2s,\testimator lgbm's best error=0.1037,\tbest estimator lgbm's best error=0.1037\n",
            "[flaml.automl.logger: 09-26 15:10:55] {2218} INFO - iteration 58, current learner rf\n",
            "[flaml.automl.logger: 09-26 15:10:59] {2391} INFO -  at 53.5s,\testimator rf's best error=0.1114,\tbest estimator lgbm's best error=0.1037\n",
            "[flaml.automl.logger: 09-26 15:10:59] {2218} INFO - iteration 59, current learner lgbm\n",
            "[flaml.automl.logger: 09-26 15:11:00] {2391} INFO -  at 55.3s,\testimator lgbm's best error=0.1037,\tbest estimator lgbm's best error=0.1037\n",
            "[flaml.automl.logger: 09-26 15:11:00] {2218} INFO - iteration 60, current learner lgbm\n",
            "[flaml.automl.logger: 09-26 15:11:01] {2391} INFO -  at 56.0s,\testimator lgbm's best error=0.1037,\tbest estimator lgbm's best error=0.1037\n",
            "[flaml.automl.logger: 09-26 15:11:01] {2218} INFO - iteration 61, current learner lgbm\n",
            "[flaml.automl.logger: 09-26 15:11:02] {2391} INFO -  at 56.6s,\testimator lgbm's best error=0.1037,\tbest estimator lgbm's best error=0.1037\n",
            "[flaml.automl.logger: 09-26 15:11:02] {2218} INFO - iteration 62, current learner lgbm\n",
            "[flaml.automl.logger: 09-26 15:11:02] {2391} INFO -  at 57.1s,\testimator lgbm's best error=0.1037,\tbest estimator lgbm's best error=0.1037\n",
            "[flaml.automl.logger: 09-26 15:11:02] {2218} INFO - iteration 63, current learner lgbm\n",
            "[flaml.automl.logger: 09-26 15:11:03] {2391} INFO -  at 58.1s,\testimator lgbm's best error=0.1011,\tbest estimator lgbm's best error=0.1011\n",
            "[flaml.automl.logger: 09-26 15:11:03] {2218} INFO - iteration 64, current learner lgbm\n",
            "[flaml.automl.logger: 09-26 15:11:05] {2391} INFO -  at 59.4s,\testimator lgbm's best error=0.0957,\tbest estimator lgbm's best error=0.0957\n",
            "[flaml.automl.logger: 09-26 15:11:06] {2627} INFO - retrain lgbm for 1.4s\n",
            "[flaml.automl.logger: 09-26 15:11:06] {2630} INFO - retrained model: LGBMClassifier(colsample_bytree=0.5692759090628009,\n",
            "               learning_rate=0.06783406206852077, max_bin=127,\n",
            "               min_child_samples=2, n_estimators=1, n_jobs=-1, num_leaves=57,\n",
            "               reg_alpha=0.02892883669950727, reg_lambda=0.0322794966673166,\n",
            "               verbose=-1)\n",
            "[flaml.automl.logger: 09-26 15:11:06] {1930} INFO - fit succeeded\n",
            "[flaml.automl.logger: 09-26 15:11:06] {1931} INFO - Time taken to find the best model: 59.365376710891724\n",
            "[flaml.automl.logger: 09-26 15:11:10] {1679} INFO - task = classification\n",
            "[flaml.automl.logger: 09-26 15:11:10] {1690} INFO - Evaluation method: holdout\n",
            "[flaml.automl.logger: 09-26 15:11:10] {1788} INFO - Minimizing error metric: 1-roc_auc\n",
            "[flaml.automl.logger: 09-26 15:11:10] {1900} INFO - List of ML learners in AutoML Run: ['rf', 'lgbm', 'xgboost']\n",
            "[flaml.automl.logger: 09-26 15:11:10] {2218} INFO - iteration 0, current learner rf\n",
            "[flaml.automl.logger: 09-26 15:11:10] {2344} INFO - Estimated sufficient time budget=952s. Estimated necessary time budget=1s.\n",
            "[flaml.automl.logger: 09-26 15:11:10] {2391} INFO -  at 0.2s,\testimator rf's best error=0.3832,\tbest estimator rf's best error=0.3832\n",
            "[flaml.automl.logger: 09-26 15:11:10] {2218} INFO - iteration 1, current learner lgbm\n",
            "[flaml.automl.logger: 09-26 15:11:12] {2391} INFO -  at 2.0s,\testimator lgbm's best error=0.3592,\tbest estimator lgbm's best error=0.3592\n",
            "[flaml.automl.logger: 09-26 15:11:12] {2218} INFO - iteration 2, current learner xgboost\n"
          ]
        },
        {
          "output_type": "stream",
          "name": "stderr",
          "text": [
            "`use_label_encoder` is deprecated in 1.7.0.\n"
          ]
        },
        {
          "output_type": "stream",
          "name": "stdout",
          "text": [
            "[flaml.automl.logger: 09-26 15:11:13] {2391} INFO -  at 3.4s,\testimator xgboost's best error=0.3587,\tbest estimator xgboost's best error=0.3587\n",
            "[flaml.automl.logger: 09-26 15:11:13] {2218} INFO - iteration 3, current learner rf\n",
            "[flaml.automl.logger: 09-26 15:11:13] {2391} INFO -  at 3.6s,\testimator rf's best error=0.3557,\tbest estimator rf's best error=0.3557\n",
            "[flaml.automl.logger: 09-26 15:11:13] {2218} INFO - iteration 4, current learner rf\n",
            "[flaml.automl.logger: 09-26 15:11:14] {2391} INFO -  at 3.7s,\testimator rf's best error=0.3439,\tbest estimator rf's best error=0.3439\n",
            "[flaml.automl.logger: 09-26 15:11:14] {2218} INFO - iteration 5, current learner rf\n",
            "[flaml.automl.logger: 09-26 15:11:14] {2391} INFO -  at 4.0s,\testimator rf's best error=0.3365,\tbest estimator rf's best error=0.3365\n",
            "[flaml.automl.logger: 09-26 15:11:14] {2218} INFO - iteration 6, current learner rf\n",
            "[flaml.automl.logger: 09-26 15:11:14] {2391} INFO -  at 4.2s,\testimator rf's best error=0.3365,\tbest estimator rf's best error=0.3365\n",
            "[flaml.automl.logger: 09-26 15:11:14] {2218} INFO - iteration 7, current learner rf\n",
            "[flaml.automl.logger: 09-26 15:11:14] {2391} INFO -  at 4.5s,\testimator rf's best error=0.3170,\tbest estimator rf's best error=0.3170\n",
            "[flaml.automl.logger: 09-26 15:11:14] {2218} INFO - iteration 8, current learner rf\n",
            "[flaml.automl.logger: 09-26 15:11:15] {2391} INFO -  at 4.8s,\testimator rf's best error=0.3170,\tbest estimator rf's best error=0.3170\n",
            "[flaml.automl.logger: 09-26 15:11:15] {2218} INFO - iteration 9, current learner rf\n",
            "[flaml.automl.logger: 09-26 15:11:15] {2391} INFO -  at 5.2s,\testimator rf's best error=0.3007,\tbest estimator rf's best error=0.3007\n",
            "[flaml.automl.logger: 09-26 15:11:15] {2218} INFO - iteration 10, current learner rf\n",
            "[flaml.automl.logger: 09-26 15:11:15] {2391} INFO -  at 5.5s,\testimator rf's best error=0.3007,\tbest estimator rf's best error=0.3007\n",
            "[flaml.automl.logger: 09-26 15:11:15] {2218} INFO - iteration 11, current learner rf\n",
            "[flaml.automl.logger: 09-26 15:11:16] {2391} INFO -  at 6.4s,\testimator rf's best error=0.2886,\tbest estimator rf's best error=0.2886\n",
            "[flaml.automl.logger: 09-26 15:11:16] {2218} INFO - iteration 12, current learner lgbm\n",
            "[flaml.automl.logger: 09-26 15:11:17] {2391} INFO -  at 6.9s,\testimator lgbm's best error=0.3592,\tbest estimator rf's best error=0.2886\n",
            "[flaml.automl.logger: 09-26 15:11:17] {2218} INFO - iteration 13, current learner lgbm\n",
            "[flaml.automl.logger: 09-26 15:11:17] {2391} INFO -  at 7.3s,\testimator lgbm's best error=0.3259,\tbest estimator rf's best error=0.2886\n",
            "[flaml.automl.logger: 09-26 15:11:17] {2218} INFO - iteration 14, current learner xgboost\n"
          ]
        },
        {
          "output_type": "stream",
          "name": "stderr",
          "text": [
            "`use_label_encoder` is deprecated in 1.7.0.\n"
          ]
        },
        {
          "output_type": "stream",
          "name": "stdout",
          "text": [
            "[flaml.automl.logger: 09-26 15:11:18] {2391} INFO -  at 7.9s,\testimator xgboost's best error=0.3587,\tbest estimator rf's best error=0.2886\n",
            "[flaml.automl.logger: 09-26 15:11:18] {2218} INFO - iteration 15, current learner rf\n",
            "[flaml.automl.logger: 09-26 15:11:18] {2391} INFO -  at 8.6s,\testimator rf's best error=0.2482,\tbest estimator rf's best error=0.2482\n",
            "[flaml.automl.logger: 09-26 15:11:18] {2218} INFO - iteration 16, current learner xgboost\n"
          ]
        },
        {
          "output_type": "stream",
          "name": "stderr",
          "text": [
            "`use_label_encoder` is deprecated in 1.7.0.\n"
          ]
        },
        {
          "output_type": "stream",
          "name": "stdout",
          "text": [
            "[flaml.automl.logger: 09-26 15:11:19] {2391} INFO -  at 9.2s,\testimator xgboost's best error=0.3184,\tbest estimator rf's best error=0.2482\n",
            "[flaml.automl.logger: 09-26 15:11:19] {2218} INFO - iteration 17, current learner rf\n",
            "[flaml.automl.logger: 09-26 15:11:19] {2391} INFO -  at 9.6s,\testimator rf's best error=0.2482,\tbest estimator rf's best error=0.2482\n",
            "[flaml.automl.logger: 09-26 15:11:19] {2218} INFO - iteration 18, current learner rf\n",
            "[flaml.automl.logger: 09-26 15:11:21] {2391} INFO -  at 10.9s,\testimator rf's best error=0.2410,\tbest estimator rf's best error=0.2410\n",
            "[flaml.automl.logger: 09-26 15:11:21] {2218} INFO - iteration 19, current learner rf\n",
            "[flaml.automl.logger: 09-26 15:11:21] {2391} INFO -  at 11.6s,\testimator rf's best error=0.2129,\tbest estimator rf's best error=0.2129\n",
            "[flaml.automl.logger: 09-26 15:11:21] {2218} INFO - iteration 20, current learner rf\n",
            "[flaml.automl.logger: 09-26 15:11:23] {2391} INFO -  at 12.9s,\testimator rf's best error=0.2129,\tbest estimator rf's best error=0.2129\n",
            "[flaml.automl.logger: 09-26 15:11:23] {2218} INFO - iteration 21, current learner rf\n",
            "[flaml.automl.logger: 09-26 15:11:24] {2391} INFO -  at 13.7s,\testimator rf's best error=0.1618,\tbest estimator rf's best error=0.1618\n",
            "[flaml.automl.logger: 09-26 15:11:24] {2218} INFO - iteration 22, current learner rf\n",
            "[flaml.automl.logger: 09-26 15:11:24] {2391} INFO -  at 14.4s,\testimator rf's best error=0.1618,\tbest estimator rf's best error=0.1618\n",
            "[flaml.automl.logger: 09-26 15:11:24] {2218} INFO - iteration 23, current learner lgbm\n",
            "[flaml.automl.logger: 09-26 15:11:27] {2391} INFO -  at 16.9s,\testimator lgbm's best error=0.2492,\tbest estimator rf's best error=0.1618\n",
            "[flaml.automl.logger: 09-26 15:11:27] {2218} INFO - iteration 24, current learner xgboost\n"
          ]
        },
        {
          "output_type": "stream",
          "name": "stderr",
          "text": [
            "`use_label_encoder` is deprecated in 1.7.0.\n"
          ]
        },
        {
          "output_type": "stream",
          "name": "stdout",
          "text": [
            "[flaml.automl.logger: 09-26 15:11:28] {2391} INFO -  at 18.4s,\testimator xgboost's best error=0.3184,\tbest estimator rf's best error=0.1618\n",
            "[flaml.automl.logger: 09-26 15:11:28] {2218} INFO - iteration 25, current learner rf\n",
            "[flaml.automl.logger: 09-26 15:11:29] {2391} INFO -  at 18.8s,\testimator rf's best error=0.1618,\tbest estimator rf's best error=0.1618\n",
            "[flaml.automl.logger: 09-26 15:11:29] {2218} INFO - iteration 26, current learner lgbm\n",
            "[flaml.automl.logger: 09-26 15:11:29] {2391} INFO -  at 19.2s,\testimator lgbm's best error=0.2492,\tbest estimator rf's best error=0.1618\n",
            "[flaml.automl.logger: 09-26 15:11:29] {2218} INFO - iteration 27, current learner lgbm\n",
            "[flaml.automl.logger: 09-26 15:11:29] {2391} INFO -  at 19.6s,\testimator lgbm's best error=0.2453,\tbest estimator rf's best error=0.1618\n",
            "[flaml.automl.logger: 09-26 15:11:29] {2218} INFO - iteration 28, current learner lgbm\n",
            "[flaml.automl.logger: 09-26 15:11:30] {2391} INFO -  at 20.1s,\testimator lgbm's best error=0.2453,\tbest estimator rf's best error=0.1618\n",
            "[flaml.automl.logger: 09-26 15:11:30] {2218} INFO - iteration 29, current learner rf\n",
            "[flaml.automl.logger: 09-26 15:11:32] {2391} INFO -  at 22.2s,\testimator rf's best error=0.1618,\tbest estimator rf's best error=0.1618\n",
            "[flaml.automl.logger: 09-26 15:11:32] {2218} INFO - iteration 30, current learner rf\n",
            "[flaml.automl.logger: 09-26 15:11:34] {2391} INFO -  at 23.7s,\testimator rf's best error=0.1404,\tbest estimator rf's best error=0.1404\n",
            "[flaml.automl.logger: 09-26 15:11:34] {2218} INFO - iteration 31, current learner rf\n",
            "[flaml.automl.logger: 09-26 15:11:34] {2391} INFO -  at 24.6s,\testimator rf's best error=0.1404,\tbest estimator rf's best error=0.1404\n",
            "[flaml.automl.logger: 09-26 15:11:34] {2218} INFO - iteration 32, current learner xgboost\n"
          ]
        },
        {
          "output_type": "stream",
          "name": "stderr",
          "text": [
            "`use_label_encoder` is deprecated in 1.7.0.\n"
          ]
        },
        {
          "output_type": "stream",
          "name": "stdout",
          "text": [
            "[flaml.automl.logger: 09-26 15:11:35] {2391} INFO -  at 25.2s,\testimator xgboost's best error=0.3078,\tbest estimator rf's best error=0.1404\n",
            "[flaml.automl.logger: 09-26 15:11:35] {2218} INFO - iteration 33, current learner rf\n",
            "[flaml.automl.logger: 09-26 15:11:37] {2391} INFO -  at 27.1s,\testimator rf's best error=0.1404,\tbest estimator rf's best error=0.1404\n",
            "[flaml.automl.logger: 09-26 15:11:37] {2218} INFO - iteration 34, current learner rf\n",
            "[flaml.automl.logger: 09-26 15:11:38] {2391} INFO -  at 28.6s,\testimator rf's best error=0.1404,\tbest estimator rf's best error=0.1404\n",
            "[flaml.automl.logger: 09-26 15:11:38] {2218} INFO - iteration 35, current learner xgboost\n"
          ]
        },
        {
          "output_type": "stream",
          "name": "stderr",
          "text": [
            "`use_label_encoder` is deprecated in 1.7.0.\n"
          ]
        },
        {
          "output_type": "stream",
          "name": "stdout",
          "text": [
            "[flaml.automl.logger: 09-26 15:11:40] {2391} INFO -  at 30.5s,\testimator xgboost's best error=0.3078,\tbest estimator rf's best error=0.1404\n",
            "[flaml.automl.logger: 09-26 15:11:40] {2218} INFO - iteration 36, current learner rf\n",
            "[flaml.automl.logger: 09-26 15:11:43] {2391} INFO -  at 33.7s,\testimator rf's best error=0.1404,\tbest estimator rf's best error=0.1404\n",
            "[flaml.automl.logger: 09-26 15:11:43] {2218} INFO - iteration 37, current learner rf\n",
            "[flaml.automl.logger: 09-26 15:11:45] {2391} INFO -  at 34.9s,\testimator rf's best error=0.1404,\tbest estimator rf's best error=0.1404\n",
            "[flaml.automl.logger: 09-26 15:11:45] {2218} INFO - iteration 38, current learner rf\n",
            "[flaml.automl.logger: 09-26 15:11:46] {2391} INFO -  at 36.1s,\testimator rf's best error=0.1404,\tbest estimator rf's best error=0.1404\n",
            "[flaml.automl.logger: 09-26 15:11:46] {2218} INFO - iteration 39, current learner rf\n",
            "[flaml.automl.logger: 09-26 15:11:48] {2391} INFO -  at 38.2s,\testimator rf's best error=0.1404,\tbest estimator rf's best error=0.1404\n",
            "[flaml.automl.logger: 09-26 15:11:48] {2218} INFO - iteration 40, current learner lgbm\n",
            "[flaml.automl.logger: 09-26 15:11:48] {2391} INFO -  at 38.6s,\testimator lgbm's best error=0.2453,\tbest estimator rf's best error=0.1404\n",
            "[flaml.automl.logger: 09-26 15:11:48] {2218} INFO - iteration 41, current learner rf\n",
            "[flaml.automl.logger: 09-26 15:11:51] {2391} INFO -  at 40.7s,\testimator rf's best error=0.1404,\tbest estimator rf's best error=0.1404\n",
            "[flaml.automl.logger: 09-26 15:11:51] {2218} INFO - iteration 42, current learner rf\n",
            "[flaml.automl.logger: 09-26 15:11:52] {2391} INFO -  at 41.8s,\testimator rf's best error=0.1161,\tbest estimator rf's best error=0.1161\n",
            "[flaml.automl.logger: 09-26 15:11:52] {2218} INFO - iteration 43, current learner xgboost\n"
          ]
        },
        {
          "output_type": "stream",
          "name": "stderr",
          "text": [
            "`use_label_encoder` is deprecated in 1.7.0.\n"
          ]
        },
        {
          "output_type": "stream",
          "name": "stdout",
          "text": [
            "[flaml.automl.logger: 09-26 15:11:52] {2391} INFO -  at 42.6s,\testimator xgboost's best error=0.2679,\tbest estimator rf's best error=0.1161\n",
            "[flaml.automl.logger: 09-26 15:11:52] {2218} INFO - iteration 44, current learner xgboost\n"
          ]
        },
        {
          "output_type": "stream",
          "name": "stderr",
          "text": [
            "`use_label_encoder` is deprecated in 1.7.0.\n"
          ]
        },
        {
          "output_type": "stream",
          "name": "stdout",
          "text": [
            "[flaml.automl.logger: 09-26 15:11:56] {2391} INFO -  at 45.9s,\testimator xgboost's best error=0.2298,\tbest estimator rf's best error=0.1161\n",
            "[flaml.automl.logger: 09-26 15:11:56] {2218} INFO - iteration 45, current learner rf\n",
            "[flaml.automl.logger: 09-26 15:11:58] {2391} INFO -  at 47.7s,\testimator rf's best error=0.1161,\tbest estimator rf's best error=0.1161\n",
            "[flaml.automl.logger: 09-26 15:11:58] {2218} INFO - iteration 46, current learner xgboost\n"
          ]
        },
        {
          "output_type": "stream",
          "name": "stderr",
          "text": [
            "`use_label_encoder` is deprecated in 1.7.0.\n"
          ]
        },
        {
          "output_type": "stream",
          "name": "stdout",
          "text": [
            "[flaml.automl.logger: 09-26 15:11:58] {2391} INFO -  at 48.4s,\testimator xgboost's best error=0.2298,\tbest estimator rf's best error=0.1161\n",
            "[flaml.automl.logger: 09-26 15:11:58] {2218} INFO - iteration 47, current learner rf\n",
            "[flaml.automl.logger: 09-26 15:11:59] {2391} INFO -  at 49.2s,\testimator rf's best error=0.1143,\tbest estimator rf's best error=0.1143\n",
            "[flaml.automl.logger: 09-26 15:11:59] {2218} INFO - iteration 48, current learner rf\n",
            "[flaml.automl.logger: 09-26 15:12:01] {2391} INFO -  at 50.9s,\testimator rf's best error=0.1143,\tbest estimator rf's best error=0.1143\n",
            "[flaml.automl.logger: 09-26 15:12:01] {2218} INFO - iteration 49, current learner lgbm\n",
            "[flaml.automl.logger: 09-26 15:12:01] {2391} INFO -  at 51.3s,\testimator lgbm's best error=0.2193,\tbest estimator rf's best error=0.1143\n",
            "[flaml.automl.logger: 09-26 15:12:01] {2218} INFO - iteration 50, current learner rf\n",
            "[flaml.automl.logger: 09-26 15:12:02] {2391} INFO -  at 51.8s,\testimator rf's best error=0.1143,\tbest estimator rf's best error=0.1143\n",
            "[flaml.automl.logger: 09-26 15:12:02] {2218} INFO - iteration 51, current learner rf\n",
            "[flaml.automl.logger: 09-26 15:12:03] {2391} INFO -  at 52.8s,\testimator rf's best error=0.1143,\tbest estimator rf's best error=0.1143\n",
            "[flaml.automl.logger: 09-26 15:12:03] {2218} INFO - iteration 52, current learner rf\n",
            "[flaml.automl.logger: 09-26 15:12:03] {2391} INFO -  at 53.6s,\testimator rf's best error=0.0947,\tbest estimator rf's best error=0.0947\n",
            "[flaml.automl.logger: 09-26 15:12:03] {2218} INFO - iteration 53, current learner rf\n",
            "[flaml.automl.logger: 09-26 15:12:06] {2391} INFO -  at 55.7s,\testimator rf's best error=0.0947,\tbest estimator rf's best error=0.0947\n",
            "[flaml.automl.logger: 09-26 15:12:06] {2218} INFO - iteration 54, current learner rf\n",
            "[flaml.automl.logger: 09-26 15:12:06] {2391} INFO -  at 56.1s,\testimator rf's best error=0.0947,\tbest estimator rf's best error=0.0947\n",
            "[flaml.automl.logger: 09-26 15:12:06] {2218} INFO - iteration 55, current learner rf\n",
            "[flaml.automl.logger: 09-26 15:12:07] {2391} INFO -  at 56.7s,\testimator rf's best error=0.0947,\tbest estimator rf's best error=0.0947\n",
            "[flaml.automl.logger: 09-26 15:12:07] {2218} INFO - iteration 56, current learner rf\n",
            "[flaml.automl.logger: 09-26 15:12:09] {2391} INFO -  at 59.0s,\testimator rf's best error=0.0947,\tbest estimator rf's best error=0.0947\n",
            "[flaml.automl.logger: 09-26 15:12:09] {2218} INFO - iteration 57, current learner rf\n",
            "[flaml.automl.logger: 09-26 15:12:10] {2391} INFO -  at 59.9s,\testimator rf's best error=0.0947,\tbest estimator rf's best error=0.0947\n",
            "[flaml.automl.logger: 09-26 15:12:11] {2627} INFO - retrain rf for 1.3s\n",
            "[flaml.automl.logger: 09-26 15:12:11] {2630} INFO - retrained model: RandomForestClassifier(criterion='entropy', max_features=0.022097086912079608,\n",
            "                       max_leaf_nodes=402, n_estimators=20, n_jobs=-1,\n",
            "                       random_state=12032022)\n",
            "[flaml.automl.logger: 09-26 15:12:11] {1930} INFO - fit succeeded\n",
            "[flaml.automl.logger: 09-26 15:12:11] {1931} INFO - Time taken to find the best model: 53.56942558288574\n"
          ]
        }
      ]
    },
    {
      "cell_type": "markdown",
      "source": [
        "### The ROC-AUC curve"
      ],
      "metadata": {
        "id": "XUILW9kTsXBW"
      }
    },
    {
      "cell_type": "code",
      "source": [
        "from sklearn import metrics\n",
        "import matplotlib.pyplot as plt\n",
        "\n",
        "fig, ax = plt.subplots(1,1)\n",
        "\n",
        "aucs = []\n",
        "tprs = []\n",
        "mean_fpr = np.linspace(0,1,100)\n",
        "for i in range(5):\n",
        "    test = pd.read_csv(\"test_set_pred_morgan_{}.csv\".format(i))\n",
        "    fpr, tpr, _ = metrics.roc_curve(test[BIN],test[\"proba1\"])\n",
        "    roc_auc = metrics.auc(fpr, tpr)\n",
        "    interp_tpr = np.interp(mean_fpr, fpr, tpr)\n",
        "    interp_tpr[0] = 0.0\n",
        "    tprs.append(interp_tpr)\n",
        "    aucs.append(roc_auc)\n",
        "\n",
        "mean_tpr = np.mean(tprs, axis=0)\n",
        "mean_tpr[-1] = 1.0\n",
        "mean_auc = metrics.auc(mean_fpr, mean_tpr)\n",
        "std_auc = np.std(aucs)\n",
        "\n",
        "ax.plot(\n",
        "        mean_fpr,\n",
        "        mean_tpr,\n",
        "        color=\"#50285a\",\n",
        "        label=r\"AUC = %0.2f $\\pm$ %0.2f\" % (mean_auc, std_auc),\n",
        "    )\n",
        "ax.plot([0, 1], [0, 1], ls=\"--\")\n",
        "std_tpr = np.std(tprs, axis=0)\n",
        "tprs_upper = np.minimum(mean_tpr + std_tpr, 1)\n",
        "tprs_lower = np.maximum(mean_tpr - std_tpr, 0)\n",
        "ax.fill_between(\n",
        "    mean_fpr,\n",
        "    tprs_lower,\n",
        "    tprs_upper,\n",
        "    color=\"#d2d2d0\",\n",
        "    alpha=0.6,\n",
        "    label=r\"$\\pm$ 1 std. dev.\",\n",
        "    )\n",
        "ax.set(\n",
        "        xlim=[-0.05, 1.05],\n",
        "        ylim=[-0.05, 1.05],\n",
        "        )\n",
        "ax.legend(loc=\"lower right\")\n",
        "ax.set_xlabel=\"1-Specificity (FPR)\",\n",
        "ax.set_ylabel=\"Sensitivity (TPR)\",\n",
        "plt.tight_layout()"
      ],
      "metadata": {
        "id": "JE2ln7pL8Iz5",
        "outputId": "27eeeffe-4cf5-441d-9557-7f5ee722b396",
        "colab": {
          "base_uri": "https://localhost:8080/",
          "height": 487
        }
      },
      "execution_count": 93,
      "outputs": [
        {
          "output_type": "display_data",
          "data": {
            "text/plain": [
              "<Figure size 640x480 with 1 Axes>"
            ],
            "image/png": "[encoded data removed]"
          },
          "metadata": {}
        }
      ]
    },
    {
      "cell_type": "markdown",
      "source": [
        "## 8. Train an ML Model with Ersilia Compound Embeddings"
      ],
      "metadata": {
        "id": "Ynip8QoLwjhy"
      }
    },
    {
      "cell_type": "code",
      "source": [
        "import lazyqsar as lq\n",
        "\n",
        "for i in range(5):\n",
        "    train = pd.read_csv(\"train_set_{}.csv\".format(i))\n",
        "    test = pd.read_csv(\"test_set_{}.csv\".format(i))\n",
        "    smiles_train = train[SMILES]\n",
        "    y_train = train[BIN]\n",
        "    model = lq.ErsiliaBinaryClassifier(time_budget_sec=60, estimator_list=[\"rf\", \"lgbm\", \"xgboost\"])\n",
        "    model.fit(train[SMILES], train[BIN])\n",
        "    y_hat = model.predict_proba(test[SMILES])\n",
        "    test[\"proba1\"] = y_hat[:,1]\n",
        "    test.to_csv(\"test_set_pred_eosce_{}.csv\".format(i))"
      ],
      "metadata": {
        "id": "d5BO-3q2_wHu",
        "outputId": "cd76404e-c9d9-4606-d372-ade6a9c4ce0d",
        "colab": {
          "base_uri": "https://localhost:8080/"
        }
      },
      "execution_count": 94,
      "outputs": [
        {
          "output_type": "stream",
          "name": "stdout",
          "text": [
            "[flaml.automl.logger: 09-26 15:13:02] {1679} INFO - task = classification\n",
            "[flaml.automl.logger: 09-26 15:13:02] {1690} INFO - Evaluation method: holdout\n",
            "[flaml.automl.logger: 09-26 15:13:02] {1788} INFO - Minimizing error metric: 1-roc_auc\n",
            "[flaml.automl.logger: 09-26 15:13:02] {1900} INFO - List of ML learners in AutoML Run: ['rf', 'lgbm', 'xgboost']\n",
            "[flaml.automl.logger: 09-26 15:13:02] {2218} INFO - iteration 0, current learner rf\n",
            "[flaml.automl.logger: 09-26 15:13:03] {2344} INFO - Estimated sufficient time budget=4433s. Estimated necessary time budget=4s.\n",
            "[flaml.automl.logger: 09-26 15:13:03] {2391} INFO -  at 0.5s,\testimator rf's best error=0.3084,\tbest estimator rf's best error=0.3084\n",
            "[flaml.automl.logger: 09-26 15:13:03] {2218} INFO - iteration 1, current learner lgbm\n",
            "[flaml.automl.logger: 09-26 15:13:05] {2391} INFO -  at 3.1s,\testimator lgbm's best error=0.2859,\tbest estimator lgbm's best error=0.2859\n",
            "[flaml.automl.logger: 09-26 15:13:05] {2218} INFO - iteration 2, current learner xgboost\n"
          ]
        },
        {
          "output_type": "stream",
          "name": "stderr",
          "text": [
            "`use_label_encoder` is deprecated in 1.7.0.\n"
          ]
        },
        {
          "output_type": "stream",
          "name": "stdout",
          "text": [
            "[flaml.automl.logger: 09-26 15:13:06] {2391} INFO -  at 4.1s,\testimator xgboost's best error=0.2723,\tbest estimator xgboost's best error=0.2723\n",
            "[flaml.automl.logger: 09-26 15:13:06] {2218} INFO - iteration 3, current learner rf\n",
            "[flaml.automl.logger: 09-26 15:13:06] {2391} INFO -  at 4.4s,\testimator rf's best error=0.3084,\tbest estimator xgboost's best error=0.2723\n",
            "[flaml.automl.logger: 09-26 15:13:06] {2218} INFO - iteration 4, current learner lgbm\n",
            "[flaml.automl.logger: 09-26 15:13:08] {2391} INFO -  at 5.8s,\testimator lgbm's best error=0.2859,\tbest estimator xgboost's best error=0.2723\n",
            "[flaml.automl.logger: 09-26 15:13:08] {2218} INFO - iteration 5, current learner rf\n",
            "[flaml.automl.logger: 09-26 15:13:08] {2391} INFO -  at 6.0s,\testimator rf's best error=0.3019,\tbest estimator xgboost's best error=0.2723\n",
            "[flaml.automl.logger: 09-26 15:13:08] {2218} INFO - iteration 6, current learner lgbm\n",
            "[flaml.automl.logger: 09-26 15:13:09] {2391} INFO -  at 7.2s,\testimator lgbm's best error=0.2859,\tbest estimator xgboost's best error=0.2723\n",
            "[flaml.automl.logger: 09-26 15:13:09] {2218} INFO - iteration 7, current learner rf\n",
            "[flaml.automl.logger: 09-26 15:13:10] {2391} INFO -  at 7.6s,\testimator rf's best error=0.3019,\tbest estimator xgboost's best error=0.2723\n",
            "[flaml.automl.logger: 09-26 15:13:10] {2218} INFO - iteration 8, current learner lgbm\n",
            "[flaml.automl.logger: 09-26 15:13:12] {2391} INFO -  at 9.7s,\testimator lgbm's best error=0.2408,\tbest estimator lgbm's best error=0.2408\n",
            "[flaml.automl.logger: 09-26 15:13:12] {2218} INFO - iteration 9, current learner lgbm\n",
            "[flaml.automl.logger: 09-26 15:13:13] {2391} INFO -  at 11.4s,\testimator lgbm's best error=0.2408,\tbest estimator lgbm's best error=0.2408\n",
            "[flaml.automl.logger: 09-26 15:13:13] {2218} INFO - iteration 10, current learner xgboost\n"
          ]
        },
        {
          "output_type": "stream",
          "name": "stderr",
          "text": [
            "`use_label_encoder` is deprecated in 1.7.0.\n"
          ]
        },
        {
          "output_type": "stream",
          "name": "stdout",
          "text": [
            "[flaml.automl.logger: 09-26 15:13:14] {2391} INFO -  at 12.5s,\testimator xgboost's best error=0.2723,\tbest estimator lgbm's best error=0.2408\n",
            "[flaml.automl.logger: 09-26 15:13:15] {2218} INFO - iteration 11, current learner xgboost\n"
          ]
        },
        {
          "output_type": "stream",
          "name": "stderr",
          "text": [
            "`use_label_encoder` is deprecated in 1.7.0.\n"
          ]
        },
        {
          "output_type": "stream",
          "name": "stdout",
          "text": [
            "[flaml.automl.logger: 09-26 15:13:17] {2391} INFO -  at 14.6s,\testimator xgboost's best error=0.2626,\tbest estimator lgbm's best error=0.2408\n",
            "[flaml.automl.logger: 09-26 15:13:17] {2218} INFO - iteration 12, current learner lgbm\n",
            "[flaml.automl.logger: 09-26 15:13:20] {2391} INFO -  at 18.1s,\testimator lgbm's best error=0.2408,\tbest estimator lgbm's best error=0.2408\n",
            "[flaml.automl.logger: 09-26 15:13:20] {2218} INFO - iteration 13, current learner lgbm\n",
            "[flaml.automl.logger: 09-26 15:13:22] {2391} INFO -  at 19.7s,\testimator lgbm's best error=0.2408,\tbest estimator lgbm's best error=0.2408\n",
            "[flaml.automl.logger: 09-26 15:13:22] {2218} INFO - iteration 14, current learner lgbm\n",
            "[flaml.automl.logger: 09-26 15:13:25] {2391} INFO -  at 22.8s,\testimator lgbm's best error=0.2204,\tbest estimator lgbm's best error=0.2204\n",
            "[flaml.automl.logger: 09-26 15:13:25] {2218} INFO - iteration 15, current learner rf\n",
            "[flaml.automl.logger: 09-26 15:13:25] {2391} INFO -  at 23.3s,\testimator rf's best error=0.3019,\tbest estimator lgbm's best error=0.2204\n",
            "[flaml.automl.logger: 09-26 15:13:25] {2218} INFO - iteration 16, current learner xgboost\n"
          ]
        },
        {
          "output_type": "stream",
          "name": "stderr",
          "text": [
            "`use_label_encoder` is deprecated in 1.7.0.\n"
          ]
        },
        {
          "output_type": "stream",
          "name": "stdout",
          "text": [
            "[flaml.automl.logger: 09-26 15:13:26] {2391} INFO -  at 24.4s,\testimator xgboost's best error=0.2626,\tbest estimator lgbm's best error=0.2204\n",
            "[flaml.automl.logger: 09-26 15:13:26] {2218} INFO - iteration 17, current learner rf\n",
            "[flaml.automl.logger: 09-26 15:13:27] {2391} INFO -  at 25.0s,\testimator rf's best error=0.2801,\tbest estimator lgbm's best error=0.2204\n",
            "[flaml.automl.logger: 09-26 15:13:27] {2218} INFO - iteration 18, current learner lgbm\n",
            "[flaml.automl.logger: 09-26 15:13:29] {2391} INFO -  at 27.1s,\testimator lgbm's best error=0.2204,\tbest estimator lgbm's best error=0.2204\n",
            "[flaml.automl.logger: 09-26 15:13:29] {2218} INFO - iteration 19, current learner rf\n",
            "[flaml.automl.logger: 09-26 15:13:29] {2391} INFO -  at 27.3s,\testimator rf's best error=0.2612,\tbest estimator lgbm's best error=0.2204\n",
            "[flaml.automl.logger: 09-26 15:13:29] {2218} INFO - iteration 20, current learner rf\n",
            "[flaml.automl.logger: 09-26 15:13:31] {2391} INFO -  at 29.1s,\testimator rf's best error=0.2612,\tbest estimator lgbm's best error=0.2204\n",
            "[flaml.automl.logger: 09-26 15:13:31] {2218} INFO - iteration 21, current learner rf\n",
            "[flaml.automl.logger: 09-26 15:13:31] {2391} INFO -  at 29.4s,\testimator rf's best error=0.2612,\tbest estimator lgbm's best error=0.2204\n",
            "[flaml.automl.logger: 09-26 15:13:31] {2218} INFO - iteration 22, current learner rf\n",
            "[flaml.automl.logger: 09-26 15:13:32] {2391} INFO -  at 30.1s,\testimator rf's best error=0.2612,\tbest estimator lgbm's best error=0.2204\n",
            "[flaml.automl.logger: 09-26 15:13:32] {2218} INFO - iteration 23, current learner lgbm\n",
            "[flaml.automl.logger: 09-26 15:13:55] {2391} INFO -  at 52.9s,\testimator lgbm's best error=0.1731,\tbest estimator lgbm's best error=0.1731\n",
            "[flaml.automl.logger: 09-26 15:13:55] {2218} INFO - iteration 24, current learner xgboost\n"
          ]
        },
        {
          "output_type": "stream",
          "name": "stderr",
          "text": [
            "`use_label_encoder` is deprecated in 1.7.0.\n"
          ]
        },
        {
          "output_type": "stream",
          "name": "stdout",
          "text": [
            "[flaml.automl.logger: 09-26 15:13:56] {2391} INFO -  at 54.2s,\testimator xgboost's best error=0.2626,\tbest estimator lgbm's best error=0.1731\n",
            "[flaml.automl.logger: 09-26 15:13:56] {2218} INFO - iteration 25, current learner rf\n",
            "[flaml.automl.logger: 09-26 15:13:57] {2391} INFO -  at 54.6s,\testimator rf's best error=0.2525,\tbest estimator lgbm's best error=0.1731\n",
            "[flaml.automl.logger: 09-26 15:13:57] {2218} INFO - iteration 26, current learner xgboost\n"
          ]
        },
        {
          "output_type": "stream",
          "name": "stderr",
          "text": [
            "`use_label_encoder` is deprecated in 1.7.0.\n"
          ]
        },
        {
          "output_type": "stream",
          "name": "stdout",
          "text": [
            "[flaml.automl.logger: 09-26 15:13:58] {2391} INFO -  at 55.6s,\testimator xgboost's best error=0.2626,\tbest estimator lgbm's best error=0.1731\n",
            "[flaml.automl.logger: 09-26 15:13:58] {2218} INFO - iteration 27, current learner xgboost\n"
          ]
        },
        {
          "output_type": "stream",
          "name": "stderr",
          "text": [
            "`use_label_encoder` is deprecated in 1.7.0.\n"
          ]
        },
        {
          "output_type": "stream",
          "name": "stdout",
          "text": [
            "[flaml.automl.logger: 09-26 15:14:01] {2391} INFO -  at 58.8s,\testimator xgboost's best error=0.2484,\tbest estimator lgbm's best error=0.1731\n",
            "[flaml.automl.logger: 09-26 15:14:01] {2218} INFO - iteration 28, current learner rf\n",
            "[flaml.automl.logger: 09-26 15:14:01] {2391} INFO -  at 59.3s,\testimator rf's best error=0.2525,\tbest estimator lgbm's best error=0.1731\n",
            "[flaml.automl.logger: 09-26 15:14:01] {2218} INFO - iteration 29, current learner rf\n",
            "[flaml.automl.logger: 09-26 15:14:02] {2391} INFO -  at 60.2s,\testimator rf's best error=0.2525,\tbest estimator lgbm's best error=0.1731\n",
            "[flaml.automl.logger: 09-26 15:14:24] {2627} INFO - retrain lgbm for 22.0s\n",
            "[flaml.automl.logger: 09-26 15:14:24] {2630} INFO - retrained model: LGBMClassifier(colsample_bytree=0.763007791741338,\n",
            "               learning_rate=0.06217967145850895, max_bin=1023,\n",
            "               min_child_samples=9, n_estimators=1, n_jobs=-1, num_leaves=14,\n",
            "               reg_alpha=0.0009765625, reg_lambda=0.07358012736620588,\n",
            "               verbose=-1)\n",
            "[flaml.automl.logger: 09-26 15:14:24] {1930} INFO - fit succeeded\n",
            "[flaml.automl.logger: 09-26 15:14:24] {1931} INFO - Time taken to find the best model: 52.92158555984497\n",
            "[flaml.automl.logger: 09-26 15:14:33] {1679} INFO - task = classification\n",
            "[flaml.automl.logger: 09-26 15:14:33] {1690} INFO - Evaluation method: holdout\n",
            "[flaml.automl.logger: 09-26 15:14:33] {1788} INFO - Minimizing error metric: 1-roc_auc\n",
            "[flaml.automl.logger: 09-26 15:14:33] {1900} INFO - List of ML learners in AutoML Run: ['rf', 'lgbm', 'xgboost']\n",
            "[flaml.automl.logger: 09-26 15:14:33] {2218} INFO - iteration 0, current learner rf\n",
            "[flaml.automl.logger: 09-26 15:14:33] {2344} INFO - Estimated sufficient time budget=2364s. Estimated necessary time budget=2s.\n",
            "[flaml.automl.logger: 09-26 15:14:33] {2391} INFO -  at 0.3s,\testimator rf's best error=0.3266,\tbest estimator rf's best error=0.3266\n",
            "[flaml.automl.logger: 09-26 15:14:33] {2218} INFO - iteration 1, current learner lgbm\n",
            "[flaml.automl.logger: 09-26 15:14:35] {2391} INFO -  at 1.5s,\testimator lgbm's best error=0.3024,\tbest estimator lgbm's best error=0.3024\n",
            "[flaml.automl.logger: 09-26 15:14:35] {2218} INFO - iteration 2, current learner xgboost\n"
          ]
        },
        {
          "output_type": "stream",
          "name": "stderr",
          "text": [
            "`use_label_encoder` is deprecated in 1.7.0.\n"
          ]
        },
        {
          "output_type": "stream",
          "name": "stdout",
          "text": [
            "[flaml.automl.logger: 09-26 15:14:36] {2391} INFO -  at 2.5s,\testimator xgboost's best error=0.3090,\tbest estimator lgbm's best error=0.3024\n",
            "[flaml.automl.logger: 09-26 15:14:36] {2218} INFO - iteration 3, current learner rf\n",
            "[flaml.automl.logger: 09-26 15:14:36] {2391} INFO -  at 2.7s,\testimator rf's best error=0.3074,\tbest estimator lgbm's best error=0.3024\n",
            "[flaml.automl.logger: 09-26 15:14:36] {2218} INFO - iteration 4, current learner lgbm\n",
            "[flaml.automl.logger: 09-26 15:14:37] {2391} INFO -  at 4.2s,\testimator lgbm's best error=0.3011,\tbest estimator lgbm's best error=0.3011\n",
            "[flaml.automl.logger: 09-26 15:14:37] {2218} INFO - iteration 5, current learner rf\n",
            "[flaml.automl.logger: 09-26 15:14:37] {2391} INFO -  at 4.3s,\testimator rf's best error=0.3074,\tbest estimator lgbm's best error=0.3011\n",
            "[flaml.automl.logger: 09-26 15:14:37] {2218} INFO - iteration 6, current learner rf\n",
            "[flaml.automl.logger: 09-26 15:14:38] {2391} INFO -  at 5.0s,\testimator rf's best error=0.2957,\tbest estimator rf's best error=0.2957\n",
            "[flaml.automl.logger: 09-26 15:14:38] {2218} INFO - iteration 7, current learner rf\n",
            "[flaml.automl.logger: 09-26 15:14:39] {2391} INFO -  at 5.6s,\testimator rf's best error=0.2957,\tbest estimator rf's best error=0.2957\n",
            "[flaml.automl.logger: 09-26 15:14:39] {2218} INFO - iteration 8, current learner rf\n",
            "[flaml.automl.logger: 09-26 15:14:40] {2391} INFO -  at 6.5s,\testimator rf's best error=0.2904,\tbest estimator rf's best error=0.2904\n",
            "[flaml.automl.logger: 09-26 15:14:40] {2218} INFO - iteration 9, current learner rf\n",
            "[flaml.automl.logger: 09-26 15:14:40] {2391} INFO -  at 7.0s,\testimator rf's best error=0.2813,\tbest estimator rf's best error=0.2813\n",
            "[flaml.automl.logger: 09-26 15:14:40] {2218} INFO - iteration 10, current learner rf\n",
            "[flaml.automl.logger: 09-26 15:14:42] {2391} INFO -  at 9.4s,\testimator rf's best error=0.2526,\tbest estimator rf's best error=0.2526\n",
            "[flaml.automl.logger: 09-26 15:14:42] {2218} INFO - iteration 11, current learner xgboost\n"
          ]
        },
        {
          "output_type": "stream",
          "name": "stderr",
          "text": [
            "`use_label_encoder` is deprecated in 1.7.0.\n"
          ]
        },
        {
          "output_type": "stream",
          "name": "stdout",
          "text": [
            "[flaml.automl.logger: 09-26 15:14:45] {2391} INFO -  at 11.9s,\testimator xgboost's best error=0.3019,\tbest estimator rf's best error=0.2526\n",
            "[flaml.automl.logger: 09-26 15:14:45] {2218} INFO - iteration 12, current learner rf\n",
            "[flaml.automl.logger: 09-26 15:14:46] {2391} INFO -  at 12.9s,\testimator rf's best error=0.2526,\tbest estimator rf's best error=0.2526\n",
            "[flaml.automl.logger: 09-26 15:14:46] {2218} INFO - iteration 13, current learner rf\n",
            "[flaml.automl.logger: 09-26 15:14:47] {2391} INFO -  at 14.2s,\testimator rf's best error=0.2526,\tbest estimator rf's best error=0.2526\n",
            "[flaml.automl.logger: 09-26 15:14:47] {2218} INFO - iteration 14, current learner rf\n",
            "[flaml.automl.logger: 09-26 15:14:49] {2391} INFO -  at 15.5s,\testimator rf's best error=0.2160,\tbest estimator rf's best error=0.2160\n",
            "[flaml.automl.logger: 09-26 15:14:49] {2218} INFO - iteration 15, current learner rf\n",
            "[flaml.automl.logger: 09-26 15:14:50] {2391} INFO -  at 16.7s,\testimator rf's best error=0.2160,\tbest estimator rf's best error=0.2160\n",
            "[flaml.automl.logger: 09-26 15:14:50] {2218} INFO - iteration 16, current learner rf\n",
            "[flaml.automl.logger: 09-26 15:14:52] {2391} INFO -  at 19.4s,\testimator rf's best error=0.1968,\tbest estimator rf's best error=0.1968\n",
            "[flaml.automl.logger: 09-26 15:14:52] {2218} INFO - iteration 17, current learner rf\n",
            "[flaml.automl.logger: 09-26 15:14:54] {2391} INFO -  at 21.0s,\testimator rf's best error=0.1914,\tbest estimator rf's best error=0.1914\n",
            "[flaml.automl.logger: 09-26 15:14:54] {2218} INFO - iteration 18, current learner rf\n",
            "[flaml.automl.logger: 09-26 15:15:00] {2391} INFO -  at 27.4s,\testimator rf's best error=0.1864,\tbest estimator rf's best error=0.1864\n",
            "[flaml.automl.logger: 09-26 15:15:00] {2218} INFO - iteration 19, current learner rf\n",
            "[flaml.automl.logger: 09-26 15:15:05] {2391} INFO -  at 32.3s,\testimator rf's best error=0.1453,\tbest estimator rf's best error=0.1453\n",
            "[flaml.automl.logger: 09-26 15:15:05] {2218} INFO - iteration 20, current learner rf\n",
            "[flaml.automl.logger: 09-26 15:15:08] {2391} INFO -  at 35.0s,\testimator rf's best error=0.1453,\tbest estimator rf's best error=0.1453\n",
            "[flaml.automl.logger: 09-26 15:15:08] {2218} INFO - iteration 21, current learner rf\n",
            "[flaml.automl.logger: 09-26 15:15:10] {2391} INFO -  at 37.0s,\testimator rf's best error=0.1453,\tbest estimator rf's best error=0.1453\n",
            "[flaml.automl.logger: 09-26 15:15:10] {2218} INFO - iteration 22, current learner rf\n",
            "[flaml.automl.logger: 09-26 15:15:21] {2391} INFO -  at 48.4s,\testimator rf's best error=0.1453,\tbest estimator rf's best error=0.1453\n",
            "[flaml.automl.logger: 09-26 15:15:21] {2218} INFO - iteration 23, current learner rf\n",
            "[flaml.automl.logger: 09-26 15:15:32] {2391} INFO -  at 58.9s,\testimator rf's best error=0.1453,\tbest estimator rf's best error=0.1453\n",
            "[flaml.automl.logger: 09-26 15:15:37] {2627} INFO - retrain rf for 5.3s\n",
            "[flaml.automl.logger: 09-26 15:15:37] {2630} INFO - retrained model: RandomForestClassifier(criterion='entropy', max_features=0.05156540858452916,\n",
            "                       max_leaf_nodes=138, n_estimators=23, n_jobs=-1,\n",
            "                       random_state=12032022)\n",
            "[flaml.automl.logger: 09-26 15:15:37] {1930} INFO - fit succeeded\n",
            "[flaml.automl.logger: 09-26 15:15:37] {1931} INFO - Time taken to find the best model: 32.26311802864075\n",
            "[flaml.automl.logger: 09-26 15:15:49] {1679} INFO - task = classification\n",
            "[flaml.automl.logger: 09-26 15:15:49] {1690} INFO - Evaluation method: holdout\n",
            "[flaml.automl.logger: 09-26 15:15:49] {1788} INFO - Minimizing error metric: 1-roc_auc\n",
            "[flaml.automl.logger: 09-26 15:15:49] {1900} INFO - List of ML learners in AutoML Run: ['rf', 'lgbm', 'xgboost']\n",
            "[flaml.automl.logger: 09-26 15:15:49] {2218} INFO - iteration 0, current learner rf\n",
            "[flaml.automl.logger: 09-26 15:15:49] {2344} INFO - Estimated sufficient time budget=2274s. Estimated necessary time budget=2s.\n",
            "[flaml.automl.logger: 09-26 15:15:49] {2391} INFO -  at 0.3s,\testimator rf's best error=0.3193,\tbest estimator rf's best error=0.3193\n",
            "[flaml.automl.logger: 09-26 15:15:49] {2218} INFO - iteration 1, current learner lgbm\n",
            "[flaml.automl.logger: 09-26 15:15:50] {2391} INFO -  at 1.6s,\testimator lgbm's best error=0.3022,\tbest estimator lgbm's best error=0.3022\n",
            "[flaml.automl.logger: 09-26 15:15:50] {2218} INFO - iteration 2, current learner xgboost\n"
          ]
        },
        {
          "output_type": "stream",
          "name": "stderr",
          "text": [
            "`use_label_encoder` is deprecated in 1.7.0.\n"
          ]
        },
        {
          "output_type": "stream",
          "name": "stdout",
          "text": [
            "[flaml.automl.logger: 09-26 15:15:51] {2391} INFO -  at 2.7s,\testimator xgboost's best error=0.3108,\tbest estimator lgbm's best error=0.3022\n",
            "[flaml.automl.logger: 09-26 15:15:51] {2218} INFO - iteration 3, current learner rf\n",
            "[flaml.automl.logger: 09-26 15:15:52] {2391} INFO -  at 2.9s,\testimator rf's best error=0.3193,\tbest estimator lgbm's best error=0.3022\n",
            "[flaml.automl.logger: 09-26 15:15:52] {2218} INFO - iteration 4, current learner rf\n",
            "[flaml.automl.logger: 09-26 15:15:52] {2391} INFO -  at 3.2s,\testimator rf's best error=0.3193,\tbest estimator lgbm's best error=0.3022\n",
            "[flaml.automl.logger: 09-26 15:15:52] {2218} INFO - iteration 5, current learner rf\n",
            "[flaml.automl.logger: 09-26 15:15:52] {2391} INFO -  at 3.6s,\testimator rf's best error=0.3096,\tbest estimator lgbm's best error=0.3022\n",
            "[flaml.automl.logger: 09-26 15:15:52] {2218} INFO - iteration 6, current learner rf\n",
            "[flaml.automl.logger: 09-26 15:15:53] {2391} INFO -  at 3.9s,\testimator rf's best error=0.3096,\tbest estimator lgbm's best error=0.3022\n",
            "[flaml.automl.logger: 09-26 15:15:53] {2218} INFO - iteration 7, current learner rf\n",
            "[flaml.automl.logger: 09-26 15:15:53] {2391} INFO -  at 4.5s,\testimator rf's best error=0.3096,\tbest estimator lgbm's best error=0.3022\n",
            "[flaml.automl.logger: 09-26 15:15:53] {2218} INFO - iteration 8, current learner rf\n",
            "[flaml.automl.logger: 09-26 15:15:54] {2391} INFO -  at 4.8s,\testimator rf's best error=0.3089,\tbest estimator lgbm's best error=0.3022\n",
            "[flaml.automl.logger: 09-26 15:15:54] {2218} INFO - iteration 9, current learner lgbm\n",
            "[flaml.automl.logger: 09-26 15:15:55] {2391} INFO -  at 6.3s,\testimator lgbm's best error=0.3022,\tbest estimator lgbm's best error=0.3022\n",
            "[flaml.automl.logger: 09-26 15:15:55] {2218} INFO - iteration 10, current learner lgbm\n",
            "[flaml.automl.logger: 09-26 15:15:57] {2391} INFO -  at 7.9s,\testimator lgbm's best error=0.2998,\tbest estimator lgbm's best error=0.2998\n",
            "[flaml.automl.logger: 09-26 15:15:57] {2218} INFO - iteration 11, current learner xgboost\n"
          ]
        },
        {
          "output_type": "stream",
          "name": "stderr",
          "text": [
            "`use_label_encoder` is deprecated in 1.7.0.\n"
          ]
        },
        {
          "output_type": "stream",
          "name": "stdout",
          "text": [
            "[flaml.automl.logger: 09-26 15:15:59] {2391} INFO -  at 10.7s,\testimator xgboost's best error=0.3108,\tbest estimator lgbm's best error=0.2998\n",
            "[flaml.automl.logger: 09-26 15:15:59] {2218} INFO - iteration 12, current learner xgboost\n"
          ]
        },
        {
          "output_type": "stream",
          "name": "stderr",
          "text": [
            "`use_label_encoder` is deprecated in 1.7.0.\n"
          ]
        },
        {
          "output_type": "stream",
          "name": "stdout",
          "text": [
            "[flaml.automl.logger: 09-26 15:16:01] {2391} INFO -  at 12.1s,\testimator xgboost's best error=0.2961,\tbest estimator xgboost's best error=0.2961\n",
            "[flaml.automl.logger: 09-26 15:16:01] {2218} INFO - iteration 13, current learner xgboost\n"
          ]
        },
        {
          "output_type": "stream",
          "name": "stderr",
          "text": [
            "`use_label_encoder` is deprecated in 1.7.0.\n"
          ]
        },
        {
          "output_type": "stream",
          "name": "stdout",
          "text": [
            "[flaml.automl.logger: 09-26 15:16:02] {2391} INFO -  at 13.1s,\testimator xgboost's best error=0.2580,\tbest estimator xgboost's best error=0.2580\n",
            "[flaml.automl.logger: 09-26 15:16:02] {2218} INFO - iteration 14, current learner xgboost\n"
          ]
        },
        {
          "output_type": "stream",
          "name": "stderr",
          "text": [
            "`use_label_encoder` is deprecated in 1.7.0.\n"
          ]
        },
        {
          "output_type": "stream",
          "name": "stdout",
          "text": [
            "[flaml.automl.logger: 09-26 15:16:03] {2391} INFO -  at 14.3s,\testimator xgboost's best error=0.2580,\tbest estimator xgboost's best error=0.2580\n",
            "[flaml.automl.logger: 09-26 15:16:03] {2218} INFO - iteration 15, current learner xgboost\n"
          ]
        },
        {
          "output_type": "stream",
          "name": "stderr",
          "text": [
            "`use_label_encoder` is deprecated in 1.7.0.\n"
          ]
        },
        {
          "output_type": "stream",
          "name": "stdout",
          "text": [
            "[flaml.automl.logger: 09-26 15:16:04] {2391} INFO -  at 15.3s,\testimator xgboost's best error=0.2580,\tbest estimator xgboost's best error=0.2580\n",
            "[flaml.automl.logger: 09-26 15:16:04] {2218} INFO - iteration 16, current learner xgboost\n"
          ]
        },
        {
          "output_type": "stream",
          "name": "stderr",
          "text": [
            "`use_label_encoder` is deprecated in 1.7.0.\n"
          ]
        },
        {
          "output_type": "stream",
          "name": "stdout",
          "text": [
            "[flaml.automl.logger: 09-26 15:16:05] {2391} INFO -  at 16.7s,\testimator xgboost's best error=0.2439,\tbest estimator xgboost's best error=0.2439\n",
            "[flaml.automl.logger: 09-26 15:16:05] {2218} INFO - iteration 17, current learner lgbm\n",
            "[flaml.automl.logger: 09-26 15:16:07] {2391} INFO -  at 18.3s,\testimator lgbm's best error=0.2445,\tbest estimator xgboost's best error=0.2439\n",
            "[flaml.automl.logger: 09-26 15:16:07] {2218} INFO - iteration 18, current learner lgbm\n",
            "[flaml.automl.logger: 09-26 15:16:08] {2391} INFO -  at 19.4s,\testimator lgbm's best error=0.2445,\tbest estimator xgboost's best error=0.2439\n",
            "[flaml.automl.logger: 09-26 15:16:08] {2218} INFO - iteration 19, current learner lgbm\n",
            "[flaml.automl.logger: 09-26 15:16:10] {2391} INFO -  at 20.9s,\testimator lgbm's best error=0.2445,\tbest estimator xgboost's best error=0.2439\n",
            "[flaml.automl.logger: 09-26 15:16:10] {2218} INFO - iteration 20, current learner lgbm\n",
            "[flaml.automl.logger: 09-26 15:16:15] {2391} INFO -  at 25.9s,\testimator lgbm's best error=0.2445,\tbest estimator xgboost's best error=0.2439\n",
            "[flaml.automl.logger: 09-26 15:16:15] {2218} INFO - iteration 21, current learner lgbm\n",
            "[flaml.automl.logger: 09-26 15:16:16] {2391} INFO -  at 27.4s,\testimator lgbm's best error=0.2445,\tbest estimator xgboost's best error=0.2439\n",
            "[flaml.automl.logger: 09-26 15:16:16] {2218} INFO - iteration 22, current learner lgbm\n",
            "[flaml.automl.logger: 09-26 15:16:19] {2391} INFO -  at 30.5s,\testimator lgbm's best error=0.2139,\tbest estimator lgbm's best error=0.2139\n",
            "[flaml.automl.logger: 09-26 15:16:19] {2218} INFO - iteration 23, current learner xgboost\n"
          ]
        },
        {
          "output_type": "stream",
          "name": "stderr",
          "text": [
            "`use_label_encoder` is deprecated in 1.7.0.\n"
          ]
        },
        {
          "output_type": "stream",
          "name": "stdout",
          "text": [
            "[flaml.automl.logger: 09-26 15:16:21] {2391} INFO -  at 32.0s,\testimator xgboost's best error=0.2439,\tbest estimator lgbm's best error=0.2139\n",
            "[flaml.automl.logger: 09-26 15:16:21] {2218} INFO - iteration 24, current learner xgboost\n"
          ]
        },
        {
          "output_type": "stream",
          "name": "stderr",
          "text": [
            "`use_label_encoder` is deprecated in 1.7.0.\n"
          ]
        },
        {
          "output_type": "stream",
          "name": "stdout",
          "text": [
            "[flaml.automl.logger: 09-26 15:16:22] {2391} INFO -  at 33.2s,\testimator xgboost's best error=0.2439,\tbest estimator lgbm's best error=0.2139\n",
            "[flaml.automl.logger: 09-26 15:16:22] {2218} INFO - iteration 25, current learner lgbm\n",
            "[flaml.automl.logger: 09-26 15:16:24] {2391} INFO -  at 35.2s,\testimator lgbm's best error=0.2139,\tbest estimator lgbm's best error=0.2139\n",
            "[flaml.automl.logger: 09-26 15:16:24] {2218} INFO - iteration 26, current learner xgboost\n"
          ]
        },
        {
          "output_type": "stream",
          "name": "stderr",
          "text": [
            "`use_label_encoder` is deprecated in 1.7.0.\n"
          ]
        },
        {
          "output_type": "stream",
          "name": "stdout",
          "text": [
            "[flaml.automl.logger: 09-26 15:16:29] {2391} INFO -  at 40.0s,\testimator xgboost's best error=0.2062,\tbest estimator xgboost's best error=0.2062\n",
            "[flaml.automl.logger: 09-26 15:16:29] {2218} INFO - iteration 27, current learner xgboost\n"
          ]
        },
        {
          "output_type": "stream",
          "name": "stderr",
          "text": [
            "`use_label_encoder` is deprecated in 1.7.0.\n"
          ]
        },
        {
          "output_type": "stream",
          "name": "stdout",
          "text": [
            "[flaml.automl.logger: 09-26 15:16:30] {2391} INFO -  at 41.3s,\testimator xgboost's best error=0.2062,\tbest estimator xgboost's best error=0.2062\n",
            "[flaml.automl.logger: 09-26 15:16:30] {2218} INFO - iteration 28, current learner xgboost\n"
          ]
        },
        {
          "output_type": "stream",
          "name": "stderr",
          "text": [
            "`use_label_encoder` is deprecated in 1.7.0.\n"
          ]
        },
        {
          "output_type": "stream",
          "name": "stdout",
          "text": [
            "[flaml.automl.logger: 09-26 15:16:31] {2391} INFO -  at 42.7s,\testimator xgboost's best error=0.2062,\tbest estimator xgboost's best error=0.2062\n",
            "[flaml.automl.logger: 09-26 15:16:31] {2218} INFO - iteration 29, current learner lgbm\n",
            "[flaml.automl.logger: 09-26 15:16:47] {2391} INFO -  at 58.5s,\testimator lgbm's best error=0.1820,\tbest estimator lgbm's best error=0.1820\n",
            "[flaml.automl.logger: 09-26 15:16:47] {2218} INFO - iteration 30, current learner rf\n",
            "[flaml.automl.logger: 09-26 15:16:48] {2391} INFO -  at 59.1s,\testimator rf's best error=0.3000,\tbest estimator lgbm's best error=0.1820\n",
            "[flaml.automl.logger: 09-26 15:16:48] {2218} INFO - iteration 31, current learner rf\n",
            "[flaml.automl.logger: 09-26 15:16:48] {2391} INFO -  at 59.3s,\testimator rf's best error=0.3000,\tbest estimator lgbm's best error=0.1820\n",
            "[flaml.automl.logger: 09-26 15:16:48] {2218} INFO - iteration 32, current learner rf\n",
            "[flaml.automl.logger: 09-26 15:16:49] {2391} INFO -  at 60.0s,\testimator rf's best error=0.3000,\tbest estimator lgbm's best error=0.1820\n",
            "[flaml.automl.logger: 09-26 15:17:13] {2627} INFO - retrain lgbm for 24.1s\n",
            "[flaml.automl.logger: 09-26 15:17:13] {2630} INFO - retrained model: LGBMClassifier(colsample_bytree=0.763007791741338,\n",
            "               learning_rate=0.16645809713264254, max_bin=1023,\n",
            "               min_child_samples=6, n_estimators=1, n_jobs=-1, num_leaves=14,\n",
            "               reg_alpha=0.0009765625, reg_lambda=0.10626868868028042,\n",
            "               verbose=-1)\n",
            "[flaml.automl.logger: 09-26 15:17:13] {1930} INFO - fit succeeded\n",
            "[flaml.automl.logger: 09-26 15:17:13] {1931} INFO - Time taken to find the best model: 58.462645292282104\n",
            "[flaml.automl.logger: 09-26 15:17:20] {1679} INFO - task = classification\n",
            "[flaml.automl.logger: 09-26 15:17:20] {1690} INFO - Evaluation method: holdout\n",
            "[flaml.automl.logger: 09-26 15:17:20] {1788} INFO - Minimizing error metric: 1-roc_auc\n",
            "[flaml.automl.logger: 09-26 15:17:20] {1900} INFO - List of ML learners in AutoML Run: ['rf', 'lgbm', 'xgboost']\n",
            "[flaml.automl.logger: 09-26 15:17:20] {2218} INFO - iteration 0, current learner rf\n",
            "[flaml.automl.logger: 09-26 15:17:20] {2344} INFO - Estimated sufficient time budget=3522s. Estimated necessary time budget=4s.\n",
            "[flaml.automl.logger: 09-26 15:17:20] {2391} INFO -  at 0.4s,\testimator rf's best error=0.4010,\tbest estimator rf's best error=0.4010\n",
            "[flaml.automl.logger: 09-26 15:17:20] {2218} INFO - iteration 1, current learner lgbm\n",
            "[flaml.automl.logger: 09-26 15:17:23] {2391} INFO -  at 3.4s,\testimator lgbm's best error=0.3571,\tbest estimator lgbm's best error=0.3571\n",
            "[flaml.automl.logger: 09-26 15:17:23] {2218} INFO - iteration 2, current learner xgboost\n"
          ]
        },
        {
          "output_type": "stream",
          "name": "stderr",
          "text": [
            "`use_label_encoder` is deprecated in 1.7.0.\n"
          ]
        },
        {
          "output_type": "stream",
          "name": "stdout",
          "text": [
            "[flaml.automl.logger: 09-26 15:17:25] {2391} INFO -  at 5.0s,\testimator xgboost's best error=0.3503,\tbest estimator xgboost's best error=0.3503\n",
            "[flaml.automl.logger: 09-26 15:17:25] {2218} INFO - iteration 3, current learner rf\n",
            "[flaml.automl.logger: 09-26 15:17:25] {2391} INFO -  at 5.2s,\testimator rf's best error=0.3757,\tbest estimator xgboost's best error=0.3503\n",
            "[flaml.automl.logger: 09-26 15:17:25] {2218} INFO - iteration 4, current learner lgbm\n",
            "[flaml.automl.logger: 09-26 15:17:26] {2391} INFO -  at 6.5s,\testimator lgbm's best error=0.3530,\tbest estimator xgboost's best error=0.3503\n",
            "[flaml.automl.logger: 09-26 15:17:26] {2218} INFO - iteration 5, current learner rf\n",
            "[flaml.automl.logger: 09-26 15:17:26] {2391} INFO -  at 6.7s,\testimator rf's best error=0.3517,\tbest estimator xgboost's best error=0.3503\n",
            "[flaml.automl.logger: 09-26 15:17:26] {2218} INFO - iteration 6, current learner rf\n",
            "[flaml.automl.logger: 09-26 15:17:27] {2391} INFO -  at 7.2s,\testimator rf's best error=0.3517,\tbest estimator xgboost's best error=0.3503\n",
            "[flaml.automl.logger: 09-26 15:17:27] {2218} INFO - iteration 7, current learner rf\n",
            "[flaml.automl.logger: 09-26 15:17:27] {2391} INFO -  at 7.6s,\testimator rf's best error=0.3517,\tbest estimator xgboost's best error=0.3503\n",
            "[flaml.automl.logger: 09-26 15:17:27] {2218} INFO - iteration 8, current learner rf\n",
            "[flaml.automl.logger: 09-26 15:17:28] {2391} INFO -  at 8.0s,\testimator rf's best error=0.3216,\tbest estimator rf's best error=0.3216\n",
            "[flaml.automl.logger: 09-26 15:17:28] {2218} INFO - iteration 9, current learner rf\n",
            "[flaml.automl.logger: 09-26 15:17:28] {2391} INFO -  at 8.3s,\testimator rf's best error=0.3207,\tbest estimator rf's best error=0.3207\n",
            "[flaml.automl.logger: 09-26 15:17:28] {2218} INFO - iteration 10, current learner rf\n",
            "[flaml.automl.logger: 09-26 15:17:29] {2391} INFO -  at 8.9s,\testimator rf's best error=0.3092,\tbest estimator rf's best error=0.3092\n",
            "[flaml.automl.logger: 09-26 15:17:29] {2218} INFO - iteration 11, current learner rf\n",
            "[flaml.automl.logger: 09-26 15:17:29] {2391} INFO -  at 9.2s,\testimator rf's best error=0.3092,\tbest estimator rf's best error=0.3092\n",
            "[flaml.automl.logger: 09-26 15:17:29] {2218} INFO - iteration 12, current learner rf\n",
            "[flaml.automl.logger: 09-26 15:17:29] {2391} INFO -  at 9.8s,\testimator rf's best error=0.3092,\tbest estimator rf's best error=0.3092\n",
            "[flaml.automl.logger: 09-26 15:17:29] {2218} INFO - iteration 13, current learner rf\n",
            "[flaml.automl.logger: 09-26 15:17:31] {2391} INFO -  at 11.0s,\testimator rf's best error=0.2514,\tbest estimator rf's best error=0.2514\n",
            "[flaml.automl.logger: 09-26 15:17:31] {2218} INFO - iteration 14, current learner xgboost\n"
          ]
        },
        {
          "output_type": "stream",
          "name": "stderr",
          "text": [
            "`use_label_encoder` is deprecated in 1.7.0.\n"
          ]
        },
        {
          "output_type": "stream",
          "name": "stdout",
          "text": [
            "[flaml.automl.logger: 09-26 15:17:32] {2391} INFO -  at 12.0s,\testimator xgboost's best error=0.3503,\tbest estimator rf's best error=0.2514\n",
            "[flaml.automl.logger: 09-26 15:17:32] {2218} INFO - iteration 15, current learner rf\n",
            "[flaml.automl.logger: 09-26 15:17:32] {2391} INFO -  at 12.5s,\testimator rf's best error=0.2514,\tbest estimator rf's best error=0.2514\n",
            "[flaml.automl.logger: 09-26 15:17:32] {2218} INFO - iteration 16, current learner xgboost\n"
          ]
        },
        {
          "output_type": "stream",
          "name": "stderr",
          "text": [
            "`use_label_encoder` is deprecated in 1.7.0.\n"
          ]
        },
        {
          "output_type": "stream",
          "name": "stdout",
          "text": [
            "[flaml.automl.logger: 09-26 15:17:33] {2391} INFO -  at 13.5s,\testimator xgboost's best error=0.3442,\tbest estimator rf's best error=0.2514\n",
            "[flaml.automl.logger: 09-26 15:17:33] {2218} INFO - iteration 17, current learner rf\n",
            "[flaml.automl.logger: 09-26 15:17:36] {2391} INFO -  at 16.7s,\testimator rf's best error=0.2104,\tbest estimator rf's best error=0.2104\n",
            "[flaml.automl.logger: 09-26 15:17:36] {2218} INFO - iteration 18, current learner rf\n",
            "[flaml.automl.logger: 09-26 15:17:39] {2391} INFO -  at 19.4s,\testimator rf's best error=0.2104,\tbest estimator rf's best error=0.2104\n",
            "[flaml.automl.logger: 09-26 15:17:39] {2218} INFO - iteration 19, current learner rf\n",
            "[flaml.automl.logger: 09-26 15:17:42] {2391} INFO -  at 22.2s,\testimator rf's best error=0.2104,\tbest estimator rf's best error=0.2104\n",
            "[flaml.automl.logger: 09-26 15:17:42] {2218} INFO - iteration 20, current learner rf\n",
            "[flaml.automl.logger: 09-26 15:17:44] {2391} INFO -  at 24.8s,\testimator rf's best error=0.2050,\tbest estimator rf's best error=0.2050\n",
            "[flaml.automl.logger: 09-26 15:17:44] {2218} INFO - iteration 21, current learner rf\n",
            "[flaml.automl.logger: 09-26 15:17:46] {2391} INFO -  at 26.2s,\testimator rf's best error=0.2050,\tbest estimator rf's best error=0.2050\n",
            "[flaml.automl.logger: 09-26 15:17:46] {2218} INFO - iteration 22, current learner rf\n",
            "[flaml.automl.logger: 09-26 15:17:47] {2391} INFO -  at 27.5s,\testimator rf's best error=0.2050,\tbest estimator rf's best error=0.2050\n",
            "[flaml.automl.logger: 09-26 15:17:47] {2218} INFO - iteration 23, current learner rf\n",
            "[flaml.automl.logger: 09-26 15:17:53] {2391} INFO -  at 33.7s,\testimator rf's best error=0.2006,\tbest estimator rf's best error=0.2006\n",
            "[flaml.automl.logger: 09-26 15:17:53] {2218} INFO - iteration 24, current learner xgboost\n"
          ]
        },
        {
          "output_type": "stream",
          "name": "stderr",
          "text": [
            "`use_label_encoder` is deprecated in 1.7.0.\n"
          ]
        },
        {
          "output_type": "stream",
          "name": "stdout",
          "text": [
            "[flaml.automl.logger: 09-26 15:17:55] {2391} INFO -  at 35.1s,\testimator xgboost's best error=0.3013,\tbest estimator rf's best error=0.2006\n",
            "[flaml.automl.logger: 09-26 15:17:55] {2218} INFO - iteration 25, current learner rf\n",
            "[flaml.automl.logger: 09-26 15:18:03] {2391} INFO -  at 43.6s,\testimator rf's best error=0.1998,\tbest estimator rf's best error=0.1998\n",
            "[flaml.automl.logger: 09-26 15:18:03] {2218} INFO - iteration 26, current learner xgboost\n"
          ]
        },
        {
          "output_type": "stream",
          "name": "stderr",
          "text": [
            "`use_label_encoder` is deprecated in 1.7.0.\n"
          ]
        },
        {
          "output_type": "stream",
          "name": "stdout",
          "text": [
            "[flaml.automl.logger: 09-26 15:18:06] {2391} INFO -  at 46.0s,\testimator xgboost's best error=0.3013,\tbest estimator rf's best error=0.1998\n",
            "[flaml.automl.logger: 09-26 15:18:06] {2218} INFO - iteration 27, current learner xgboost\n"
          ]
        },
        {
          "output_type": "stream",
          "name": "stderr",
          "text": [
            "`use_label_encoder` is deprecated in 1.7.0.\n"
          ]
        },
        {
          "output_type": "stream",
          "name": "stdout",
          "text": [
            "[flaml.automl.logger: 09-26 15:18:08] {2391} INFO -  at 48.2s,\testimator xgboost's best error=0.3013,\tbest estimator rf's best error=0.1998\n",
            "[flaml.automl.logger: 09-26 15:18:08] {2218} INFO - iteration 28, current learner xgboost\n"
          ]
        },
        {
          "output_type": "stream",
          "name": "stderr",
          "text": [
            "`use_label_encoder` is deprecated in 1.7.0.\n"
          ]
        },
        {
          "output_type": "stream",
          "name": "stdout",
          "text": [
            "[flaml.automl.logger: 09-26 15:18:10] {2391} INFO -  at 49.9s,\testimator xgboost's best error=0.2698,\tbest estimator rf's best error=0.1998\n",
            "[flaml.automl.logger: 09-26 15:18:10] {2218} INFO - iteration 29, current learner rf\n",
            "[flaml.automl.logger: 09-26 15:18:16] {2391} INFO -  at 56.2s,\testimator rf's best error=0.1922,\tbest estimator rf's best error=0.1922\n",
            "[flaml.automl.logger: 09-26 15:18:16] {2218} INFO - iteration 30, current learner lgbm\n",
            "[flaml.automl.logger: 09-26 15:18:17] {2391} INFO -  at 57.4s,\testimator lgbm's best error=0.3530,\tbest estimator rf's best error=0.1922\n",
            "[flaml.automl.logger: 09-26 15:18:17] {2218} INFO - iteration 31, current learner xgboost\n"
          ]
        },
        {
          "output_type": "stream",
          "name": "stderr",
          "text": [
            "`use_label_encoder` is deprecated in 1.7.0.\n"
          ]
        },
        {
          "output_type": "stream",
          "name": "stdout",
          "text": [
            "[flaml.automl.logger: 09-26 15:18:19] {2391} INFO -  at 58.9s,\testimator xgboost's best error=0.2698,\tbest estimator rf's best error=0.1922\n",
            "[flaml.automl.logger: 09-26 15:18:28] {2627} INFO - retrain rf for 9.5s\n",
            "[flaml.automl.logger: 09-26 15:18:28] {2630} INFO - retrained model: RandomForestClassifier(criterion='entropy', max_features=0.08239152143485592,\n",
            "                       max_leaf_nodes=78, n_estimators=21, n_jobs=-1,\n",
            "                       random_state=12032022)\n",
            "[flaml.automl.logger: 09-26 15:18:28] {1930} INFO - fit succeeded\n",
            "[flaml.automl.logger: 09-26 15:18:28] {1931} INFO - Time taken to find the best model: 56.23362922668457\n",
            "[flaml.automl.logger: 09-26 15:18:41] {1679} INFO - task = classification\n",
            "[flaml.automl.logger: 09-26 15:18:41] {1690} INFO - Evaluation method: holdout\n",
            "[flaml.automl.logger: 09-26 15:18:41] {1788} INFO - Minimizing error metric: 1-roc_auc\n",
            "[flaml.automl.logger: 09-26 15:18:41] {1900} INFO - List of ML learners in AutoML Run: ['rf', 'lgbm', 'xgboost']\n",
            "[flaml.automl.logger: 09-26 15:18:41] {2218} INFO - iteration 0, current learner rf\n",
            "[flaml.automl.logger: 09-26 15:18:41] {2344} INFO - Estimated sufficient time budget=2378s. Estimated necessary time budget=2s.\n",
            "[flaml.automl.logger: 09-26 15:18:41] {2391} INFO -  at 0.3s,\testimator rf's best error=0.3163,\tbest estimator rf's best error=0.3163\n",
            "[flaml.automl.logger: 09-26 15:18:41] {2218} INFO - iteration 1, current learner lgbm\n",
            "[flaml.automl.logger: 09-26 15:18:43] {2391} INFO -  at 1.5s,\testimator lgbm's best error=0.3260,\tbest estimator rf's best error=0.3163\n",
            "[flaml.automl.logger: 09-26 15:18:43] {2218} INFO - iteration 2, current learner xgboost\n"
          ]
        },
        {
          "output_type": "stream",
          "name": "stderr",
          "text": [
            "`use_label_encoder` is deprecated in 1.7.0.\n"
          ]
        },
        {
          "output_type": "stream",
          "name": "stdout",
          "text": [
            "[flaml.automl.logger: 09-26 15:18:44] {2391} INFO -  at 2.6s,\testimator xgboost's best error=0.3198,\tbest estimator rf's best error=0.3163\n",
            "[flaml.automl.logger: 09-26 15:18:44] {2218} INFO - iteration 3, current learner rf\n",
            "[flaml.automl.logger: 09-26 15:18:44] {2391} INFO -  at 2.8s,\testimator rf's best error=0.3163,\tbest estimator rf's best error=0.3163\n",
            "[flaml.automl.logger: 09-26 15:18:44] {2218} INFO - iteration 4, current learner lgbm\n",
            "[flaml.automl.logger: 09-26 15:18:45] {2391} INFO -  at 4.1s,\testimator lgbm's best error=0.3260,\tbest estimator rf's best error=0.3163\n",
            "[flaml.automl.logger: 09-26 15:18:45] {2218} INFO - iteration 5, current learner rf\n",
            "[flaml.automl.logger: 09-26 15:18:45] {2391} INFO -  at 4.4s,\testimator rf's best error=0.3163,\tbest estimator rf's best error=0.3163\n",
            "[flaml.automl.logger: 09-26 15:18:45] {2218} INFO - iteration 6, current learner rf\n",
            "[flaml.automl.logger: 09-26 15:18:46] {2391} INFO -  at 4.8s,\testimator rf's best error=0.3163,\tbest estimator rf's best error=0.3163\n",
            "[flaml.automl.logger: 09-26 15:18:46] {2218} INFO - iteration 7, current learner rf\n",
            "[flaml.automl.logger: 09-26 15:18:46] {2391} INFO -  at 5.3s,\testimator rf's best error=0.3163,\tbest estimator rf's best error=0.3163\n",
            "[flaml.automl.logger: 09-26 15:18:46] {2218} INFO - iteration 8, current learner rf\n",
            "[flaml.automl.logger: 09-26 15:18:47] {2391} INFO -  at 5.8s,\testimator rf's best error=0.3128,\tbest estimator rf's best error=0.3128\n",
            "[flaml.automl.logger: 09-26 15:18:47] {2218} INFO - iteration 9, current learner rf\n",
            "[flaml.automl.logger: 09-26 15:18:47] {2391} INFO -  at 6.0s,\testimator rf's best error=0.3128,\tbest estimator rf's best error=0.3128\n",
            "[flaml.automl.logger: 09-26 15:18:47] {2218} INFO - iteration 10, current learner lgbm\n",
            "[flaml.automl.logger: 09-26 15:18:48] {2391} INFO -  at 7.1s,\testimator lgbm's best error=0.3260,\tbest estimator rf's best error=0.3128\n",
            "[flaml.automl.logger: 09-26 15:18:48] {2218} INFO - iteration 11, current learner lgbm\n",
            "[flaml.automl.logger: 09-26 15:18:53] {2391} INFO -  at 11.8s,\testimator lgbm's best error=0.2882,\tbest estimator lgbm's best error=0.2882\n",
            "[flaml.automl.logger: 09-26 15:18:53] {2218} INFO - iteration 12, current learner xgboost\n"
          ]
        },
        {
          "output_type": "stream",
          "name": "stderr",
          "text": [
            "`use_label_encoder` is deprecated in 1.7.0.\n"
          ]
        },
        {
          "output_type": "stream",
          "name": "stdout",
          "text": [
            "[flaml.automl.logger: 09-26 15:18:54] {2391} INFO -  at 12.9s,\testimator xgboost's best error=0.3198,\tbest estimator lgbm's best error=0.2882\n",
            "[flaml.automl.logger: 09-26 15:18:54] {2218} INFO - iteration 13, current learner xgboost\n"
          ]
        },
        {
          "output_type": "stream",
          "name": "stderr",
          "text": [
            "`use_label_encoder` is deprecated in 1.7.0.\n"
          ]
        },
        {
          "output_type": "stream",
          "name": "stdout",
          "text": [
            "[flaml.automl.logger: 09-26 15:18:55] {2391} INFO -  at 14.0s,\testimator xgboost's best error=0.3116,\tbest estimator lgbm's best error=0.2882\n",
            "[flaml.automl.logger: 09-26 15:18:55] {2218} INFO - iteration 14, current learner xgboost\n"
          ]
        },
        {
          "output_type": "stream",
          "name": "stderr",
          "text": [
            "`use_label_encoder` is deprecated in 1.7.0.\n"
          ]
        },
        {
          "output_type": "stream",
          "name": "stdout",
          "text": [
            "[flaml.automl.logger: 09-26 15:18:56] {2391} INFO -  at 15.0s,\testimator xgboost's best error=0.3108,\tbest estimator lgbm's best error=0.2882\n",
            "[flaml.automl.logger: 09-26 15:18:56] {2218} INFO - iteration 15, current learner lgbm\n",
            "[flaml.automl.logger: 09-26 15:18:58] {2391} INFO -  at 16.7s,\testimator lgbm's best error=0.2553,\tbest estimator lgbm's best error=0.2553\n",
            "[flaml.automl.logger: 09-26 15:18:58] {2218} INFO - iteration 16, current learner lgbm\n",
            "[flaml.automl.logger: 09-26 15:19:00] {2391} INFO -  at 18.7s,\testimator lgbm's best error=0.2553,\tbest estimator lgbm's best error=0.2553\n",
            "[flaml.automl.logger: 09-26 15:19:00] {2218} INFO - iteration 17, current learner lgbm\n",
            "[flaml.automl.logger: 09-26 15:19:01] {2391} INFO -  at 20.1s,\testimator lgbm's best error=0.2553,\tbest estimator lgbm's best error=0.2553\n",
            "[flaml.automl.logger: 09-26 15:19:01] {2218} INFO - iteration 18, current learner lgbm\n",
            "[flaml.automl.logger: 09-26 15:19:07] {2391} INFO -  at 26.1s,\testimator lgbm's best error=0.2553,\tbest estimator lgbm's best error=0.2553\n",
            "[flaml.automl.logger: 09-26 15:19:07] {2218} INFO - iteration 19, current learner lgbm\n",
            "[flaml.automl.logger: 09-26 15:19:08] {2391} INFO -  at 27.4s,\testimator lgbm's best error=0.2553,\tbest estimator lgbm's best error=0.2553\n",
            "[flaml.automl.logger: 09-26 15:19:08] {2218} INFO - iteration 20, current learner lgbm\n",
            "[flaml.automl.logger: 09-26 15:19:14] {2391} INFO -  at 33.0s,\testimator lgbm's best error=0.2101,\tbest estimator lgbm's best error=0.2101\n",
            "[flaml.automl.logger: 09-26 15:19:14] {2218} INFO - iteration 21, current learner lgbm\n",
            "[flaml.automl.logger: 09-26 15:19:29] {2391} INFO -  at 48.1s,\testimator lgbm's best error=0.1623,\tbest estimator lgbm's best error=0.1623\n",
            "[flaml.automl.logger: 09-26 15:19:29] {2218} INFO - iteration 22, current learner rf\n",
            "[flaml.automl.logger: 09-26 15:19:30] {2391} INFO -  at 49.0s,\testimator rf's best error=0.2924,\tbest estimator lgbm's best error=0.1623\n",
            "[flaml.automl.logger: 09-26 15:19:30] {2218} INFO - iteration 23, current learner rf\n",
            "[flaml.automl.logger: 09-26 15:19:31] {2391} INFO -  at 49.6s,\testimator rf's best error=0.2924,\tbest estimator lgbm's best error=0.1623\n",
            "[flaml.automl.logger: 09-26 15:19:31] {2218} INFO - iteration 24, current learner xgboost\n"
          ]
        },
        {
          "output_type": "stream",
          "name": "stderr",
          "text": [
            "`use_label_encoder` is deprecated in 1.7.0.\n"
          ]
        },
        {
          "output_type": "stream",
          "name": "stdout",
          "text": [
            "[flaml.automl.logger: 09-26 15:19:34] {2391} INFO -  at 52.9s,\testimator xgboost's best error=0.2911,\tbest estimator lgbm's best error=0.1623\n",
            "[flaml.automl.logger: 09-26 15:19:34] {2218} INFO - iteration 25, current learner rf\n",
            "[flaml.automl.logger: 09-26 15:19:35] {2391} INFO -  at 54.3s,\testimator rf's best error=0.2924,\tbest estimator lgbm's best error=0.1623\n",
            "[flaml.automl.logger: 09-26 15:19:35] {2218} INFO - iteration 26, current learner xgboost\n"
          ]
        },
        {
          "output_type": "stream",
          "name": "stderr",
          "text": [
            "`use_label_encoder` is deprecated in 1.7.0.\n"
          ]
        },
        {
          "output_type": "stream",
          "name": "stdout",
          "text": [
            "[flaml.automl.logger: 09-26 15:19:37] {2391} INFO -  at 55.6s,\testimator xgboost's best error=0.2911,\tbest estimator lgbm's best error=0.1623\n",
            "[flaml.automl.logger: 09-26 15:19:37] {2218} INFO - iteration 27, current learner xgboost\n"
          ]
        },
        {
          "output_type": "stream",
          "name": "stderr",
          "text": [
            "`use_label_encoder` is deprecated in 1.7.0.\n"
          ]
        },
        {
          "output_type": "stream",
          "name": "stdout",
          "text": [
            "[flaml.automl.logger: 09-26 15:19:38] {2391} INFO -  at 57.4s,\testimator xgboost's best error=0.2533,\tbest estimator lgbm's best error=0.1623\n",
            "[flaml.automl.logger: 09-26 15:19:38] {2218} INFO - iteration 28, current learner xgboost\n"
          ]
        },
        {
          "output_type": "stream",
          "name": "stderr",
          "text": [
            "`use_label_encoder` is deprecated in 1.7.0.\n"
          ]
        },
        {
          "output_type": "stream",
          "name": "stdout",
          "text": [
            "[flaml.automl.logger: 09-26 15:19:40] {2391} INFO -  at 59.2s,\testimator xgboost's best error=0.2487,\tbest estimator lgbm's best error=0.1623\n",
            "[flaml.automl.logger: 09-26 15:19:56] {2627} INFO - retrain lgbm for 15.4s\n",
            "[flaml.automl.logger: 09-26 15:19:56] {2630} INFO - retrained model: LGBMClassifier(colsample_bytree=0.6707317427642994,\n",
            "               learning_rate=0.5126289195450011, max_bin=1023,\n",
            "               min_child_samples=7, n_estimators=1, n_jobs=-1, num_leaves=20,\n",
            "               reg_alpha=0.0009765625, reg_lambda=0.004594427837410769,\n",
            "               verbose=-1)\n",
            "[flaml.automl.logger: 09-26 15:19:56] {1930} INFO - fit succeeded\n",
            "[flaml.automl.logger: 09-26 15:19:56] {1931} INFO - Time taken to find the best model: 48.0607476234436\n"
          ]
        }
      ]
    },
    {
      "cell_type": "code",
      "source": [
        "from sklearn import metrics\n",
        "import matplotlib.pyplot as plt\n",
        "\n",
        "fig, ax = plt.subplots(1,1)\n",
        "\n",
        "aucs = []\n",
        "tprs = []\n",
        "mean_fpr = np.linspace(0,1,100)\n",
        "for i in range(5):\n",
        "    test = pd.read_csv(\"test_set_pred_eosce_{}.csv\".format(i))\n",
        "    fpr, tpr, _ = metrics.roc_curve(test[BIN],test[\"proba1\"])\n",
        "    roc_auc = metrics.auc(fpr, tpr)\n",
        "    interp_tpr = np.interp(mean_fpr, fpr, tpr)\n",
        "    interp_tpr[0] = 0.0\n",
        "    tprs.append(interp_tpr)\n",
        "    aucs.append(roc_auc)\n",
        "\n",
        "mean_tpr = np.mean(tprs, axis=0)\n",
        "mean_tpr[-1] = 1.0\n",
        "mean_auc = metrics.auc(mean_fpr, mean_tpr)\n",
        "std_auc = np.std(aucs)\n",
        "\n",
        "ax.plot(\n",
        "        mean_fpr,\n",
        "        mean_tpr,\n",
        "        color=\"blue\",\n",
        "        label=r\"AUC = %0.2f $\\pm$ %0.2f\" % (mean_auc, std_auc),\n",
        "    )\n",
        "ax.plot([0, 1], [0, 1], ls=\"--\")\n",
        "std_tpr = np.std(tprs, axis=0)\n",
        "tprs_upper = np.minimum(mean_tpr + std_tpr, 1)\n",
        "tprs_lower = np.maximum(mean_tpr - std_tpr, 0)\n",
        "ax.fill_between(\n",
        "    mean_fpr,\n",
        "    tprs_lower,\n",
        "    tprs_upper,\n",
        "    color=\"gray\",\n",
        "    alpha=0.6,\n",
        "    label=r\"$\\pm$ 1 std. dev.\",\n",
        "    )\n",
        "ax.set(\n",
        "        xlim=[-0.05, 1.05],\n",
        "        ylim=[-0.05, 1.05],\n",
        "        )\n",
        "ax.legend(loc=\"lower right\")\n",
        "ax.set_xlabel=\"1-Specificity (FPR)\",\n",
        "ax.set_ylabel=\"Sensitivity (TPR)\",\n",
        "plt.tight_layout()"
      ],
      "metadata": {
        "id": "Bg9HcGGb_6rA",
        "outputId": "d5b09910-a7e7-4b6d-952d-8e160fb734cb",
        "colab": {
          "base_uri": "https://localhost:8080/",
          "height": 487
        }
      },
      "execution_count": 95,
      "outputs": [
        {
          "output_type": "display_data",
          "data": {
            "text/plain": [
              "<Figure size 640x480 with 1 Axes>"
            ],
            "image/png": "[encoded data removed]"
          },
          "metadata": {}
        }
      ]
    },
    {
      "cell_type": "markdown",
      "source": [
        "## 9. Save the final model\n",
        "\n",
        "To ensure we use all possible data, at the end of the pipeline we will train the model with the whole dataset (train and test) and save it as the final model for deployment.\n",
        "\n",
        "We need to choose which descriptor and parameters will work better for our case and build the model accordingly. We obtain that from the best train-test experiment."
      ],
      "metadata": {
        "id": "Q7WSSnM0q7Jx"
      }
    },
    {
      "cell_type": "code",
      "source": [
        "# train the model with the full data\n",
        "\n",
        "# load the whole dataset\n",
        "\n",
        "df = pd.read_csv(filename)\n",
        "\n",
        "# binarize the activity if needed\n",
        "SMILES = \"SMILES\"\n",
        "EXP = \"pIC50\"\n",
        "BIN = \"bin\"\n",
        "\n",
        "direction = \"higher\"\n",
        "cutoff = 7\n",
        "\n",
        "if direction == \"lower\":\n",
        "    df[BIN] = [1 if x <= cutoff else 0 for x in df[EXP]]\n",
        "elif direction == \"higher\":\n",
        "    df[BIN] = [1 if x >= cutoff else 0 for x in df[EXP]]\n",
        "else:\n",
        "    print(\"no direction specified. Please select lower or higher direction for the activity cut-off\")\n",
        "\n",
        "# train the selected model\n",
        "import lazyqsar as lq\n",
        "smiles_train = df[SMILES]\n",
        "y_train = df[BIN]\n",
        "model = lq.MorganBinaryClassifier(time_budget_sec=60, estimator_list=[\"rf\", \"lgbm\", \"xgboost\"])\n",
        "model.fit(smiles_train, y_train)\n",
        "model.save(\"hdac1_model.joblib\")"
      ],
      "metadata": {
        "id": "TbdUVEkdq4_1",
        "outputId": "a480214b-67ca-4e81-d99e-79483d6d9ec9",
        "colab": {
          "base_uri": "https://localhost:8080/"
        }
      },
      "execution_count": 98,
      "outputs": [
        {
          "output_type": "stream",
          "name": "stdout",
          "text": [
            "[flaml.automl.logger: 09-26 15:20:57] {1679} INFO - task = classification\n",
            "[flaml.automl.logger: 09-26 15:20:57] {1690} INFO - Evaluation method: holdout\n",
            "[flaml.automl.logger: 09-26 15:20:58] {1788} INFO - Minimizing error metric: 1-roc_auc\n",
            "[flaml.automl.logger: 09-26 15:20:58] {1900} INFO - List of ML learners in AutoML Run: ['rf', 'lgbm', 'xgboost']\n",
            "[flaml.automl.logger: 09-26 15:20:58] {2218} INFO - iteration 0, current learner rf\n",
            "[flaml.automl.logger: 09-26 15:20:58] {2344} INFO - Estimated sufficient time budget=933s. Estimated necessary time budget=1s.\n",
            "[flaml.automl.logger: 09-26 15:20:58] {2391} INFO -  at 0.3s,\testimator rf's best error=0.3204,\tbest estimator rf's best error=0.3204\n",
            "[flaml.automl.logger: 09-26 15:20:58] {2218} INFO - iteration 1, current learner lgbm\n",
            "[flaml.automl.logger: 09-26 15:20:58] {2391} INFO -  at 0.8s,\testimator lgbm's best error=0.3234,\tbest estimator rf's best error=0.3204\n",
            "[flaml.automl.logger: 09-26 15:20:58] {2218} INFO - iteration 2, current learner xgboost\n"
          ]
        },
        {
          "output_type": "stream",
          "name": "stderr",
          "text": [
            "`use_label_encoder` is deprecated in 1.7.0.\n"
          ]
        },
        {
          "output_type": "stream",
          "name": "stdout",
          "text": [
            "[flaml.automl.logger: 09-26 15:20:59] {2391} INFO -  at 1.4s,\testimator xgboost's best error=0.3316,\tbest estimator rf's best error=0.3204\n",
            "[flaml.automl.logger: 09-26 15:20:59] {2218} INFO - iteration 3, current learner rf\n",
            "[flaml.automl.logger: 09-26 15:20:59] {2391} INFO -  at 1.5s,\testimator rf's best error=0.2760,\tbest estimator rf's best error=0.2760\n",
            "[flaml.automl.logger: 09-26 15:20:59] {2218} INFO - iteration 4, current learner lgbm\n",
            "[flaml.automl.logger: 09-26 15:20:59] {2391} INFO -  at 1.9s,\testimator lgbm's best error=0.3209,\tbest estimator rf's best error=0.2760\n",
            "[flaml.automl.logger: 09-26 15:20:59] {2218} INFO - iteration 5, current learner rf\n",
            "[flaml.automl.logger: 09-26 15:20:59] {2391} INFO -  at 2.0s,\testimator rf's best error=0.2760,\tbest estimator rf's best error=0.2760\n",
            "[flaml.automl.logger: 09-26 15:20:59] {2218} INFO - iteration 6, current learner rf\n",
            "[flaml.automl.logger: 09-26 15:21:00] {2391} INFO -  at 2.2s,\testimator rf's best error=0.2276,\tbest estimator rf's best error=0.2276\n",
            "[flaml.automl.logger: 09-26 15:21:00] {2218} INFO - iteration 7, current learner rf\n",
            "[flaml.automl.logger: 09-26 15:21:00] {2391} INFO -  at 2.4s,\testimator rf's best error=0.2276,\tbest estimator rf's best error=0.2276\n",
            "[flaml.automl.logger: 09-26 15:21:00] {2218} INFO - iteration 8, current learner rf\n",
            "[flaml.automl.logger: 09-26 15:21:00] {2391} INFO -  at 2.7s,\testimator rf's best error=0.2276,\tbest estimator rf's best error=0.2276\n",
            "[flaml.automl.logger: 09-26 15:21:00] {2218} INFO - iteration 9, current learner rf\n",
            "[flaml.automl.logger: 09-26 15:21:00] {2391} INFO -  at 2.8s,\testimator rf's best error=0.2276,\tbest estimator rf's best error=0.2276\n",
            "[flaml.automl.logger: 09-26 15:21:00] {2218} INFO - iteration 10, current learner rf\n",
            "[flaml.automl.logger: 09-26 15:21:01] {2391} INFO -  at 3.2s,\testimator rf's best error=0.1843,\tbest estimator rf's best error=0.1843\n",
            "[flaml.automl.logger: 09-26 15:21:01] {2218} INFO - iteration 11, current learner xgboost\n"
          ]
        },
        {
          "output_type": "stream",
          "name": "stderr",
          "text": [
            "`use_label_encoder` is deprecated in 1.7.0.\n"
          ]
        },
        {
          "output_type": "stream",
          "name": "stdout",
          "text": [
            "[flaml.automl.logger: 09-26 15:21:01] {2391} INFO -  at 3.9s,\testimator xgboost's best error=0.3316,\tbest estimator rf's best error=0.1843\n",
            "[flaml.automl.logger: 09-26 15:21:01] {2218} INFO - iteration 12, current learner xgboost\n"
          ]
        },
        {
          "output_type": "stream",
          "name": "stderr",
          "text": [
            "`use_label_encoder` is deprecated in 1.7.0.\n"
          ]
        },
        {
          "output_type": "stream",
          "name": "stdout",
          "text": [
            "[flaml.automl.logger: 09-26 15:21:02] {2391} INFO -  at 4.5s,\testimator xgboost's best error=0.2649,\tbest estimator rf's best error=0.1843\n",
            "[flaml.automl.logger: 09-26 15:21:02] {2218} INFO - iteration 13, current learner rf\n",
            "[flaml.automl.logger: 09-26 15:21:02] {2391} INFO -  at 4.7s,\testimator rf's best error=0.1843,\tbest estimator rf's best error=0.1843\n",
            "[flaml.automl.logger: 09-26 15:21:02] {2218} INFO - iteration 14, current learner rf\n",
            "[flaml.automl.logger: 09-26 15:21:03] {2391} INFO -  at 5.1s,\testimator rf's best error=0.1843,\tbest estimator rf's best error=0.1843\n",
            "[flaml.automl.logger: 09-26 15:21:03] {2218} INFO - iteration 15, current learner rf\n",
            "[flaml.automl.logger: 09-26 15:21:03] {2391} INFO -  at 5.6s,\testimator rf's best error=0.1291,\tbest estimator rf's best error=0.1291\n",
            "[flaml.automl.logger: 09-26 15:21:03] {2218} INFO - iteration 16, current learner xgboost\n"
          ]
        },
        {
          "output_type": "stream",
          "name": "stderr",
          "text": [
            "`use_label_encoder` is deprecated in 1.7.0.\n"
          ]
        },
        {
          "output_type": "stream",
          "name": "stdout",
          "text": [
            "[flaml.automl.logger: 09-26 15:21:04] {2391} INFO -  at 6.2s,\testimator xgboost's best error=0.2215,\tbest estimator rf's best error=0.1291\n",
            "[flaml.automl.logger: 09-26 15:21:04] {2218} INFO - iteration 17, current learner rf\n",
            "[flaml.automl.logger: 09-26 15:21:04] {2391} INFO -  at 6.6s,\testimator rf's best error=0.1291,\tbest estimator rf's best error=0.1291\n",
            "[flaml.automl.logger: 09-26 15:21:04] {2218} INFO - iteration 18, current learner rf\n",
            "[flaml.automl.logger: 09-26 15:21:05] {2391} INFO -  at 7.7s,\testimator rf's best error=0.1108,\tbest estimator rf's best error=0.1108\n",
            "[flaml.automl.logger: 09-26 15:21:05] {2218} INFO - iteration 19, current learner rf\n",
            "[flaml.automl.logger: 09-26 15:21:06] {2391} INFO -  at 8.3s,\testimator rf's best error=0.1072,\tbest estimator rf's best error=0.1072\n",
            "[flaml.automl.logger: 09-26 15:21:06] {2218} INFO - iteration 20, current learner rf\n",
            "[flaml.automl.logger: 09-26 15:21:07] {2391} INFO -  at 9.4s,\testimator rf's best error=0.1072,\tbest estimator rf's best error=0.1072\n",
            "[flaml.automl.logger: 09-26 15:21:07] {2218} INFO - iteration 21, current learner rf\n",
            "[flaml.automl.logger: 09-26 15:21:08] {2391} INFO -  at 10.4s,\testimator rf's best error=0.1020,\tbest estimator rf's best error=0.1020\n",
            "[flaml.automl.logger: 09-26 15:21:08] {2218} INFO - iteration 22, current learner rf\n",
            "[flaml.automl.logger: 09-26 15:21:09] {2391} INFO -  at 11.4s,\testimator rf's best error=0.0994,\tbest estimator rf's best error=0.0994\n",
            "[flaml.automl.logger: 09-26 15:21:09] {2218} INFO - iteration 23, current learner xgboost\n"
          ]
        },
        {
          "output_type": "stream",
          "name": "stderr",
          "text": [
            "`use_label_encoder` is deprecated in 1.7.0.\n"
          ]
        },
        {
          "output_type": "stream",
          "name": "stdout",
          "text": [
            "[flaml.automl.logger: 09-26 15:21:11] {2391} INFO -  at 13.2s,\testimator xgboost's best error=0.2167,\tbest estimator rf's best error=0.0994\n",
            "[flaml.automl.logger: 09-26 15:21:11] {2218} INFO - iteration 24, current learner rf\n",
            "[flaml.automl.logger: 09-26 15:21:11] {2391} INFO -  at 13.7s,\testimator rf's best error=0.0994,\tbest estimator rf's best error=0.0994\n",
            "[flaml.automl.logger: 09-26 15:21:11] {2218} INFO - iteration 25, current learner rf\n",
            "[flaml.automl.logger: 09-26 15:21:13] {2391} INFO -  at 15.2s,\testimator rf's best error=0.0926,\tbest estimator rf's best error=0.0926\n",
            "[flaml.automl.logger: 09-26 15:21:13] {2218} INFO - iteration 26, current learner rf\n",
            "[flaml.automl.logger: 09-26 15:21:15] {2391} INFO -  at 17.6s,\testimator rf's best error=0.0863,\tbest estimator rf's best error=0.0863\n",
            "[flaml.automl.logger: 09-26 15:21:15] {2218} INFO - iteration 27, current learner rf\n",
            "[flaml.automl.logger: 09-26 15:21:16] {2391} INFO -  at 18.8s,\testimator rf's best error=0.0863,\tbest estimator rf's best error=0.0863\n",
            "[flaml.automl.logger: 09-26 15:21:16] {2218} INFO - iteration 28, current learner rf\n",
            "[flaml.automl.logger: 09-26 15:21:19] {2391} INFO -  at 21.8s,\testimator rf's best error=0.0863,\tbest estimator rf's best error=0.0863\n",
            "[flaml.automl.logger: 09-26 15:21:19] {2218} INFO - iteration 29, current learner rf\n",
            "[flaml.automl.logger: 09-26 15:21:21] {2391} INFO -  at 24.0s,\testimator rf's best error=0.0863,\tbest estimator rf's best error=0.0863\n",
            "[flaml.automl.logger: 09-26 15:21:21] {2218} INFO - iteration 30, current learner rf\n",
            "[flaml.automl.logger: 09-26 15:21:27] {2391} INFO -  at 29.4s,\testimator rf's best error=0.0863,\tbest estimator rf's best error=0.0863\n",
            "[flaml.automl.logger: 09-26 15:21:27] {2218} INFO - iteration 31, current learner rf\n",
            "[flaml.automl.logger: 09-26 15:21:29] {2391} INFO -  at 31.4s,\testimator rf's best error=0.0863,\tbest estimator rf's best error=0.0863\n",
            "[flaml.automl.logger: 09-26 15:21:29] {2218} INFO - iteration 32, current learner lgbm\n",
            "[flaml.automl.logger: 09-26 15:21:29] {2391} INFO -  at 31.8s,\testimator lgbm's best error=0.3209,\tbest estimator rf's best error=0.0863\n",
            "[flaml.automl.logger: 09-26 15:21:29] {2218} INFO - iteration 33, current learner rf\n",
            "[flaml.automl.logger: 09-26 15:21:31] {2391} INFO -  at 33.6s,\testimator rf's best error=0.0863,\tbest estimator rf's best error=0.0863\n",
            "[flaml.automl.logger: 09-26 15:21:31] {2218} INFO - iteration 34, current learner rf\n",
            "[flaml.automl.logger: 09-26 15:21:35] {2391} INFO -  at 37.2s,\testimator rf's best error=0.0863,\tbest estimator rf's best error=0.0863\n",
            "[flaml.automl.logger: 09-26 15:21:35] {2218} INFO - iteration 35, current learner xgboost\n"
          ]
        },
        {
          "output_type": "stream",
          "name": "stderr",
          "text": [
            "`use_label_encoder` is deprecated in 1.7.0.\n"
          ]
        },
        {
          "output_type": "stream",
          "name": "stdout",
          "text": [
            "[flaml.automl.logger: 09-26 15:21:35] {2391} INFO -  at 37.8s,\testimator xgboost's best error=0.2167,\tbest estimator rf's best error=0.0863\n",
            "[flaml.automl.logger: 09-26 15:21:35] {2218} INFO - iteration 36, current learner rf\n",
            "[flaml.automl.logger: 09-26 15:21:42] {2391} INFO -  at 44.1s,\testimator rf's best error=0.0863,\tbest estimator rf's best error=0.0863\n",
            "[flaml.automl.logger: 09-26 15:21:42] {2218} INFO - iteration 37, current learner rf\n",
            "[flaml.automl.logger: 09-26 15:21:45] {2391} INFO -  at 47.5s,\testimator rf's best error=0.0863,\tbest estimator rf's best error=0.0863\n",
            "[flaml.automl.logger: 09-26 15:21:45] {2218} INFO - iteration 38, current learner rf\n",
            "[flaml.automl.logger: 09-26 15:21:49] {2391} INFO -  at 51.4s,\testimator rf's best error=0.0863,\tbest estimator rf's best error=0.0863\n",
            "[flaml.automl.logger: 09-26 15:21:49] {2218} INFO - iteration 39, current learner rf\n",
            "[flaml.automl.logger: 09-26 15:21:51] {2391} INFO -  at 53.3s,\testimator rf's best error=0.0863,\tbest estimator rf's best error=0.0863\n",
            "[flaml.automl.logger: 09-26 15:21:51] {2218} INFO - iteration 40, current learner xgboost\n"
          ]
        },
        {
          "output_type": "stream",
          "name": "stderr",
          "text": [
            "`use_label_encoder` is deprecated in 1.7.0.\n"
          ]
        },
        {
          "output_type": "stream",
          "name": "stdout",
          "text": [
            "[flaml.automl.logger: 09-26 15:21:51] {2391} INFO -  at 54.1s,\testimator xgboost's best error=0.1349,\tbest estimator rf's best error=0.0863\n",
            "[flaml.automl.logger: 09-26 15:21:51] {2218} INFO - iteration 41, current learner rf\n",
            "[flaml.automl.logger: 09-26 15:21:58] {2391} INFO -  at 60.4s,\testimator rf's best error=0.0863,\tbest estimator rf's best error=0.0863\n",
            "[flaml.automl.logger: 09-26 15:22:02] {2627} INFO - retrain rf for 3.7s\n",
            "[flaml.automl.logger: 09-26 15:22:02] {2630} INFO - retrained model: RandomForestClassifier(criterion='entropy', max_features=0.11313781713537083,\n",
            "                       max_leaf_nodes=101, n_estimators=19, n_jobs=-1,\n",
            "                       random_state=12032022)\n",
            "[flaml.automl.logger: 09-26 15:22:02] {1930} INFO - fit succeeded\n",
            "[flaml.automl.logger: 09-26 15:22:02] {1931} INFO - Time taken to find the best model: 17.592624187469482\n"
          ]
        }
      ]
    }
  ]
}